{
 "cells": [
  {
   "cell_type": "markdown",
   "metadata": {},
   "source": [
    "# Описание проекта"
   ]
  },
  {
   "cell_type": "markdown",
   "metadata": {},
   "source": [
    "###  Общая информация:\n",
    "Оператор мобильной связи «Мегалайн» выяснил: многие клиенты пользуются архивными тарифами. Они хотят построить систему, способную проанализировать поведение клиентов и предложить пользователям новый тариф: «Смарт» или «Ультра».\n",
    "\n",
    "###  Цель исследования: \n",
    "Нужно построить модель для задачи классификации, которая выберет подходящий тариф. Постройте модель с максимально большим значением accuracy. Чтобы сдать проект успешно, нужно довести долю правильных ответов по крайней мере до 0.75. Проверьте accuracy на тестовой выборке самостоятельно.\n",
    "\n",
    "###  Данные:\n",
    "Данные о поведении клиентов, которые уже перешли на эти тарифы (из проекта курса «Статистический анализ данных»). \n",
    "\n",
    "###  Описание данных:\n",
    "Каждый объект в наборе данных — это информация о поведении одного пользователя за месяц. Известно:\n",
    "\n",
    "- `сalls` — количество звонков;\n",
    "- `minutes` — суммарная длительность звонков в минутах; \n",
    "- `messages` — количество sms-сообщений;\n",
    "- `mb_used` — израсходованный интернет-трафик в Мб;\n",
    "- `is_ultra` — каким тарифом пользовался в течение месяца («Ультра» — 1, «Смарт» — 0); \n",
    "\n",
    "###  Ход исследования:\n",
    "1. Открыть файл с данными и изучить общую информацию.\n",
    "2. Предобработка данных не понадобится — мы её уже сделали.\n",
    "3. Разделить исходные данные на обучающую, валидационную и тестовую выборки.\n",
    "4. Исследовать качество разных моделей, меняя гиперпараметры. Кратко написать выводы исследования.\n",
    "5. Проверить качество модели на тестовой выборке.\n",
    "6. Дополнительное задание: проверить модели на вменяемость. \n",
    "7. Общий вывод.\n"
   ]
  },
  {
   "cell_type": "markdown",
   "metadata": {},
   "source": [
    "# 1. Откройте файл с данными и изучите общую информацию."
   ]
  },
  {
   "cell_type": "markdown",
   "metadata": {},
   "source": [
    "**1.Загружаем данные из файла в датафрейм.**"
   ]
  },
  {
   "cell_type": "code",
   "execution_count": 1,
   "metadata": {},
   "outputs": [],
   "source": [
    "# импортируем библиотеки в самом начале\n",
    "\n",
    "import pandas as pd\n",
    "import numpy as np\n",
    "import seaborn as sns\n",
    "import matplotlib.pyplot as plt\n",
    "\n",
    "\n",
    "from tqdm import tqdm\n",
    "from sklearn import tree\n",
    "from sklearn.tree import DecisionTreeClassifier\n",
    "from sklearn.dummy import DummyClassifier\n",
    "from sklearn.metrics import accuracy_score\n",
    "from sklearn.ensemble import RandomForestClassifier\n",
    "from sklearn.linear_model import LogisticRegression\n",
    "from sklearn.model_selection import train_test_split\n",
    "from sklearn.model_selection import GridSearchCV"
   ]
  },
  {
   "cell_type": "code",
   "execution_count": 2,
   "metadata": {},
   "outputs": [],
   "source": [
    "# безопасно открываем файл\n",
    "try:\n",
    "    df = pd.read_csv('/datasets/users_behavior.csv')\n",
    "except:\n",
    "    df = pd.read_csv('https://code.s3.yandex.net/datasets/users_behavior.csv')"
   ]
  },
  {
   "cell_type": "markdown",
   "metadata": {},
   "source": [
    "**2. Изучаем общую информацию о полученном датафрейме.**"
   ]
  },
  {
   "cell_type": "markdown",
   "metadata": {},
   "source": [
    "2.1. Выводим первые 10 строчек датафрейма df на экран."
   ]
  },
  {
   "cell_type": "code",
   "execution_count": 3,
   "metadata": {},
   "outputs": [
    {
     "data": {
      "text/html": [
       "<div>\n",
       "<style scoped>\n",
       "    .dataframe tbody tr th:only-of-type {\n",
       "        vertical-align: middle;\n",
       "    }\n",
       "\n",
       "    .dataframe tbody tr th {\n",
       "        vertical-align: top;\n",
       "    }\n",
       "\n",
       "    .dataframe thead th {\n",
       "        text-align: right;\n",
       "    }\n",
       "</style>\n",
       "<table border=\"1\" class=\"dataframe\">\n",
       "  <thead>\n",
       "    <tr style=\"text-align: right;\">\n",
       "      <th></th>\n",
       "      <th>calls</th>\n",
       "      <th>minutes</th>\n",
       "      <th>messages</th>\n",
       "      <th>mb_used</th>\n",
       "      <th>is_ultra</th>\n",
       "    </tr>\n",
       "  </thead>\n",
       "  <tbody>\n",
       "    <tr>\n",
       "      <th>0</th>\n",
       "      <td>40.0</td>\n",
       "      <td>311.90</td>\n",
       "      <td>83.0</td>\n",
       "      <td>19915.42</td>\n",
       "      <td>0</td>\n",
       "    </tr>\n",
       "    <tr>\n",
       "      <th>1</th>\n",
       "      <td>85.0</td>\n",
       "      <td>516.75</td>\n",
       "      <td>56.0</td>\n",
       "      <td>22696.96</td>\n",
       "      <td>0</td>\n",
       "    </tr>\n",
       "    <tr>\n",
       "      <th>2</th>\n",
       "      <td>77.0</td>\n",
       "      <td>467.66</td>\n",
       "      <td>86.0</td>\n",
       "      <td>21060.45</td>\n",
       "      <td>0</td>\n",
       "    </tr>\n",
       "    <tr>\n",
       "      <th>3</th>\n",
       "      <td>106.0</td>\n",
       "      <td>745.53</td>\n",
       "      <td>81.0</td>\n",
       "      <td>8437.39</td>\n",
       "      <td>1</td>\n",
       "    </tr>\n",
       "    <tr>\n",
       "      <th>4</th>\n",
       "      <td>66.0</td>\n",
       "      <td>418.74</td>\n",
       "      <td>1.0</td>\n",
       "      <td>14502.75</td>\n",
       "      <td>0</td>\n",
       "    </tr>\n",
       "    <tr>\n",
       "      <th>5</th>\n",
       "      <td>58.0</td>\n",
       "      <td>344.56</td>\n",
       "      <td>21.0</td>\n",
       "      <td>15823.37</td>\n",
       "      <td>0</td>\n",
       "    </tr>\n",
       "    <tr>\n",
       "      <th>6</th>\n",
       "      <td>57.0</td>\n",
       "      <td>431.64</td>\n",
       "      <td>20.0</td>\n",
       "      <td>3738.90</td>\n",
       "      <td>1</td>\n",
       "    </tr>\n",
       "    <tr>\n",
       "      <th>7</th>\n",
       "      <td>15.0</td>\n",
       "      <td>132.40</td>\n",
       "      <td>6.0</td>\n",
       "      <td>21911.60</td>\n",
       "      <td>0</td>\n",
       "    </tr>\n",
       "    <tr>\n",
       "      <th>8</th>\n",
       "      <td>7.0</td>\n",
       "      <td>43.39</td>\n",
       "      <td>3.0</td>\n",
       "      <td>2538.67</td>\n",
       "      <td>1</td>\n",
       "    </tr>\n",
       "    <tr>\n",
       "      <th>9</th>\n",
       "      <td>90.0</td>\n",
       "      <td>665.41</td>\n",
       "      <td>38.0</td>\n",
       "      <td>17358.61</td>\n",
       "      <td>0</td>\n",
       "    </tr>\n",
       "  </tbody>\n",
       "</table>\n",
       "</div>"
      ],
      "text/plain": [
       "   calls  minutes  messages   mb_used  is_ultra\n",
       "0   40.0   311.90      83.0  19915.42         0\n",
       "1   85.0   516.75      56.0  22696.96         0\n",
       "2   77.0   467.66      86.0  21060.45         0\n",
       "3  106.0   745.53      81.0   8437.39         1\n",
       "4   66.0   418.74       1.0  14502.75         0\n",
       "5   58.0   344.56      21.0  15823.37         0\n",
       "6   57.0   431.64      20.0   3738.90         1\n",
       "7   15.0   132.40       6.0  21911.60         0\n",
       "8    7.0    43.39       3.0   2538.67         1\n",
       "9   90.0   665.41      38.0  17358.61         0"
      ]
     },
     "execution_count": 3,
     "metadata": {},
     "output_type": "execute_result"
    }
   ],
   "source": [
    "df.head(10)"
   ]
  },
  {
   "cell_type": "markdown",
   "metadata": {},
   "source": [
    "2.2. Выведем основную информацию о датафрейме."
   ]
  },
  {
   "cell_type": "code",
   "execution_count": 4,
   "metadata": {},
   "outputs": [
    {
     "name": "stdout",
     "output_type": "stream",
     "text": [
      "<class 'pandas.core.frame.DataFrame'>\n",
      "RangeIndex: 3214 entries, 0 to 3213\n",
      "Data columns (total 5 columns):\n",
      " #   Column    Non-Null Count  Dtype  \n",
      "---  ------    --------------  -----  \n",
      " 0   calls     3214 non-null   float64\n",
      " 1   minutes   3214 non-null   float64\n",
      " 2   messages  3214 non-null   float64\n",
      " 3   mb_used   3214 non-null   float64\n",
      " 4   is_ultra  3214 non-null   int64  \n",
      "dtypes: float64(4), int64(1)\n",
      "memory usage: 125.7 KB\n"
     ]
    }
   ],
   "source": [
    "df.info()"
   ]
  },
  {
   "cell_type": "markdown",
   "metadata": {},
   "source": [
    "2.3. Узнаем, есть ли в данных пропуски и явные дубликаты."
   ]
  },
  {
   "cell_type": "code",
   "execution_count": 5,
   "metadata": {},
   "outputs": [
    {
     "data": {
      "text/plain": [
       "calls       0\n",
       "minutes     0\n",
       "messages    0\n",
       "mb_used     0\n",
       "is_ultra    0\n",
       "dtype: int64"
      ]
     },
     "execution_count": 5,
     "metadata": {},
     "output_type": "execute_result"
    }
   ],
   "source": [
    "# суммарные пропуски\n",
    "df.isna().sum().sort_values(ascending=False)"
   ]
  },
  {
   "cell_type": "code",
   "execution_count": 6,
   "metadata": {
    "scrolled": true
   },
   "outputs": [
    {
     "data": {
      "text/plain": [
       "0"
      ]
     },
     "execution_count": 6,
     "metadata": {},
     "output_type": "execute_result"
    }
   ],
   "source": [
    "# подсчет дубликатов\n",
    "df.duplicated().sum() "
   ]
  },
  {
   "cell_type": "markdown",
   "metadata": {},
   "source": [
    "#  Вывод: \n",
    "\n",
    "Данных для исследования достаточно. В предобработке они не нуждаются. следовательно, мы можем продолжить дальнейшую работу."
   ]
  },
  {
   "cell_type": "markdown",
   "metadata": {},
   "source": [
    "# 2. Предобработка данных."
   ]
  },
  {
   "cell_type": "markdown",
   "metadata": {},
   "source": [
    "В ней нет необходимости, пропустим этот пункт."
   ]
  },
  {
   "cell_type": "markdown",
   "metadata": {},
   "source": [
    "# 3. Разделим исходные данные на обучающую, валидационную и тестовую выборки."
   ]
  },
  {
   "cell_type": "markdown",
   "metadata": {},
   "source": [
    "Данные нужно разбить на три части: обучающую, валидационную и тестовую. Размеры тестового и валидационного наборов обычно равны. Исходные данные разбивают в соотношении 3:1:1.\n"
   ]
  },
  {
   "cell_type": "markdown",
   "metadata": {},
   "source": [
    "#### 3.1. Сначала отделим тестовую выборку. До этапа тестирования она нам не пригодится."
   ]
  },
  {
   "cell_type": "code",
   "execution_count": 7,
   "metadata": {},
   "outputs": [],
   "source": [
    "# тестовая выборка\n",
    "train_valid, test = train_test_split(df, test_size = 0.20, random_state = 12345)\n"
   ]
  },
  {
   "cell_type": "markdown",
   "metadata": {},
   "source": [
    "#### 3.2. Оставшиеся данные делим на обучающую и валидационную выборку."
   ]
  },
  {
   "cell_type": "code",
   "execution_count": 8,
   "metadata": {},
   "outputs": [],
   "source": [
    "# обучающая и валидационная выборка\n",
    "train, valid = train_test_split(train_valid, test_size = 0.25, random_state = 12345)"
   ]
  },
  {
   "cell_type": "markdown",
   "metadata": {},
   "source": [
    "#### 3.3. Сохраним признаки в отдельных переменных: целевой признак для нас - это \"is_ultra\", все остальные колонки, кроме целевой - нецелевые признаки."
   ]
  },
  {
   "cell_type": "code",
   "execution_count": 9,
   "metadata": {},
   "outputs": [],
   "source": [
    "# признаки для тестовой выборки\n",
    "features_test = test.drop('is_ultra', axis=1)\n",
    "target_test = test['is_ultra']\n",
    "\n",
    "# признаки для обучающей выборки\n",
    "features_train = train.drop('is_ultra', axis=1)\n",
    "target_train = train['is_ultra']\n",
    "\n",
    "# признаки для валидационной выборки\n",
    "features_valid = valid.drop('is_ultra', axis=1)\n",
    "target_valid = valid['is_ultra']"
   ]
  },
  {
   "cell_type": "markdown",
   "metadata": {},
   "source": [
    "#### 3.4. Проверим коректность разбива данных."
   ]
  },
  {
   "cell_type": "code",
   "execution_count": 10,
   "metadata": {},
   "outputs": [
    {
     "data": {
      "text/plain": [
       "'20.0%'"
      ]
     },
     "execution_count": 10,
     "metadata": {},
     "output_type": "execute_result"
    }
   ],
   "source": [
    "# процент тестовой выборки\n",
    "f'{features_test.shape[0]/df.shape[0]:.1%}'"
   ]
  },
  {
   "cell_type": "code",
   "execution_count": 11,
   "metadata": {},
   "outputs": [
    {
     "data": {
      "text/plain": [
       "'60.0%'"
      ]
     },
     "execution_count": 11,
     "metadata": {},
     "output_type": "execute_result"
    }
   ],
   "source": [
    "# процент обучающей выборки\n",
    "f'{features_train.shape[0]/df.shape[0]:.1%}'"
   ]
  },
  {
   "cell_type": "code",
   "execution_count": 12,
   "metadata": {},
   "outputs": [
    {
     "data": {
      "text/plain": [
       "'20.0%'"
      ]
     },
     "execution_count": 12,
     "metadata": {},
     "output_type": "execute_result"
    }
   ],
   "source": [
    "# процент валидационной выборки\n",
    "f'{features_valid.shape[0]/df.shape[0]:.1%}'"
   ]
  },
  {
   "cell_type": "markdown",
   "metadata": {},
   "source": [
    "#  Вывод: \n",
    "\n",
    "* Нам удалось разделить исходные данные на обучающую, валидационную и тестовую выборки в соотношение 3:1:1. \n",
    "* Также определить целевой и нецелевые признаки и подготовить данные для обучения, валидации и теста модели.\n",
    "\n",
    "Можем продолжать работу."
   ]
  },
  {
   "cell_type": "markdown",
   "metadata": {},
   "source": [
    "# 4. Исследуем качество разных моделей, меняя гиперпараметры. Кратко напишем выводы исследования."
   ]
  },
  {
   "cell_type": "markdown",
   "metadata": {},
   "source": [
    "### 4.1. Рассмотрим одну популярную модель — решающее дерево. "
   ]
  },
  {
   "cell_type": "markdown",
   "metadata": {},
   "source": [
    "**Построим модели с различными значениями глубины дерева на валидационной выборке и найдем лучшее из всех.**"
   ]
  },
  {
   "cell_type": "code",
   "execution_count": 13,
   "metadata": {},
   "outputs": [
    {
     "name": "stdout",
     "output_type": "stream",
     "text": [
      "Наилучшим значением accuracy для модели \"дерево решений\" является 0.7744945567651633 с глубиной дерева: 7\n"
     ]
    }
   ],
   "source": [
    "best_result = 0\n",
    "best_depth = 1\n",
    "\n",
    "# построим модели с глубиной дерева от 1 до 10\n",
    "for depth in range(1, 10):\n",
    "#  инициализируем модель DecisionTreeClassifier с параметрами random_state=12345 и max_depth=depth\n",
    "    model_tree = DecisionTreeClassifier(random_state=12345, max_depth=depth)\n",
    "# обучим модель на тренировочной выборке\n",
    "    model_tree.fit(features_train, target_train) \n",
    "# получим предсказания модели на валидационной выборке\n",
    "    predictions_valid = model_tree.predict(features_valid) \n",
    "# определим качество модели на валидационной выборке    \n",
    "    accuracy_valid = model_tree.score(features_valid, target_valid) \n",
    "    \n",
    "    if accuracy_valid > best_result:\n",
    "# сохраним наилучшее значение метрики accuracy на валидационных     \n",
    "        best_result = accuracy_valid\n",
    "# сохраним наилучшую глубину дерева    \n",
    "        best_depth = depth\n",
    "\n",
    "print('Наилучшим значением accuracy для модели \"дерево решений\" является', best_result, 'с глубиной дерева:', best_depth)"
   ]
  },
  {
   "cell_type": "markdown",
   "metadata": {},
   "source": [
    "Это значение превышает значение 0.75 (о котором говорится в задании), что в целом нам подходит, но посмотрим и другие модели, возможно, результаты будут лучше."
   ]
  },
  {
   "cell_type": "markdown",
   "metadata": {},
   "source": [
    "### 4.2. Рассмотрим следующую модель — случайный лес. "
   ]
  },
  {
   "cell_type": "markdown",
   "metadata": {},
   "source": [
    "**Построим модели с различными значениями глубины дерева и количества деревьев на валидационной выборке и найдем лучшее из всех.**"
   ]
  },
  {
   "cell_type": "code",
   "execution_count": 14,
   "metadata": {},
   "outputs": [
    {
     "name": "stdout",
     "output_type": "stream",
     "text": [
      "Наилучшим значением accuracy для модели \"случайный лес\" является 0.7962674961119751 с глубиной дерева: 9 и с количеством деревьев: 3\n"
     ]
    }
   ],
   "source": [
    "best_est = 0\n",
    "best_depth = 0\n",
    "best_result = 0\n",
    "\n",
    "for est in range(1, 11):\n",
    "    for depth in range (1, 10):\n",
    "# инициализируем модель RandomForestClassifier с параметрами random_state=12345, n_estimators=est и max_depth=depth\n",
    "        model_forest = RandomForestClassifier(random_state=12345, n_estimators=est, max_depth=depth) \n",
    "# обучим модель на тренировочной выборкее\n",
    "        model_forest.fit(features_train, target_train) \n",
    "# получим предсказания модели на валидационной выборке\n",
    "        predictions_valid = model_forest.predict(features_valid) \n",
    "# определим качество модели на валидационной выборке\n",
    "        accuracy_valid = model_forest.score(features_valid, target_valid) \n",
    "\n",
    "        if accuracy_valid > best_result:\n",
    "# сохраним наилучшее значение метрики accuracy на валидационных         \n",
    "            best_result = accuracy_valid \n",
    "# сохраним наилучшее кол-во деревьев \n",
    "            best_est = est        \n",
    "# сохраним наилучшую глубину дерева \n",
    "            best_depth = depth \n",
    "\n",
    "print('Наилучшим значением accuracy для модели \"случайный лес\" является', best_result, 'с глубиной дерева:', best_depth,\n",
    "       'и с количеством деревьев:', best_est)"
   ]
  },
  {
   "cell_type": "markdown",
   "metadata": {},
   "source": [
    "Это значение превышает значение 0.75 (о котором говорится в задании) и уже лучше значения модели \"решающее дерево\", что в целом нам подходит, но посмотрим и другие модели, возможно, результаты будут лучше."
   ]
  },
  {
   "cell_type": "markdown",
   "metadata": {},
   "source": [
    "### 4.3. Рассмотрим следующую модель —  логистическая регрессия. "
   ]
  },
  {
   "cell_type": "code",
   "execution_count": 15,
   "metadata": {},
   "outputs": [
    {
     "name": "stdout",
     "output_type": "stream",
     "text": [
      "Наилучшим значением accuracy для модели \"логистическая регрессия\" является 0.7262830482115086\n"
     ]
    }
   ],
   "source": [
    "# первый гиперпараметр позволяет выбрать алгоритм, который будет строить модель. \n",
    "# алгоритм 'lbfgs' — один из самых распространённых. Он подходит для большинства задач. \n",
    "# гиперпараметром max_iter задаётся максимальное количество итераций обучения. \n",
    "# значение этого параметра по умолчанию равно 1000, но в некоторых случаях понадобится больше итераций\n",
    "model_logistic = LogisticRegression(random_state=12345, solver='lbfgs', max_iter=1000) \n",
    "# обучим модель на тренировочной выборкее\n",
    "model_logistic.fit(features_train, target_train) \n",
    "# получим предсказания модели на валидационной выборке\n",
    "predictions_valid = model_logistic.predict(features_valid) \n",
    "# определим качество модели на валидационной выборке\n",
    "accuracy_valid = model_logistic.score(features_valid, target_valid)\n",
    "\n",
    "print('Наилучшим значением accuracy для модели \"логистическая регрессия\" является', accuracy_valid)"
   ]
  },
  {
   "cell_type": "markdown",
   "metadata": {},
   "source": [
    "Это наименьшее полученное значение оценки качества из всех моделей. "
   ]
  },
  {
   "cell_type": "markdown",
   "metadata": {},
   "source": [
    "#  Вывод: \n",
    "\n",
    "Нам удалось исследовать качество разных моделей, меняя гиперпараметры:\n",
    "- количества деревьев(n_estimators),\n",
    "- максимальной глубины деревьев (max_depth),\n",
    "- выбора алгоритма (solver),\n",
    "- максимального количества итераций обучения (max_iter).\n",
    "\n",
    "Удалось выяснить, что наибольшее значение оценки качества из всех моделей у модели \"случайный лес\" (0.7962674961119751), далее идет \"дерево решений\" (0.7744945567651633), следующая модель - \"логистическая регрессия\" (0.7262830482115086).\n",
    "\n",
    "Следовательно, для тестовой выборки возьмем модель \"случайный лес\"."
   ]
  },
  {
   "cell_type": "markdown",
   "metadata": {},
   "source": [
    "# 5. Проверим качество модели на тестовой выборке."
   ]
  },
  {
   "cell_type": "code",
   "execution_count": 16,
   "metadata": {},
   "outputs": [
    {
     "name": "stdout",
     "output_type": "stream",
     "text": [
      "Наилучшим значением accuracy для модели \"случайный лес\" является 0.7947122861586314\n"
     ]
    }
   ],
   "source": [
    "# получим предсказания модели на тестовой выборке\n",
    "predictions_test = model_forest.predict(features_test) \n",
    "# определим качество модели на тестовой выборке\n",
    "accuracy_test = model_forest.score(features_test, target_test) \n",
    "\n",
    "print('Наилучшим значением accuracy для модели \"случайный лес\" является', accuracy_test)"
   ]
  },
  {
   "cell_type": "markdown",
   "metadata": {},
   "source": [
    "#  Вывод: \n",
    "\n",
    "Для тестовой выборки значение оценки качества у модели \"случайный лес\" (0.7947122861586314), этот показатель выше 0.75 (который указан в задании). Значит, условие мы выполнили."
   ]
  },
  {
   "cell_type": "markdown",
   "metadata": {},
   "source": [
    "#  6. Проверим модели на адекватность."
   ]
  },
  {
   "cell_type": "markdown",
   "metadata": {},
   "source": [
    "**Для проверки используем модель DummyClassifier для задач классификации.**"
   ]
  },
  {
   "cell_type": "code",
   "execution_count": 17,
   "metadata": {},
   "outputs": [
    {
     "name": "stdout",
     "output_type": "stream",
     "text": [
      "Значением accuracy для модели \"DummyClassifier\" является 0.6951788491446346\n"
     ]
    }
   ],
   "source": [
    "# создадим модель model_dummy\n",
    "dummy_clf = DummyClassifier(strategy=\"most_frequent\", random_state=12345)\n",
    "# обучим модель на обучающей выборке\n",
    "dummy_clf.fit(features_train, target_train)\n",
    "# получим предсказания модели на тестовой выборке\n",
    "dummy_clf.predict(features_test)\n",
    "# определим качество модели на тестовой выборке\n",
    "accuracy_dummy = dummy_clf.score(features_test, target_test)\n",
    "\n",
    "print('Значением accuracy для модели \"DummyClassifier\" является', accuracy_dummy)"
   ]
  },
  {
   "cell_type": "code",
   "execution_count": 18,
   "metadata": {},
   "outputs": [
    {
     "data": {
      "text/plain": [
       "0.6951788491446346"
      ]
     },
     "execution_count": 18,
     "metadata": {},
     "output_type": "execute_result"
    }
   ],
   "source": [
    "# код ревьюера\n",
    "target_test.value_counts(normalize=True)[0]"
   ]
  },
  {
   "cell_type": "markdown",
   "metadata": {},
   "source": [
    "#  Вывод: \n",
    "\n",
    "Значение аccuracy модели DummyClassifier ниже, чем у модели model_forest, следовательно, модель адекватна и эффективна."
   ]
  },
  {
   "cell_type": "markdown",
   "metadata": {},
   "source": [
    "#  7. Общий вывод."
   ]
  },
  {
   "cell_type": "markdown",
   "metadata": {},
   "source": [
    "В ходе исследования с целью разработки модели, позволяющей наиболее точно предложить пользователям мобильной связи тарифы «Смарт» или «Ультра» были выполнены следующие шаги:\n",
    "\n",
    "1. Изучена общая информация по датафрейму и отмечен ход работы.\n",
    "\n",
    "2. Проведена предобработка данных - предоставленные данные чистые.\n",
    "\n",
    "3. Были разделены исходные данные на обучающую, валидационную и тестовую выборки в соотношение 3:1:1.\n",
    "\n",
    "4. Также определены целевой и нецелевые признаки.\n",
    "\n",
    "5. Были исследованы модели Decision Tree Classifier ('дерево решений'), RandomForestClassifier ('случайный лес')и Logistic Regression ('логистическая регрессия').\n",
    "\n",
    "6. По результатам исследования наилучшую эффективность (точность/скорость) показала модель RandomForestClassifier с гиперпараметрами n_estimators равным - 3 и max_depth равным 9. Значение accuracy составило 0.7962674961119751.\n",
    "\n",
    "7. Лучшая модель RandomForestClassifier была проверена на тестовой выборке. Значение Accuracy составило 0.7947122861586314, этот показатель выше 0.75 (который указан в задании). Значит, условие мы выполнили..  \n",
    "\n",
    "9. Была проведена проверка на вменяемость - для проверки использовалась модель DummyClassifier, которая показала результат Accuracy - 0.6951788491446346. Это значение хуже, чем результат нашей лучшей модели, следовательно, модель адекватна и эффективна..\n",
    "\n",
    "Данные исследования подсвятили для нас лучшую модель, которая более эффективно подберет клиентам новый тариф."
   ]
  }
 ],
 "metadata": {
  "ExecuteTimeLog": [
   {
    "duration": 1445,
    "start_time": "2024-09-13T09:06:02.954Z"
   },
   {
    "duration": 310,
    "start_time": "2024-09-13T09:06:41.453Z"
   },
   {
    "duration": 174,
    "start_time": "2024-09-13T09:06:43.632Z"
   },
   {
    "duration": 77,
    "start_time": "2024-09-13T09:10:49.548Z"
   },
   {
    "duration": 17,
    "start_time": "2024-09-13T09:12:32.511Z"
   },
   {
    "duration": 15,
    "start_time": "2024-09-13T09:13:02.355Z"
   },
   {
    "duration": 6,
    "start_time": "2024-09-13T09:18:05.792Z"
   },
   {
    "duration": 7,
    "start_time": "2024-09-13T09:18:17.703Z"
   },
   {
    "duration": 6,
    "start_time": "2024-09-13T09:41:23.667Z"
   },
   {
    "duration": 4,
    "start_time": "2024-09-13T09:42:26.852Z"
   },
   {
    "duration": 5,
    "start_time": "2024-09-13T09:43:50.162Z"
   },
   {
    "duration": 5,
    "start_time": "2024-09-13T09:46:32.885Z"
   },
   {
    "duration": 5,
    "start_time": "2024-09-13T09:46:33.996Z"
   },
   {
    "duration": 122,
    "start_time": "2024-09-13T09:52:37.243Z"
   },
   {
    "duration": 7,
    "start_time": "2024-09-13T09:53:27.657Z"
   },
   {
    "duration": 6,
    "start_time": "2024-09-13T09:54:15.554Z"
   },
   {
    "duration": 5,
    "start_time": "2024-09-13T10:05:31.570Z"
   },
   {
    "duration": 6,
    "start_time": "2024-09-13T10:05:32.489Z"
   },
   {
    "duration": 5,
    "start_time": "2024-09-13T10:05:58.425Z"
   },
   {
    "duration": 5,
    "start_time": "2024-09-13T10:06:50.731Z"
   },
   {
    "duration": 5,
    "start_time": "2024-09-13T10:07:16.529Z"
   },
   {
    "duration": 4,
    "start_time": "2024-09-13T10:07:24.931Z"
   },
   {
    "duration": 5,
    "start_time": "2024-09-13T10:08:55.197Z"
   },
   {
    "duration": 12,
    "start_time": "2024-09-13T10:11:10.703Z"
   },
   {
    "duration": 5,
    "start_time": "2024-09-13T10:11:23.462Z"
   },
   {
    "duration": 81,
    "start_time": "2024-09-13T10:11:54.814Z"
   },
   {
    "duration": 70,
    "start_time": "2024-09-13T10:12:14.938Z"
   },
   {
    "duration": 85,
    "start_time": "2024-09-13T10:12:26.072Z"
   },
   {
    "duration": 4,
    "start_time": "2024-09-13T10:12:37.928Z"
   },
   {
    "duration": 74,
    "start_time": "2024-09-13T10:12:45.568Z"
   },
   {
    "duration": 76,
    "start_time": "2024-09-13T10:13:03.801Z"
   },
   {
    "duration": 71,
    "start_time": "2024-09-13T10:13:18.426Z"
   },
   {
    "duration": 3,
    "start_time": "2024-09-13T10:13:28.827Z"
   },
   {
    "duration": 3,
    "start_time": "2024-09-13T10:13:39.097Z"
   },
   {
    "duration": 94,
    "start_time": "2024-09-13T10:13:44.491Z"
   },
   {
    "duration": 72,
    "start_time": "2024-09-13T10:13:51.986Z"
   },
   {
    "duration": 72,
    "start_time": "2024-09-13T10:14:09.361Z"
   },
   {
    "duration": 4,
    "start_time": "2024-09-13T10:14:26.306Z"
   },
   {
    "duration": 4,
    "start_time": "2024-09-13T10:17:53.870Z"
   },
   {
    "duration": 4,
    "start_time": "2024-09-13T10:19:01.760Z"
   },
   {
    "duration": 3,
    "start_time": "2024-09-13T10:19:05.159Z"
   },
   {
    "duration": 23,
    "start_time": "2024-09-13T10:45:29.225Z"
   },
   {
    "duration": 34,
    "start_time": "2024-09-13T10:49:44.815Z"
   },
   {
    "duration": 61,
    "start_time": "2024-09-13T10:49:59.080Z"
   },
   {
    "duration": 108,
    "start_time": "2024-09-13T10:50:07.319Z"
   },
   {
    "duration": 514,
    "start_time": "2024-09-13T10:50:12.919Z"
   },
   {
    "duration": 26,
    "start_time": "2024-09-13T10:50:20.422Z"
   },
   {
    "duration": 1105,
    "start_time": "2024-09-13T10:50:29.232Z"
   },
   {
    "duration": 167,
    "start_time": "2024-09-13T10:53:24.010Z"
   },
   {
    "duration": 177,
    "start_time": "2024-09-13T10:54:47.300Z"
   },
   {
    "duration": 185,
    "start_time": "2024-09-13T10:54:54.949Z"
   },
   {
    "duration": 178,
    "start_time": "2024-09-13T10:55:12.363Z"
   },
   {
    "duration": 168,
    "start_time": "2024-09-13T10:55:24.177Z"
   },
   {
    "duration": 192,
    "start_time": "2024-09-13T10:57:06.096Z"
   },
   {
    "duration": 15,
    "start_time": "2024-09-13T10:59:16.001Z"
   },
   {
    "duration": 144,
    "start_time": "2024-09-13T11:00:40.385Z"
   },
   {
    "duration": 73,
    "start_time": "2024-09-13T11:12:23.489Z"
   },
   {
    "duration": 23,
    "start_time": "2024-09-13T11:12:39.111Z"
   },
   {
    "duration": 19,
    "start_time": "2024-09-13T11:13:34.256Z"
   },
   {
    "duration": 134,
    "start_time": "2024-09-13T11:14:16.812Z"
   },
   {
    "duration": 220,
    "start_time": "2024-09-13T11:14:47.520Z"
   },
   {
    "duration": 196,
    "start_time": "2024-09-13T11:14:51.298Z"
   },
   {
    "duration": 625,
    "start_time": "2024-09-13T11:14:57.516Z"
   },
   {
    "duration": 16,
    "start_time": "2024-09-13T11:16:45.091Z"
   },
   {
    "duration": 607,
    "start_time": "2024-09-13T11:16:46.028Z"
   },
   {
    "duration": 3112,
    "start_time": "2024-09-13T11:17:18.844Z"
   },
   {
    "duration": 109,
    "start_time": "2024-09-13T11:17:30.744Z"
   },
   {
    "duration": 599,
    "start_time": "2024-09-13T11:18:25.381Z"
   },
   {
    "duration": 611,
    "start_time": "2024-09-13T11:21:44.061Z"
   },
   {
    "duration": 629,
    "start_time": "2024-09-13T11:22:07.403Z"
   },
   {
    "duration": 610,
    "start_time": "2024-09-13T11:23:33.284Z"
   },
   {
    "duration": 531,
    "start_time": "2024-09-13T11:24:55.244Z"
   },
   {
    "duration": 509,
    "start_time": "2024-09-13T11:25:51.614Z"
   },
   {
    "duration": 16,
    "start_time": "2024-09-13T11:27:55.330Z"
   },
   {
    "duration": 75,
    "start_time": "2024-09-13T12:46:48.279Z"
   },
   {
    "duration": 16,
    "start_time": "2024-09-13T12:47:04.390Z"
   },
   {
    "duration": 558,
    "start_time": "2024-09-13T12:54:17.203Z"
   },
   {
    "duration": 539,
    "start_time": "2024-09-13T12:54:33.307Z"
   },
   {
    "duration": 1624,
    "start_time": "2024-09-13T12:59:13.651Z"
   },
   {
    "duration": 31,
    "start_time": "2024-09-13T12:59:15.277Z"
   },
   {
    "duration": 29,
    "start_time": "2024-09-13T12:59:15.320Z"
   },
   {
    "duration": 14,
    "start_time": "2024-09-13T12:59:16.087Z"
   },
   {
    "duration": 6,
    "start_time": "2024-09-13T12:59:16.846Z"
   },
   {
    "duration": 7,
    "start_time": "2024-09-13T12:59:17.215Z"
   },
   {
    "duration": 6,
    "start_time": "2024-09-13T12:59:19.864Z"
   },
   {
    "duration": 5,
    "start_time": "2024-09-13T12:59:20.630Z"
   },
   {
    "duration": 121,
    "start_time": "2024-09-13T12:59:21.343Z"
   },
   {
    "duration": 9,
    "start_time": "2024-09-13T12:59:21.647Z"
   },
   {
    "duration": 9,
    "start_time": "2024-09-13T12:59:21.910Z"
   },
   {
    "duration": 6,
    "start_time": "2024-09-13T12:59:49.088Z"
   },
   {
    "duration": 4,
    "start_time": "2024-09-13T12:59:50.024Z"
   },
   {
    "duration": 4,
    "start_time": "2024-09-13T12:59:50.433Z"
   },
   {
    "duration": 5,
    "start_time": "2024-09-13T12:59:50.815Z"
   },
   {
    "duration": 4,
    "start_time": "2024-09-13T13:00:06.728Z"
   },
   {
    "duration": 4,
    "start_time": "2024-09-13T13:00:07.210Z"
   },
   {
    "duration": 4,
    "start_time": "2024-09-13T13:00:07.683Z"
   },
   {
    "duration": 18,
    "start_time": "2024-09-13T13:00:14.690Z"
   },
   {
    "duration": 568,
    "start_time": "2024-09-13T13:00:17.089Z"
   },
   {
    "duration": 13969,
    "start_time": "2024-09-13T13:00:23.065Z"
   },
   {
    "duration": 1910,
    "start_time": "2024-09-13T13:00:56.781Z"
   },
   {
    "duration": 542,
    "start_time": "2024-09-13T13:01:00.650Z"
   },
   {
    "duration": 64,
    "start_time": "2024-09-13T13:08:59.420Z"
   },
   {
    "duration": 2030,
    "start_time": "2024-09-13T13:09:05.969Z"
   },
   {
    "duration": 44,
    "start_time": "2024-09-13T13:19:10.535Z"
   },
   {
    "duration": 64,
    "start_time": "2024-09-13T13:23:20.641Z"
   },
   {
    "duration": 65,
    "start_time": "2024-09-13T13:47:20.711Z"
   },
   {
    "duration": 70,
    "start_time": "2024-09-13T13:48:09.190Z"
   },
   {
    "duration": 81,
    "start_time": "2024-09-13T13:50:00.198Z"
   },
   {
    "duration": 1895,
    "start_time": "2024-09-13T13:50:14.661Z"
   },
   {
    "duration": 42,
    "start_time": "2024-09-13T13:50:56.190Z"
   },
   {
    "duration": 42,
    "start_time": "2024-09-13T13:52:24.592Z"
   },
   {
    "duration": 35,
    "start_time": "2024-09-13T13:53:21.097Z"
   },
   {
    "duration": 10,
    "start_time": "2024-09-13T13:55:08.374Z"
   },
   {
    "duration": 30,
    "start_time": "2024-09-13T13:57:57.548Z"
   },
   {
    "duration": 13,
    "start_time": "2024-09-13T13:59:23.837Z"
   },
   {
    "duration": 14,
    "start_time": "2024-09-13T14:17:38.272Z"
   },
   {
    "duration": 71,
    "start_time": "2024-09-13T14:18:26.611Z"
   },
   {
    "duration": 91,
    "start_time": "2024-09-13T14:18:46.131Z"
   },
   {
    "duration": 6,
    "start_time": "2024-09-13T14:19:42.675Z"
   },
   {
    "duration": 5,
    "start_time": "2024-09-13T14:41:40.369Z"
   },
   {
    "duration": 36,
    "start_time": "2024-09-13T14:41:40.828Z"
   },
   {
    "duration": 12,
    "start_time": "2024-09-13T14:41:42.105Z"
   },
   {
    "duration": 13,
    "start_time": "2024-09-13T14:41:42.987Z"
   },
   {
    "duration": 7,
    "start_time": "2024-09-13T14:41:43.748Z"
   },
   {
    "duration": 7,
    "start_time": "2024-09-13T14:41:44.131Z"
   },
   {
    "duration": 5,
    "start_time": "2024-09-13T14:41:47.036Z"
   },
   {
    "duration": 5,
    "start_time": "2024-09-13T14:41:47.778Z"
   },
   {
    "duration": 6,
    "start_time": "2024-09-13T14:41:48.147Z"
   },
   {
    "duration": 4,
    "start_time": "2024-09-13T14:41:48.515Z"
   },
   {
    "duration": 4,
    "start_time": "2024-09-13T14:41:48.698Z"
   },
   {
    "duration": 4,
    "start_time": "2024-09-13T14:41:48.907Z"
   },
   {
    "duration": 74,
    "start_time": "2024-09-13T14:41:50.052Z"
   },
   {
    "duration": 1843,
    "start_time": "2024-09-13T14:41:50.860Z"
   },
   {
    "duration": 50,
    "start_time": "2024-09-13T14:41:52.705Z"
   },
   {
    "duration": 16,
    "start_time": "2024-09-13T14:41:53.892Z"
   },
   {
    "duration": 7,
    "start_time": "2024-09-13T14:41:54.717Z"
   },
   {
    "duration": 46,
    "start_time": "2024-09-13T14:52:53.081Z"
   },
   {
    "duration": 2207,
    "start_time": "2024-09-13T15:12:33.392Z"
   },
   {
    "duration": 77,
    "start_time": "2024-09-13T15:12:35.600Z"
   },
   {
    "duration": 13,
    "start_time": "2024-09-13T15:12:35.678Z"
   },
   {
    "duration": 75,
    "start_time": "2024-09-13T15:12:35.693Z"
   },
   {
    "duration": 33,
    "start_time": "2024-09-13T15:12:35.770Z"
   },
   {
    "duration": 27,
    "start_time": "2024-09-13T15:12:35.805Z"
   },
   {
    "duration": 191,
    "start_time": "2024-09-13T15:12:35.834Z"
   },
   {
    "duration": 78,
    "start_time": "2024-09-13T15:12:36.027Z"
   },
   {
    "duration": 33,
    "start_time": "2024-09-13T15:12:36.106Z"
   },
   {
    "duration": 6,
    "start_time": "2024-09-13T15:12:36.140Z"
   },
   {
    "duration": 56,
    "start_time": "2024-09-13T15:12:36.147Z"
   },
   {
    "duration": 27,
    "start_time": "2024-09-13T15:12:36.204Z"
   },
   {
    "duration": 81,
    "start_time": "2024-09-13T15:12:36.232Z"
   },
   {
    "duration": 1422,
    "start_time": "2024-09-13T15:12:36.314Z"
   },
   {
    "duration": 26,
    "start_time": "2024-09-13T15:12:37.737Z"
   },
   {
    "duration": 41,
    "start_time": "2024-09-13T15:12:37.764Z"
   },
   {
    "duration": 35,
    "start_time": "2024-09-13T15:12:37.806Z"
   },
   {
    "duration": 5,
    "start_time": "2024-09-13T15:13:04.209Z"
   }
  ],
  "kernelspec": {
   "display_name": "Python 3 (ipykernel)",
   "language": "python",
   "name": "python3"
  },
  "language_info": {
   "codemirror_mode": {
    "name": "ipython",
    "version": 3
   },
   "file_extension": ".py",
   "mimetype": "text/x-python",
   "name": "python",
   "nbconvert_exporter": "python",
   "pygments_lexer": "ipython3",
   "version": "3.12.4"
  },
  "toc": {
   "base_numbering": 1,
   "nav_menu": {},
   "number_sections": false,
   "sideBar": true,
   "skip_h1_title": false,
   "title_cell": "Table of Contents",
   "title_sidebar": "Contents",
   "toc_cell": false,
   "toc_position": {
    "height": "calc(100% - 180px)",
    "left": "10px",
    "top": "150px",
    "width": "341.333px"
   },
   "toc_section_display": true,
   "toc_window_display": false
  }
 },
 "nbformat": 4,
 "nbformat_minor": 4
}
