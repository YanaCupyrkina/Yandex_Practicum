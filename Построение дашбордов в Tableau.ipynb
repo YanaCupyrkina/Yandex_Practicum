{
 "cells": [
  {
   "cell_type": "markdown",
   "id": "4e1d31b9",
   "metadata": {},
   "source": [
    "**Проект: Построение дашбордов в Tableau**\n",
    "\n",
    "1. Описание проекта\n",
    "TED (от англ technology, education, design — технологии, образование, дизайн) — некоммерческий фонд, проводящий популярные конференции. Специалисты, выступающий на TED работают в самых разных областях и проводят короткие выступления на актуальные социальные, культурные и научные темы. \n",
    "\n",
    "2. Описание данных\n",
    "tableau_project_data_1.csv\n",
    "tableau_project_data_2.csv\n",
    "tableau_project_data_3.csv\n",
    "tableau_project_event_dict.csv\n",
    "tableau_project_speakers_dict.csv\n",
    "tableau_project_data_1.csv, tableau_project_data_2.csv, tableau_project_data_3.csv — данные выступлений. Все три файла имеют одинаковую структуру полей:\n",
    "talk_id — идентификатор выступления\n",
    "url — ссылка на запись выступления\n",
    "title — название выступления\n",
    "description — краткое описание\n",
    "film_date — дата записи выступления\n",
    "duration — длительность в секундах\n",
    "views — количество просмотров\n",
    "main_tag — основная категория, к которой относится выступление\n",
    "speaker_id — уникальный идентификатор автора выступления\n",
    "laughter_count — количество раз, когда аудитория смеялась в ходе выступления\n",
    "applause_count — количество раз, когда аудитория апложировала в ходе выступления\n",
    "language — язык, на котором велось выступление\n",
    "event_id — уникальный идентификатор конференции\n",
    "tableau_project_event_dict.csv — справочник конференций. Поля таблицы:\n",
    "conf_id — уникальный идентификатор конференци\n",
    "event — название конференции\n",
    "country — страна проведения конференции\n",
    "tableau_project_speakers_dict.csv — справочник авторов выступления. Поля таблицы:\n",
    "author_id — уникальный идентификатор автора выступления\n",
    "speaker_name — имя автора\n",
    "speaker_occupation — профессиональная область автора\n",
    "speaker_description — описание профессиональной дятельности автора.\n",
    "\n",
    "3. В этом проекте вы с помощью Tableau исследуете историю TED-конфренций.\n"
   ]
  },
  {
   "cell_type": "markdown",
   "id": "c5c11ea9",
   "metadata": {},
   "source": [
    "**Ссылка на проект.**"
   ]
  },
  {
   "cell_type": "markdown",
   "id": "13e1a1c3",
   "metadata": {},
   "source": [
    "https://public.tableau.com/views/__17297982418530/sheet15?:language=en-US&:sid=&:redirect=auth&:display_count=n&:origin=viz_share_link"
   ]
  }
 ],
 "metadata": {
  "kernelspec": {
   "display_name": "Python 3 (ipykernel)",
   "language": "python",
   "name": "python3"
  },
  "language_info": {
   "codemirror_mode": {
    "name": "ipython",
    "version": 3
   },
   "file_extension": ".py",
   "mimetype": "text/x-python",
   "name": "python",
   "nbconvert_exporter": "python",
   "pygments_lexer": "ipython3",
   "version": "3.12.4"
  },
  "toc": {
   "base_numbering": 1,
   "nav_menu": {},
   "number_sections": true,
   "sideBar": true,
   "skip_h1_title": true,
   "title_cell": "Table of Contents",
   "title_sidebar": "Contents",
   "toc_cell": false,
   "toc_position": {},
   "toc_section_display": true,
   "toc_window_display": false
  }
 },
 "nbformat": 4,
 "nbformat_minor": 5
}
