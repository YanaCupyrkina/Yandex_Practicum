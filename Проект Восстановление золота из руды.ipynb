{
 "cells": [
  {
   "cell_type": "markdown",
   "metadata": {
    "toc": true
   },
   "source": [
    "<h1>Содержание<span class=\"tocSkip\"></span></h1>\n",
    "<div class=\"toc\"><ul class=\"toc-item\"><li><span><a href=\"#Результат-ревью:\" data-toc-modified-id=\"Результат-ревью:-1\">Результат ревью:</a></span></li><li><span><a href=\"#Описание-проекта-&quot;Восстановление-золота-из-руды&quot;.\" data-toc-modified-id=\"Описание-проекта-&quot;Восстановление-золота-из-руды&quot;.-2\">Описание проекта \"Восстановление золота из руды\".</a></span><ul class=\"toc-item\"><li><ul class=\"toc-item\"><li><span><a href=\"#Общая-информация:\" data-toc-modified-id=\"Общая-информация:-2.0.1\">Общая информация:</a></span></li><li><span><a href=\"#Цель-исследования:\" data-toc-modified-id=\"Цель-исследования:-2.0.2\">Цель исследования:</a></span></li><li><span><a href=\"#Данные:\" data-toc-modified-id=\"Данные:-2.0.3\">Данные:</a></span></li><li><span><a href=\"#Описание-данных:\" data-toc-modified-id=\"Описание-данных:-2.0.4\">Описание данных:</a></span></li><li><span><a href=\"#Ход-исследования:\" data-toc-modified-id=\"Ход-исследования:-2.0.5\">Ход исследования:</a></span></li></ul></li></ul></li><li><span><a href=\"#1.-Подготовка-данных.\" data-toc-modified-id=\"1.-Подготовка-данных.-3\">1. Подготовка данных.</a></span><ul class=\"toc-item\"><li><ul class=\"toc-item\"><li><span><a href=\"#1.-Открываем-файлы-и-изучаем-их.\" data-toc-modified-id=\"1.-Открываем-файлы-и-изучаем-их.-3.0.1\">1. Открываем файлы и изучаем их.</a></span></li><li><span><a href=\"#2.-Проверяем,-что-эффективность-обогащения-рассчитана-правильно.\" data-toc-modified-id=\"2.-Проверяем,-что-эффективность-обогащения-рассчитана-правильно.-3.0.2\">2. Проверяем, что эффективность обогащения рассчитана правильно.</a></span></li><li><span><a href=\"#3.-Анализируем-признаки,-недоступные-в-тестовой-выборке.\" data-toc-modified-id=\"3.-Анализируем-признаки,-недоступные-в-тестовой-выборке.-3.0.3\">3. Анализируем признаки, недоступные в тестовой выборке.</a></span></li><li><span><a href=\"#4.-Проводим-предобработку-данных.\" data-toc-modified-id=\"4.-Проводим-предобработку-данных.-3.0.4\">4. Проводим предобработку данных.</a></span></li></ul></li></ul></li><li><span><a href=\"#Вывод.\" data-toc-modified-id=\"Вывод.-4\">Вывод.</a></span></li><li><span><a href=\"#2.-Анализ-данных\" data-toc-modified-id=\"2.-Анализ-данных-5\">2. Анализ данных</a></span><ul class=\"toc-item\"><li><ul class=\"toc-item\"><li><span><a href=\"#1.-Посмотрим,-как-меняется-концентрация-металлов-(Au,-Ag,-Pb)-на-различных-этапах-очистки.\" data-toc-modified-id=\"1.-Посмотрим,-как-меняется-концентрация-металлов-(Au,-Ag,-Pb)-на-различных-этапах-очистки.-5.0.1\">1. Посмотрим, как меняется концентрация металлов (Au, Ag, Pb) на различных этапах очистки.</a></span></li><li><span><a href=\"#2.-Сравним-распределения-размеров-гранул-сырья-на-обучающей-и-тестовой-выборках.\" data-toc-modified-id=\"2.-Сравним-распределения-размеров-гранул-сырья-на-обучающей-и-тестовой-выборках.-5.0.2\">2. Сравним распределения размеров гранул сырья на обучающей и тестовой выборках.</a></span></li><li><span><a href=\"#3.-Исследуем-суммарную-концентрацию-всех-веществ-на-разных-стадиях:-в-сырье,-в-черновом-и-финальном-концентратах.\" data-toc-modified-id=\"3.-Исследуем-суммарную-концентрацию-всех-веществ-на-разных-стадиях:-в-сырье,-в-черновом-и-финальном-концентратах.-5.0.3\">3. Исследуем суммарную концентрацию всех веществ на разных стадиях: в сырье, в черновом и финальном концентратах.</a></span></li></ul></li></ul></li><li><span><a href=\"#Вывод.\" data-toc-modified-id=\"Вывод.-6\">Вывод.</a></span></li><li><span><a href=\"#3.-Модель\" data-toc-modified-id=\"3.-Модель-7\">3. Модель</a></span><ul class=\"toc-item\"><li><ul class=\"toc-item\"><li><span><a href=\"#1.-Написать-функцию-для-вычисления-итоговой-sMAPE.\" data-toc-modified-id=\"1.-Написать-функцию-для-вычисления-итоговой-sMAPE.-7.0.1\">1. Написать функцию для вычисления итоговой sMAPE.</a></span></li><li><span><a href=\"#2.-Обучить-разные-модели-и-оцените-их-качество.\" data-toc-modified-id=\"2.-Обучить-разные-модели-и-оцените-их-качество.-7.0.2\">2. Обучить разные модели и оцените их качество.</a></span></li><li><span><a href=\"#3.Выбрать-лучшую-модель,-оценить-её-качество-на-тестовой-выборке.\" data-toc-modified-id=\"3.Выбрать-лучшую-модель,-оценить-её-качество-на-тестовой-выборке.-7.0.3\">3.Выбрать лучшую модель, оценить её качество на тестовой выборке.</a></span></li></ul></li></ul></li><li><span><a href=\"#Вывод.\" data-toc-modified-id=\"Вывод.-8\">Вывод.</a></span></li><li><span><a href=\"#4.-Итоговый-вывод.\" data-toc-modified-id=\"4.-Итоговый-вывод.-9\">4. Итоговый вывод.</a></span></li><li><span><a href=\"#Результат-ревью:\" data-toc-modified-id=\"Результат-ревью:-10\">Результат ревью:</a></span></li></ul></div>"
   ]
  },
  {
   "cell_type": "markdown",
   "metadata": {},
   "source": [
    "# Описание проекта \"Восстановление золота из руды\"."
   ]
  },
  {
   "cell_type": "markdown",
   "metadata": {},
   "source": [
    "###  Общая информация:\n",
    "Компания \"Цифра\" разрабатывает решения для эффективной работы промышленных предприятий. \n",
    "\n",
    "###  Цель исследования: \n",
    "Нужно подготовить прототип модели машинного обучения для «Цифры». Требования к модели:\n",
    "- модель должна предсказать коэффициент восстановления золота из золотосодержащей руды,\n",
    "- модель поможет оптимизировать производство, чтобы не запускать предприятие с убыточными характеристиками.\n",
    "\n",
    "###  Данные:\n",
    "Данные находятся в трёх файлах:\n",
    "* gold_recovery_train_new.csv — обучающая выборка;\n",
    "* gold_recovery_test_new.csv — тестовая выборка;\n",
    "* gold_recovery_full_new.csv — исходные данные.\n",
    "\n",
    "Данные индексируются датой и временем получения информации (признак date). Соседние по времени параметры часто похожи.\n",
    "Некоторые параметры недоступны, потому что замеряются и/или рассчитываются значительно позже. Из-за этого в тестовой выборке отсутствуют некоторые признаки, которые могут быть в обучающей. Также в тестовом наборе нет целевых признаков.\n",
    "Исходный датасет содержит обучающую и тестовую выборки со всеми признаками.\n",
    "В нашем распоряжении сырые данные. \n",
    "\n",
    "###  Описание данных:\n",
    "\n",
    "*Технологический процесс:*\n",
    "- `Rougher feed` — исходное сырье;\n",
    "- `Rougher additions (или reagent additions)` — флотационные реагенты: Xanthate, Sulphate, Depressant Xanthate — ксантогенат (промотер, или активатор флотации); \n",
    "- `Sulphate` — сульфат (на данном производстве сульфид натрия);\n",
    "- `Depressant` — депрессант (силикат натрия);\n",
    "- `Rougher process` — флотация;\n",
    "- `Rougher tails` — отвальные хвосты; \n",
    "- `Float banks` — флотационная установка;\n",
    "- `Cleaner process` — очистка;\n",
    "- `Rougher Au` — черновой концентрат золота;\n",
    "- `Final Au` — финальный концентрат золота; \n",
    "\n",
    "*Параметры этапов:*\n",
    "- `air amount` — объём воздуха;\n",
    "- `fluid levels` — уровень жидкости;\n",
    "- `feed size` — размер гранул сырья; \n",
    "- `feed rate` — скорость подачи;  \n",
    "\n",
    "\n",
    "###  Ход исследования:\n",
    "1. Подготовить данные:\n",
    "- Открыть файлы и изучить их.\n",
    "- Проверить, что эффективность обогащения рассчитана правильно. \n",
    "- Проанализировать признаки, недоступные в тестовой выборке.\n",
    "- Провести предобработку данных.\n",
    "\n",
    "2. Проанализировать данные:\n",
    "- Посмотреть, как меняется концентрация металлов (Au, Ag, Pb) на различных этапах очистки. \n",
    "- Сравнить распределения размеров гранул сырья на обучающей и тестовой выборках. \n",
    "- Исследовать суммарную концентрацию всех веществ на разных стадиях: в сырье, в черновом и финальном концентратах. \n",
    "\n",
    "3. Построить модель:\n",
    "- Написать функцию для вычисления итоговой sMAPE.\n",
    "- Обучить разные модели и оцените их качество. \n",
    "- Выбрать лучшую модель, оценить её качество на тестовой выборке.\n",
    "\n",
    "4. Итоговый вывод."
   ]
  },
  {
   "cell_type": "markdown",
   "metadata": {},
   "source": [
    "# 1. Подготовка данных."
   ]
  },
  {
   "cell_type": "markdown",
   "metadata": {},
   "source": [
    "### 1. Открываем файлы и изучаем их."
   ]
  },
  {
   "cell_type": "code",
   "execution_count": 2,
   "metadata": {},
   "outputs": [],
   "source": [
    "# импортируем библиотеки в самом начале\n",
    "import matplotlib.pyplot as plt\n",
    "import numpy as np\n",
    "import pandas as pd\n",
    "import seaborn as sns\n",
    "\n",
    "from sklearn.ensemble import RandomForestRegressor\n",
    "from sklearn.tree import DecisionTreeRegressor\n",
    "from sklearn.linear_model import LinearRegression\n",
    "from sklearn.dummy import DummyRegressor\n",
    "\n",
    "from sklearn.impute import KNNImputer\n",
    "from sklearn.metrics import mean_absolute_error, make_scorer\n",
    "from sklearn.model_selection import GridSearchCV, cross_val_score\n",
    "from sklearn.pipeline import Pipeline, FeatureUnion\n",
    "from sklearn.preprocessing import StandardScaler\n",
    "from sklearn.model_selection import cross_val_score, GridSearchCV\n",
    "\n",
    "# добавим ключевые вводные для удобства\n",
    "objects = ['rougher.output.recovery', 'final.output.recovery']"
   ]
  },
  {
   "cell_type": "code",
   "execution_count": 3,
   "metadata": {},
   "outputs": [],
   "source": [
    "# безопасно открываем файл\n",
    "try:\n",
    "    df_train = pd.read_csv('gold_recovery_train_new.csv', index_col='date')\n",
    "    df_test = pd.read_csv('gold_recovery_test_new.csv', index_col='date')\n",
    "    df_full = pd.read_csv('gold_recovery_full_new.csv', index_col='date')\n",
    "except:\n",
    "    df_train = pd.read_csv('/datasets/gold_recovery_train_new.csv', index_col='date')\n",
    "    df_test = pd.read_csv('/datasets/gold_recovery_test_new.csv', index_col='date')\n",
    "    df_full = pd.read_csv('/datasets/gold_recovery_full_new.csv', index_col='date')"
   ]
  },
  {
   "cell_type": "code",
   "execution_count": 4,
   "metadata": {
    "scrolled": true
   },
   "outputs": [
    {
     "data": {
      "text/html": [
       "<div>\n",
       "<style scoped>\n",
       "    .dataframe tbody tr th:only-of-type {\n",
       "        vertical-align: middle;\n",
       "    }\n",
       "\n",
       "    .dataframe tbody tr th {\n",
       "        vertical-align: top;\n",
       "    }\n",
       "\n",
       "    .dataframe thead th {\n",
       "        text-align: right;\n",
       "    }\n",
       "</style>\n",
       "<table border=\"1\" class=\"dataframe\">\n",
       "  <thead>\n",
       "    <tr style=\"text-align: right;\">\n",
       "      <th></th>\n",
       "      <th>final.output.concentrate_ag</th>\n",
       "      <th>final.output.concentrate_pb</th>\n",
       "      <th>final.output.concentrate_sol</th>\n",
       "      <th>final.output.concentrate_au</th>\n",
       "      <th>final.output.recovery</th>\n",
       "      <th>final.output.tail_ag</th>\n",
       "      <th>final.output.tail_pb</th>\n",
       "      <th>final.output.tail_sol</th>\n",
       "      <th>final.output.tail_au</th>\n",
       "      <th>primary_cleaner.input.sulfate</th>\n",
       "      <th>...</th>\n",
       "      <th>secondary_cleaner.state.floatbank4_a_air</th>\n",
       "      <th>secondary_cleaner.state.floatbank4_a_level</th>\n",
       "      <th>secondary_cleaner.state.floatbank4_b_air</th>\n",
       "      <th>secondary_cleaner.state.floatbank4_b_level</th>\n",
       "      <th>secondary_cleaner.state.floatbank5_a_air</th>\n",
       "      <th>secondary_cleaner.state.floatbank5_a_level</th>\n",
       "      <th>secondary_cleaner.state.floatbank5_b_air</th>\n",
       "      <th>secondary_cleaner.state.floatbank5_b_level</th>\n",
       "      <th>secondary_cleaner.state.floatbank6_a_air</th>\n",
       "      <th>secondary_cleaner.state.floatbank6_a_level</th>\n",
       "    </tr>\n",
       "    <tr>\n",
       "      <th>date</th>\n",
       "      <th></th>\n",
       "      <th></th>\n",
       "      <th></th>\n",
       "      <th></th>\n",
       "      <th></th>\n",
       "      <th></th>\n",
       "      <th></th>\n",
       "      <th></th>\n",
       "      <th></th>\n",
       "      <th></th>\n",
       "      <th></th>\n",
       "      <th></th>\n",
       "      <th></th>\n",
       "      <th></th>\n",
       "      <th></th>\n",
       "      <th></th>\n",
       "      <th></th>\n",
       "      <th></th>\n",
       "      <th></th>\n",
       "      <th></th>\n",
       "      <th></th>\n",
       "    </tr>\n",
       "  </thead>\n",
       "  <tbody>\n",
       "    <tr>\n",
       "      <th>2016-01-15 00:00:00</th>\n",
       "      <td>6.055403</td>\n",
       "      <td>9.889648</td>\n",
       "      <td>5.507324</td>\n",
       "      <td>42.192020</td>\n",
       "      <td>70.541216</td>\n",
       "      <td>10.411962</td>\n",
       "      <td>0.895447</td>\n",
       "      <td>16.904297</td>\n",
       "      <td>2.143149</td>\n",
       "      <td>127.092003</td>\n",
       "      <td>...</td>\n",
       "      <td>14.016835</td>\n",
       "      <td>-502.488007</td>\n",
       "      <td>12.099931</td>\n",
       "      <td>-504.715942</td>\n",
       "      <td>9.925633</td>\n",
       "      <td>-498.310211</td>\n",
       "      <td>8.079666</td>\n",
       "      <td>-500.470978</td>\n",
       "      <td>14.151341</td>\n",
       "      <td>-605.841980</td>\n",
       "    </tr>\n",
       "    <tr>\n",
       "      <th>2016-01-15 01:00:00</th>\n",
       "      <td>6.029369</td>\n",
       "      <td>9.968944</td>\n",
       "      <td>5.257781</td>\n",
       "      <td>42.701629</td>\n",
       "      <td>69.266198</td>\n",
       "      <td>10.462676</td>\n",
       "      <td>0.927452</td>\n",
       "      <td>16.634514</td>\n",
       "      <td>2.224930</td>\n",
       "      <td>125.629232</td>\n",
       "      <td>...</td>\n",
       "      <td>13.992281</td>\n",
       "      <td>-505.503262</td>\n",
       "      <td>11.950531</td>\n",
       "      <td>-501.331529</td>\n",
       "      <td>10.039245</td>\n",
       "      <td>-500.169983</td>\n",
       "      <td>7.984757</td>\n",
       "      <td>-500.582168</td>\n",
       "      <td>13.998353</td>\n",
       "      <td>-599.787184</td>\n",
       "    </tr>\n",
       "    <tr>\n",
       "      <th>2016-01-15 02:00:00</th>\n",
       "      <td>6.055926</td>\n",
       "      <td>10.213995</td>\n",
       "      <td>5.383759</td>\n",
       "      <td>42.657501</td>\n",
       "      <td>68.116445</td>\n",
       "      <td>10.507046</td>\n",
       "      <td>0.953716</td>\n",
       "      <td>16.208849</td>\n",
       "      <td>2.257889</td>\n",
       "      <td>123.819808</td>\n",
       "      <td>...</td>\n",
       "      <td>14.015015</td>\n",
       "      <td>-502.520901</td>\n",
       "      <td>11.912783</td>\n",
       "      <td>-501.133383</td>\n",
       "      <td>10.070913</td>\n",
       "      <td>-500.129135</td>\n",
       "      <td>8.013877</td>\n",
       "      <td>-500.517572</td>\n",
       "      <td>14.028663</td>\n",
       "      <td>-601.427363</td>\n",
       "    </tr>\n",
       "    <tr>\n",
       "      <th>2016-01-15 03:00:00</th>\n",
       "      <td>6.047977</td>\n",
       "      <td>9.977019</td>\n",
       "      <td>4.858634</td>\n",
       "      <td>42.689819</td>\n",
       "      <td>68.347543</td>\n",
       "      <td>10.422762</td>\n",
       "      <td>0.883763</td>\n",
       "      <td>16.532835</td>\n",
       "      <td>2.146849</td>\n",
       "      <td>122.270188</td>\n",
       "      <td>...</td>\n",
       "      <td>14.036510</td>\n",
       "      <td>-500.857308</td>\n",
       "      <td>11.999550</td>\n",
       "      <td>-501.193686</td>\n",
       "      <td>9.970366</td>\n",
       "      <td>-499.201640</td>\n",
       "      <td>7.977324</td>\n",
       "      <td>-500.255908</td>\n",
       "      <td>14.005551</td>\n",
       "      <td>-599.996129</td>\n",
       "    </tr>\n",
       "    <tr>\n",
       "      <th>2016-01-15 04:00:00</th>\n",
       "      <td>6.148599</td>\n",
       "      <td>10.142511</td>\n",
       "      <td>4.939416</td>\n",
       "      <td>42.774141</td>\n",
       "      <td>66.927016</td>\n",
       "      <td>10.360302</td>\n",
       "      <td>0.792826</td>\n",
       "      <td>16.525686</td>\n",
       "      <td>2.055292</td>\n",
       "      <td>117.988169</td>\n",
       "      <td>...</td>\n",
       "      <td>14.027298</td>\n",
       "      <td>-499.838632</td>\n",
       "      <td>11.953070</td>\n",
       "      <td>-501.053894</td>\n",
       "      <td>9.925709</td>\n",
       "      <td>-501.686727</td>\n",
       "      <td>7.894242</td>\n",
       "      <td>-500.356035</td>\n",
       "      <td>13.996647</td>\n",
       "      <td>-601.496691</td>\n",
       "    </tr>\n",
       "  </tbody>\n",
       "</table>\n",
       "<p>5 rows × 86 columns</p>\n",
       "</div>"
      ],
      "text/plain": [
       "                     final.output.concentrate_ag  final.output.concentrate_pb  \\\n",
       "date                                                                            \n",
       "2016-01-15 00:00:00                     6.055403                     9.889648   \n",
       "2016-01-15 01:00:00                     6.029369                     9.968944   \n",
       "2016-01-15 02:00:00                     6.055926                    10.213995   \n",
       "2016-01-15 03:00:00                     6.047977                     9.977019   \n",
       "2016-01-15 04:00:00                     6.148599                    10.142511   \n",
       "\n",
       "                     final.output.concentrate_sol  \\\n",
       "date                                                \n",
       "2016-01-15 00:00:00                      5.507324   \n",
       "2016-01-15 01:00:00                      5.257781   \n",
       "2016-01-15 02:00:00                      5.383759   \n",
       "2016-01-15 03:00:00                      4.858634   \n",
       "2016-01-15 04:00:00                      4.939416   \n",
       "\n",
       "                     final.output.concentrate_au  final.output.recovery  \\\n",
       "date                                                                      \n",
       "2016-01-15 00:00:00                    42.192020              70.541216   \n",
       "2016-01-15 01:00:00                    42.701629              69.266198   \n",
       "2016-01-15 02:00:00                    42.657501              68.116445   \n",
       "2016-01-15 03:00:00                    42.689819              68.347543   \n",
       "2016-01-15 04:00:00                    42.774141              66.927016   \n",
       "\n",
       "                     final.output.tail_ag  final.output.tail_pb  \\\n",
       "date                                                              \n",
       "2016-01-15 00:00:00             10.411962              0.895447   \n",
       "2016-01-15 01:00:00             10.462676              0.927452   \n",
       "2016-01-15 02:00:00             10.507046              0.953716   \n",
       "2016-01-15 03:00:00             10.422762              0.883763   \n",
       "2016-01-15 04:00:00             10.360302              0.792826   \n",
       "\n",
       "                     final.output.tail_sol  final.output.tail_au  \\\n",
       "date                                                               \n",
       "2016-01-15 00:00:00              16.904297              2.143149   \n",
       "2016-01-15 01:00:00              16.634514              2.224930   \n",
       "2016-01-15 02:00:00              16.208849              2.257889   \n",
       "2016-01-15 03:00:00              16.532835              2.146849   \n",
       "2016-01-15 04:00:00              16.525686              2.055292   \n",
       "\n",
       "                     primary_cleaner.input.sulfate  ...  \\\n",
       "date                                                ...   \n",
       "2016-01-15 00:00:00                     127.092003  ...   \n",
       "2016-01-15 01:00:00                     125.629232  ...   \n",
       "2016-01-15 02:00:00                     123.819808  ...   \n",
       "2016-01-15 03:00:00                     122.270188  ...   \n",
       "2016-01-15 04:00:00                     117.988169  ...   \n",
       "\n",
       "                     secondary_cleaner.state.floatbank4_a_air  \\\n",
       "date                                                            \n",
       "2016-01-15 00:00:00                                 14.016835   \n",
       "2016-01-15 01:00:00                                 13.992281   \n",
       "2016-01-15 02:00:00                                 14.015015   \n",
       "2016-01-15 03:00:00                                 14.036510   \n",
       "2016-01-15 04:00:00                                 14.027298   \n",
       "\n",
       "                     secondary_cleaner.state.floatbank4_a_level  \\\n",
       "date                                                              \n",
       "2016-01-15 00:00:00                                 -502.488007   \n",
       "2016-01-15 01:00:00                                 -505.503262   \n",
       "2016-01-15 02:00:00                                 -502.520901   \n",
       "2016-01-15 03:00:00                                 -500.857308   \n",
       "2016-01-15 04:00:00                                 -499.838632   \n",
       "\n",
       "                     secondary_cleaner.state.floatbank4_b_air  \\\n",
       "date                                                            \n",
       "2016-01-15 00:00:00                                 12.099931   \n",
       "2016-01-15 01:00:00                                 11.950531   \n",
       "2016-01-15 02:00:00                                 11.912783   \n",
       "2016-01-15 03:00:00                                 11.999550   \n",
       "2016-01-15 04:00:00                                 11.953070   \n",
       "\n",
       "                     secondary_cleaner.state.floatbank4_b_level  \\\n",
       "date                                                              \n",
       "2016-01-15 00:00:00                                 -504.715942   \n",
       "2016-01-15 01:00:00                                 -501.331529   \n",
       "2016-01-15 02:00:00                                 -501.133383   \n",
       "2016-01-15 03:00:00                                 -501.193686   \n",
       "2016-01-15 04:00:00                                 -501.053894   \n",
       "\n",
       "                     secondary_cleaner.state.floatbank5_a_air  \\\n",
       "date                                                            \n",
       "2016-01-15 00:00:00                                  9.925633   \n",
       "2016-01-15 01:00:00                                 10.039245   \n",
       "2016-01-15 02:00:00                                 10.070913   \n",
       "2016-01-15 03:00:00                                  9.970366   \n",
       "2016-01-15 04:00:00                                  9.925709   \n",
       "\n",
       "                     secondary_cleaner.state.floatbank5_a_level  \\\n",
       "date                                                              \n",
       "2016-01-15 00:00:00                                 -498.310211   \n",
       "2016-01-15 01:00:00                                 -500.169983   \n",
       "2016-01-15 02:00:00                                 -500.129135   \n",
       "2016-01-15 03:00:00                                 -499.201640   \n",
       "2016-01-15 04:00:00                                 -501.686727   \n",
       "\n",
       "                     secondary_cleaner.state.floatbank5_b_air  \\\n",
       "date                                                            \n",
       "2016-01-15 00:00:00                                  8.079666   \n",
       "2016-01-15 01:00:00                                  7.984757   \n",
       "2016-01-15 02:00:00                                  8.013877   \n",
       "2016-01-15 03:00:00                                  7.977324   \n",
       "2016-01-15 04:00:00                                  7.894242   \n",
       "\n",
       "                     secondary_cleaner.state.floatbank5_b_level  \\\n",
       "date                                                              \n",
       "2016-01-15 00:00:00                                 -500.470978   \n",
       "2016-01-15 01:00:00                                 -500.582168   \n",
       "2016-01-15 02:00:00                                 -500.517572   \n",
       "2016-01-15 03:00:00                                 -500.255908   \n",
       "2016-01-15 04:00:00                                 -500.356035   \n",
       "\n",
       "                     secondary_cleaner.state.floatbank6_a_air  \\\n",
       "date                                                            \n",
       "2016-01-15 00:00:00                                 14.151341   \n",
       "2016-01-15 01:00:00                                 13.998353   \n",
       "2016-01-15 02:00:00                                 14.028663   \n",
       "2016-01-15 03:00:00                                 14.005551   \n",
       "2016-01-15 04:00:00                                 13.996647   \n",
       "\n",
       "                     secondary_cleaner.state.floatbank6_a_level  \n",
       "date                                                             \n",
       "2016-01-15 00:00:00                                 -605.841980  \n",
       "2016-01-15 01:00:00                                 -599.787184  \n",
       "2016-01-15 02:00:00                                 -601.427363  \n",
       "2016-01-15 03:00:00                                 -599.996129  \n",
       "2016-01-15 04:00:00                                 -601.496691  \n",
       "\n",
       "[5 rows x 86 columns]"
      ]
     },
     "metadata": {},
     "output_type": "display_data"
    },
    {
     "name": "stdout",
     "output_type": "stream",
     "text": [
      "<class 'pandas.core.frame.DataFrame'>\n",
      "Index: 14149 entries, 2016-01-15 00:00:00 to 2018-08-18 10:59:59\n",
      "Data columns (total 86 columns):\n",
      " #   Column                                              Non-Null Count  Dtype  \n",
      "---  ------                                              --------------  -----  \n",
      " 0   final.output.concentrate_ag                         14148 non-null  float64\n",
      " 1   final.output.concentrate_pb                         14148 non-null  float64\n",
      " 2   final.output.concentrate_sol                        13938 non-null  float64\n",
      " 3   final.output.concentrate_au                         14149 non-null  float64\n",
      " 4   final.output.recovery                               14149 non-null  float64\n",
      " 5   final.output.tail_ag                                14149 non-null  float64\n",
      " 6   final.output.tail_pb                                14049 non-null  float64\n",
      " 7   final.output.tail_sol                               14144 non-null  float64\n",
      " 8   final.output.tail_au                                14149 non-null  float64\n",
      " 9   primary_cleaner.input.sulfate                       14129 non-null  float64\n",
      " 10  primary_cleaner.input.depressant                    14117 non-null  float64\n",
      " 11  primary_cleaner.input.feed_size                     14149 non-null  float64\n",
      " 12  primary_cleaner.input.xanthate                      14049 non-null  float64\n",
      " 13  primary_cleaner.output.concentrate_ag               14149 non-null  float64\n",
      " 14  primary_cleaner.output.concentrate_pb               14063 non-null  float64\n",
      " 15  primary_cleaner.output.concentrate_sol              13863 non-null  float64\n",
      " 16  primary_cleaner.output.concentrate_au               14149 non-null  float64\n",
      " 17  primary_cleaner.output.tail_ag                      14148 non-null  float64\n",
      " 18  primary_cleaner.output.tail_pb                      14134 non-null  float64\n",
      " 19  primary_cleaner.output.tail_sol                     14103 non-null  float64\n",
      " 20  primary_cleaner.output.tail_au                      14149 non-null  float64\n",
      " 21  primary_cleaner.state.floatbank8_a_air              14145 non-null  float64\n",
      " 22  primary_cleaner.state.floatbank8_a_level            14148 non-null  float64\n",
      " 23  primary_cleaner.state.floatbank8_b_air              14145 non-null  float64\n",
      " 24  primary_cleaner.state.floatbank8_b_level            14148 non-null  float64\n",
      " 25  primary_cleaner.state.floatbank8_c_air              14147 non-null  float64\n",
      " 26  primary_cleaner.state.floatbank8_c_level            14148 non-null  float64\n",
      " 27  primary_cleaner.state.floatbank8_d_air              14146 non-null  float64\n",
      " 28  primary_cleaner.state.floatbank8_d_level            14148 non-null  float64\n",
      " 29  rougher.calculation.sulfate_to_au_concentrate       14148 non-null  float64\n",
      " 30  rougher.calculation.floatbank10_sulfate_to_au_feed  14148 non-null  float64\n",
      " 31  rougher.calculation.floatbank11_sulfate_to_au_feed  14148 non-null  float64\n",
      " 32  rougher.calculation.au_pb_ratio                     14149 non-null  float64\n",
      " 33  rougher.input.feed_ag                               14149 non-null  float64\n",
      " 34  rougher.input.feed_pb                               14049 non-null  float64\n",
      " 35  rougher.input.feed_rate                             14141 non-null  float64\n",
      " 36  rougher.input.feed_size                             14005 non-null  float64\n",
      " 37  rougher.input.feed_sol                              14071 non-null  float64\n",
      " 38  rougher.input.feed_au                               14149 non-null  float64\n",
      " 39  rougher.input.floatbank10_sulfate                   14120 non-null  float64\n",
      " 40  rougher.input.floatbank10_xanthate                  14141 non-null  float64\n",
      " 41  rougher.input.floatbank11_sulfate                   14113 non-null  float64\n",
      " 42  rougher.input.floatbank11_xanthate                  13721 non-null  float64\n",
      " 43  rougher.output.concentrate_ag                       14149 non-null  float64\n",
      " 44  rougher.output.concentrate_pb                       14149 non-null  float64\n",
      " 45  rougher.output.concentrate_sol                      14127 non-null  float64\n",
      " 46  rougher.output.concentrate_au                       14149 non-null  float64\n",
      " 47  rougher.output.recovery                             14149 non-null  float64\n",
      " 48  rougher.output.tail_ag                              14148 non-null  float64\n",
      " 49  rougher.output.tail_pb                              14149 non-null  float64\n",
      " 50  rougher.output.tail_sol                             14149 non-null  float64\n",
      " 51  rougher.output.tail_au                              14149 non-null  float64\n",
      " 52  rougher.state.floatbank10_a_air                     14148 non-null  float64\n",
      " 53  rougher.state.floatbank10_a_level                   14148 non-null  float64\n",
      " 54  rougher.state.floatbank10_b_air                     14148 non-null  float64\n",
      " 55  rougher.state.floatbank10_b_level                   14148 non-null  float64\n",
      " 56  rougher.state.floatbank10_c_air                     14148 non-null  float64\n",
      " 57  rougher.state.floatbank10_c_level                   14148 non-null  float64\n",
      " 58  rougher.state.floatbank10_d_air                     14149 non-null  float64\n",
      " 59  rougher.state.floatbank10_d_level                   14149 non-null  float64\n",
      " 60  rougher.state.floatbank10_e_air                     13713 non-null  float64\n",
      " 61  rougher.state.floatbank10_e_level                   14149 non-null  float64\n",
      " 62  rougher.state.floatbank10_f_air                     14149 non-null  float64\n",
      " 63  rougher.state.floatbank10_f_level                   14149 non-null  float64\n",
      " 64  secondary_cleaner.output.tail_ag                    14147 non-null  float64\n",
      " 65  secondary_cleaner.output.tail_pb                    14139 non-null  float64\n",
      " 66  secondary_cleaner.output.tail_sol                   12544 non-null  float64\n",
      " 67  secondary_cleaner.output.tail_au                    14149 non-null  float64\n",
      " 68  secondary_cleaner.state.floatbank2_a_air            13932 non-null  float64\n",
      " 69  secondary_cleaner.state.floatbank2_a_level          14148 non-null  float64\n",
      " 70  secondary_cleaner.state.floatbank2_b_air            14128 non-null  float64\n",
      " 71  secondary_cleaner.state.floatbank2_b_level          14148 non-null  float64\n",
      " 72  secondary_cleaner.state.floatbank3_a_air            14145 non-null  float64\n",
      " 73  secondary_cleaner.state.floatbank3_a_level          14148 non-null  float64\n",
      " 74  secondary_cleaner.state.floatbank3_b_air            14148 non-null  float64\n",
      " 75  secondary_cleaner.state.floatbank3_b_level          14148 non-null  float64\n",
      " 76  secondary_cleaner.state.floatbank4_a_air            14143 non-null  float64\n",
      " 77  secondary_cleaner.state.floatbank4_a_level          14148 non-null  float64\n",
      " 78  secondary_cleaner.state.floatbank4_b_air            14148 non-null  float64\n",
      " 79  secondary_cleaner.state.floatbank4_b_level          14148 non-null  float64\n",
      " 80  secondary_cleaner.state.floatbank5_a_air            14148 non-null  float64\n",
      " 81  secondary_cleaner.state.floatbank5_a_level          14148 non-null  float64\n",
      " 82  secondary_cleaner.state.floatbank5_b_air            14148 non-null  float64\n",
      " 83  secondary_cleaner.state.floatbank5_b_level          14148 non-null  float64\n",
      " 84  secondary_cleaner.state.floatbank6_a_air            14147 non-null  float64\n",
      " 85  secondary_cleaner.state.floatbank6_a_level          14148 non-null  float64\n",
      "dtypes: float64(86)\n",
      "memory usage: 9.4+ MB\n"
     ]
    },
    {
     "data": {
      "text/html": [
       "<div>\n",
       "<style scoped>\n",
       "    .dataframe tbody tr th:only-of-type {\n",
       "        vertical-align: middle;\n",
       "    }\n",
       "\n",
       "    .dataframe tbody tr th {\n",
       "        vertical-align: top;\n",
       "    }\n",
       "\n",
       "    .dataframe thead th {\n",
       "        text-align: right;\n",
       "    }\n",
       "</style>\n",
       "<table border=\"1\" class=\"dataframe\">\n",
       "  <thead>\n",
       "    <tr style=\"text-align: right;\">\n",
       "      <th></th>\n",
       "      <th>final.output.concentrate_ag</th>\n",
       "      <th>final.output.concentrate_pb</th>\n",
       "      <th>final.output.concentrate_sol</th>\n",
       "      <th>final.output.concentrate_au</th>\n",
       "      <th>final.output.recovery</th>\n",
       "      <th>final.output.tail_ag</th>\n",
       "      <th>final.output.tail_pb</th>\n",
       "      <th>final.output.tail_sol</th>\n",
       "      <th>final.output.tail_au</th>\n",
       "      <th>primary_cleaner.input.sulfate</th>\n",
       "      <th>...</th>\n",
       "      <th>secondary_cleaner.state.floatbank4_a_air</th>\n",
       "      <th>secondary_cleaner.state.floatbank4_a_level</th>\n",
       "      <th>secondary_cleaner.state.floatbank4_b_air</th>\n",
       "      <th>secondary_cleaner.state.floatbank4_b_level</th>\n",
       "      <th>secondary_cleaner.state.floatbank5_a_air</th>\n",
       "      <th>secondary_cleaner.state.floatbank5_a_level</th>\n",
       "      <th>secondary_cleaner.state.floatbank5_b_air</th>\n",
       "      <th>secondary_cleaner.state.floatbank5_b_level</th>\n",
       "      <th>secondary_cleaner.state.floatbank6_a_air</th>\n",
       "      <th>secondary_cleaner.state.floatbank6_a_level</th>\n",
       "    </tr>\n",
       "  </thead>\n",
       "  <tbody>\n",
       "    <tr>\n",
       "      <th>count</th>\n",
       "      <td>14148.000000</td>\n",
       "      <td>14148.000000</td>\n",
       "      <td>13938.000000</td>\n",
       "      <td>14149.000000</td>\n",
       "      <td>14149.000000</td>\n",
       "      <td>14149.000000</td>\n",
       "      <td>14049.000000</td>\n",
       "      <td>14144.000000</td>\n",
       "      <td>14149.000000</td>\n",
       "      <td>14129.000000</td>\n",
       "      <td>...</td>\n",
       "      <td>14143.000000</td>\n",
       "      <td>14148.000000</td>\n",
       "      <td>14148.000000</td>\n",
       "      <td>14148.000000</td>\n",
       "      <td>14148.000000</td>\n",
       "      <td>14148.000000</td>\n",
       "      <td>14148.000000</td>\n",
       "      <td>14148.000000</td>\n",
       "      <td>14147.000000</td>\n",
       "      <td>14148.000000</td>\n",
       "    </tr>\n",
       "    <tr>\n",
       "      <th>mean</th>\n",
       "      <td>5.142034</td>\n",
       "      <td>10.132960</td>\n",
       "      <td>9.202849</td>\n",
       "      <td>44.003792</td>\n",
       "      <td>66.518832</td>\n",
       "      <td>9.607035</td>\n",
       "      <td>2.597298</td>\n",
       "      <td>10.512122</td>\n",
       "      <td>2.918421</td>\n",
       "      <td>133.320659</td>\n",
       "      <td>...</td>\n",
       "      <td>19.985454</td>\n",
       "      <td>-478.696836</td>\n",
       "      <td>15.487065</td>\n",
       "      <td>-460.229416</td>\n",
       "      <td>16.775136</td>\n",
       "      <td>-483.956022</td>\n",
       "      <td>13.064590</td>\n",
       "      <td>-483.966564</td>\n",
       "      <td>19.577539</td>\n",
       "      <td>-506.798480</td>\n",
       "    </tr>\n",
       "    <tr>\n",
       "      <th>std</th>\n",
       "      <td>1.369586</td>\n",
       "      <td>1.654930</td>\n",
       "      <td>2.790516</td>\n",
       "      <td>4.905261</td>\n",
       "      <td>10.295402</td>\n",
       "      <td>2.319069</td>\n",
       "      <td>0.971843</td>\n",
       "      <td>3.003617</td>\n",
       "      <td>0.903712</td>\n",
       "      <td>39.431659</td>\n",
       "      <td>...</td>\n",
       "      <td>5.657723</td>\n",
       "      <td>50.736021</td>\n",
       "      <td>5.255655</td>\n",
       "      <td>58.843586</td>\n",
       "      <td>5.831906</td>\n",
       "      <td>37.892788</td>\n",
       "      <td>5.765617</td>\n",
       "      <td>39.207913</td>\n",
       "      <td>5.764417</td>\n",
       "      <td>37.079249</td>\n",
       "    </tr>\n",
       "    <tr>\n",
       "      <th>min</th>\n",
       "      <td>0.000000</td>\n",
       "      <td>0.000000</td>\n",
       "      <td>0.000000</td>\n",
       "      <td>0.000000</td>\n",
       "      <td>0.000000</td>\n",
       "      <td>0.000000</td>\n",
       "      <td>0.000000</td>\n",
       "      <td>0.000000</td>\n",
       "      <td>0.000000</td>\n",
       "      <td>0.003112</td>\n",
       "      <td>...</td>\n",
       "      <td>0.000000</td>\n",
       "      <td>-799.709069</td>\n",
       "      <td>0.000000</td>\n",
       "      <td>-799.889113</td>\n",
       "      <td>-0.372054</td>\n",
       "      <td>-797.142475</td>\n",
       "      <td>0.646208</td>\n",
       "      <td>-800.006180</td>\n",
       "      <td>0.195324</td>\n",
       "      <td>-809.398668</td>\n",
       "    </tr>\n",
       "    <tr>\n",
       "      <th>25%</th>\n",
       "      <td>4.211620</td>\n",
       "      <td>9.297355</td>\n",
       "      <td>7.484645</td>\n",
       "      <td>43.276111</td>\n",
       "      <td>62.545817</td>\n",
       "      <td>7.997429</td>\n",
       "      <td>1.905973</td>\n",
       "      <td>8.811324</td>\n",
       "      <td>2.368607</td>\n",
       "      <td>107.006651</td>\n",
       "      <td>...</td>\n",
       "      <td>14.990775</td>\n",
       "      <td>-500.628656</td>\n",
       "      <td>11.894558</td>\n",
       "      <td>-500.149000</td>\n",
       "      <td>11.083980</td>\n",
       "      <td>-500.363177</td>\n",
       "      <td>8.994405</td>\n",
       "      <td>-500.105994</td>\n",
       "      <td>14.989304</td>\n",
       "      <td>-500.745104</td>\n",
       "    </tr>\n",
       "    <tr>\n",
       "      <th>50%</th>\n",
       "      <td>4.994652</td>\n",
       "      <td>10.297144</td>\n",
       "      <td>8.845462</td>\n",
       "      <td>44.872436</td>\n",
       "      <td>67.432775</td>\n",
       "      <td>9.480270</td>\n",
       "      <td>2.592022</td>\n",
       "      <td>10.514621</td>\n",
       "      <td>2.851025</td>\n",
       "      <td>133.018328</td>\n",
       "      <td>...</td>\n",
       "      <td>20.001789</td>\n",
       "      <td>-499.681450</td>\n",
       "      <td>14.975536</td>\n",
       "      <td>-499.388738</td>\n",
       "      <td>17.932223</td>\n",
       "      <td>-499.702452</td>\n",
       "      <td>11.997547</td>\n",
       "      <td>-499.914556</td>\n",
       "      <td>19.984175</td>\n",
       "      <td>-500.061431</td>\n",
       "    </tr>\n",
       "    <tr>\n",
       "      <th>75%</th>\n",
       "      <td>5.859540</td>\n",
       "      <td>11.170603</td>\n",
       "      <td>10.487508</td>\n",
       "      <td>46.166425</td>\n",
       "      <td>72.346428</td>\n",
       "      <td>11.003707</td>\n",
       "      <td>3.241723</td>\n",
       "      <td>11.933009</td>\n",
       "      <td>3.434764</td>\n",
       "      <td>159.825396</td>\n",
       "      <td>...</td>\n",
       "      <td>24.990826</td>\n",
       "      <td>-477.472413</td>\n",
       "      <td>20.059375</td>\n",
       "      <td>-400.039008</td>\n",
       "      <td>21.346550</td>\n",
       "      <td>-487.712108</td>\n",
       "      <td>17.982903</td>\n",
       "      <td>-453.186936</td>\n",
       "      <td>24.991623</td>\n",
       "      <td>-499.536466</td>\n",
       "    </tr>\n",
       "    <tr>\n",
       "      <th>max</th>\n",
       "      <td>16.001945</td>\n",
       "      <td>17.031899</td>\n",
       "      <td>18.124851</td>\n",
       "      <td>52.756638</td>\n",
       "      <td>100.000000</td>\n",
       "      <td>19.552149</td>\n",
       "      <td>5.639565</td>\n",
       "      <td>22.317730</td>\n",
       "      <td>8.197408</td>\n",
       "      <td>250.127834</td>\n",
       "      <td>...</td>\n",
       "      <td>30.115735</td>\n",
       "      <td>-245.239184</td>\n",
       "      <td>24.007913</td>\n",
       "      <td>-145.071088</td>\n",
       "      <td>43.709931</td>\n",
       "      <td>-275.073125</td>\n",
       "      <td>27.926001</td>\n",
       "      <td>-157.396071</td>\n",
       "      <td>32.188906</td>\n",
       "      <td>-104.427459</td>\n",
       "    </tr>\n",
       "  </tbody>\n",
       "</table>\n",
       "<p>8 rows × 86 columns</p>\n",
       "</div>"
      ],
      "text/plain": [
       "       final.output.concentrate_ag  final.output.concentrate_pb  \\\n",
       "count                 14148.000000                 14148.000000   \n",
       "mean                      5.142034                    10.132960   \n",
       "std                       1.369586                     1.654930   \n",
       "min                       0.000000                     0.000000   \n",
       "25%                       4.211620                     9.297355   \n",
       "50%                       4.994652                    10.297144   \n",
       "75%                       5.859540                    11.170603   \n",
       "max                      16.001945                    17.031899   \n",
       "\n",
       "       final.output.concentrate_sol  final.output.concentrate_au  \\\n",
       "count                  13938.000000                 14149.000000   \n",
       "mean                       9.202849                    44.003792   \n",
       "std                        2.790516                     4.905261   \n",
       "min                        0.000000                     0.000000   \n",
       "25%                        7.484645                    43.276111   \n",
       "50%                        8.845462                    44.872436   \n",
       "75%                       10.487508                    46.166425   \n",
       "max                       18.124851                    52.756638   \n",
       "\n",
       "       final.output.recovery  final.output.tail_ag  final.output.tail_pb  \\\n",
       "count           14149.000000          14149.000000          14049.000000   \n",
       "mean               66.518832              9.607035              2.597298   \n",
       "std                10.295402              2.319069              0.971843   \n",
       "min                 0.000000              0.000000              0.000000   \n",
       "25%                62.545817              7.997429              1.905973   \n",
       "50%                67.432775              9.480270              2.592022   \n",
       "75%                72.346428             11.003707              3.241723   \n",
       "max               100.000000             19.552149              5.639565   \n",
       "\n",
       "       final.output.tail_sol  final.output.tail_au  \\\n",
       "count           14144.000000          14149.000000   \n",
       "mean               10.512122              2.918421   \n",
       "std                 3.003617              0.903712   \n",
       "min                 0.000000              0.000000   \n",
       "25%                 8.811324              2.368607   \n",
       "50%                10.514621              2.851025   \n",
       "75%                11.933009              3.434764   \n",
       "max                22.317730              8.197408   \n",
       "\n",
       "       primary_cleaner.input.sulfate  ...  \\\n",
       "count                   14129.000000  ...   \n",
       "mean                      133.320659  ...   \n",
       "std                        39.431659  ...   \n",
       "min                         0.003112  ...   \n",
       "25%                       107.006651  ...   \n",
       "50%                       133.018328  ...   \n",
       "75%                       159.825396  ...   \n",
       "max                       250.127834  ...   \n",
       "\n",
       "       secondary_cleaner.state.floatbank4_a_air  \\\n",
       "count                              14143.000000   \n",
       "mean                                  19.985454   \n",
       "std                                    5.657723   \n",
       "min                                    0.000000   \n",
       "25%                                   14.990775   \n",
       "50%                                   20.001789   \n",
       "75%                                   24.990826   \n",
       "max                                   30.115735   \n",
       "\n",
       "       secondary_cleaner.state.floatbank4_a_level  \\\n",
       "count                                14148.000000   \n",
       "mean                                  -478.696836   \n",
       "std                                     50.736021   \n",
       "min                                   -799.709069   \n",
       "25%                                   -500.628656   \n",
       "50%                                   -499.681450   \n",
       "75%                                   -477.472413   \n",
       "max                                   -245.239184   \n",
       "\n",
       "       secondary_cleaner.state.floatbank4_b_air  \\\n",
       "count                              14148.000000   \n",
       "mean                                  15.487065   \n",
       "std                                    5.255655   \n",
       "min                                    0.000000   \n",
       "25%                                   11.894558   \n",
       "50%                                   14.975536   \n",
       "75%                                   20.059375   \n",
       "max                                   24.007913   \n",
       "\n",
       "       secondary_cleaner.state.floatbank4_b_level  \\\n",
       "count                                14148.000000   \n",
       "mean                                  -460.229416   \n",
       "std                                     58.843586   \n",
       "min                                   -799.889113   \n",
       "25%                                   -500.149000   \n",
       "50%                                   -499.388738   \n",
       "75%                                   -400.039008   \n",
       "max                                   -145.071088   \n",
       "\n",
       "       secondary_cleaner.state.floatbank5_a_air  \\\n",
       "count                              14148.000000   \n",
       "mean                                  16.775136   \n",
       "std                                    5.831906   \n",
       "min                                   -0.372054   \n",
       "25%                                   11.083980   \n",
       "50%                                   17.932223   \n",
       "75%                                   21.346550   \n",
       "max                                   43.709931   \n",
       "\n",
       "       secondary_cleaner.state.floatbank5_a_level  \\\n",
       "count                                14148.000000   \n",
       "mean                                  -483.956022   \n",
       "std                                     37.892788   \n",
       "min                                   -797.142475   \n",
       "25%                                   -500.363177   \n",
       "50%                                   -499.702452   \n",
       "75%                                   -487.712108   \n",
       "max                                   -275.073125   \n",
       "\n",
       "       secondary_cleaner.state.floatbank5_b_air  \\\n",
       "count                              14148.000000   \n",
       "mean                                  13.064590   \n",
       "std                                    5.765617   \n",
       "min                                    0.646208   \n",
       "25%                                    8.994405   \n",
       "50%                                   11.997547   \n",
       "75%                                   17.982903   \n",
       "max                                   27.926001   \n",
       "\n",
       "       secondary_cleaner.state.floatbank5_b_level  \\\n",
       "count                                14148.000000   \n",
       "mean                                  -483.966564   \n",
       "std                                     39.207913   \n",
       "min                                   -800.006180   \n",
       "25%                                   -500.105994   \n",
       "50%                                   -499.914556   \n",
       "75%                                   -453.186936   \n",
       "max                                   -157.396071   \n",
       "\n",
       "       secondary_cleaner.state.floatbank6_a_air  \\\n",
       "count                              14147.000000   \n",
       "mean                                  19.577539   \n",
       "std                                    5.764417   \n",
       "min                                    0.195324   \n",
       "25%                                   14.989304   \n",
       "50%                                   19.984175   \n",
       "75%                                   24.991623   \n",
       "max                                   32.188906   \n",
       "\n",
       "       secondary_cleaner.state.floatbank6_a_level  \n",
       "count                                14148.000000  \n",
       "mean                                  -506.798480  \n",
       "std                                     37.079249  \n",
       "min                                   -809.398668  \n",
       "25%                                   -500.745104  \n",
       "50%                                   -500.061431  \n",
       "75%                                   -499.536466  \n",
       "max                                   -104.427459  \n",
       "\n",
       "[8 rows x 86 columns]"
      ]
     },
     "metadata": {},
     "output_type": "display_data"
    },
    {
     "data": {
      "text/html": [
       "<div>\n",
       "<style scoped>\n",
       "    .dataframe tbody tr th:only-of-type {\n",
       "        vertical-align: middle;\n",
       "    }\n",
       "\n",
       "    .dataframe tbody tr th {\n",
       "        vertical-align: top;\n",
       "    }\n",
       "\n",
       "    .dataframe thead th {\n",
       "        text-align: right;\n",
       "    }\n",
       "</style>\n",
       "<table border=\"1\" class=\"dataframe\">\n",
       "  <thead>\n",
       "    <tr style=\"text-align: right;\">\n",
       "      <th></th>\n",
       "      <th>primary_cleaner.input.sulfate</th>\n",
       "      <th>primary_cleaner.input.depressant</th>\n",
       "      <th>primary_cleaner.input.feed_size</th>\n",
       "      <th>primary_cleaner.input.xanthate</th>\n",
       "      <th>primary_cleaner.state.floatbank8_a_air</th>\n",
       "      <th>primary_cleaner.state.floatbank8_a_level</th>\n",
       "      <th>primary_cleaner.state.floatbank8_b_air</th>\n",
       "      <th>primary_cleaner.state.floatbank8_b_level</th>\n",
       "      <th>primary_cleaner.state.floatbank8_c_air</th>\n",
       "      <th>primary_cleaner.state.floatbank8_c_level</th>\n",
       "      <th>...</th>\n",
       "      <th>secondary_cleaner.state.floatbank4_a_air</th>\n",
       "      <th>secondary_cleaner.state.floatbank4_a_level</th>\n",
       "      <th>secondary_cleaner.state.floatbank4_b_air</th>\n",
       "      <th>secondary_cleaner.state.floatbank4_b_level</th>\n",
       "      <th>secondary_cleaner.state.floatbank5_a_air</th>\n",
       "      <th>secondary_cleaner.state.floatbank5_a_level</th>\n",
       "      <th>secondary_cleaner.state.floatbank5_b_air</th>\n",
       "      <th>secondary_cleaner.state.floatbank5_b_level</th>\n",
       "      <th>secondary_cleaner.state.floatbank6_a_air</th>\n",
       "      <th>secondary_cleaner.state.floatbank6_a_level</th>\n",
       "    </tr>\n",
       "    <tr>\n",
       "      <th>date</th>\n",
       "      <th></th>\n",
       "      <th></th>\n",
       "      <th></th>\n",
       "      <th></th>\n",
       "      <th></th>\n",
       "      <th></th>\n",
       "      <th></th>\n",
       "      <th></th>\n",
       "      <th></th>\n",
       "      <th></th>\n",
       "      <th></th>\n",
       "      <th></th>\n",
       "      <th></th>\n",
       "      <th></th>\n",
       "      <th></th>\n",
       "      <th></th>\n",
       "      <th></th>\n",
       "      <th></th>\n",
       "      <th></th>\n",
       "      <th></th>\n",
       "      <th></th>\n",
       "    </tr>\n",
       "  </thead>\n",
       "  <tbody>\n",
       "    <tr>\n",
       "      <th>2016-09-01 00:59:59</th>\n",
       "      <td>210.800909</td>\n",
       "      <td>14.993118</td>\n",
       "      <td>8.080000</td>\n",
       "      <td>1.005021</td>\n",
       "      <td>1398.981301</td>\n",
       "      <td>-500.225577</td>\n",
       "      <td>1399.144926</td>\n",
       "      <td>-499.919735</td>\n",
       "      <td>1400.102998</td>\n",
       "      <td>-500.704369</td>\n",
       "      <td>...</td>\n",
       "      <td>12.023554</td>\n",
       "      <td>-497.795834</td>\n",
       "      <td>8.016656</td>\n",
       "      <td>-501.289139</td>\n",
       "      <td>7.946562</td>\n",
       "      <td>-432.317850</td>\n",
       "      <td>4.872511</td>\n",
       "      <td>-500.037437</td>\n",
       "      <td>26.705889</td>\n",
       "      <td>-499.709414</td>\n",
       "    </tr>\n",
       "    <tr>\n",
       "      <th>2016-09-01 01:59:59</th>\n",
       "      <td>215.392455</td>\n",
       "      <td>14.987471</td>\n",
       "      <td>8.080000</td>\n",
       "      <td>0.990469</td>\n",
       "      <td>1398.777912</td>\n",
       "      <td>-500.057435</td>\n",
       "      <td>1398.055362</td>\n",
       "      <td>-499.778182</td>\n",
       "      <td>1396.151033</td>\n",
       "      <td>-499.240168</td>\n",
       "      <td>...</td>\n",
       "      <td>12.058140</td>\n",
       "      <td>-498.695773</td>\n",
       "      <td>8.130979</td>\n",
       "      <td>-499.634209</td>\n",
       "      <td>7.958270</td>\n",
       "      <td>-525.839648</td>\n",
       "      <td>4.878850</td>\n",
       "      <td>-500.162375</td>\n",
       "      <td>25.019940</td>\n",
       "      <td>-499.819438</td>\n",
       "    </tr>\n",
       "    <tr>\n",
       "      <th>2016-09-01 02:59:59</th>\n",
       "      <td>215.259946</td>\n",
       "      <td>12.884934</td>\n",
       "      <td>7.786667</td>\n",
       "      <td>0.996043</td>\n",
       "      <td>1398.493666</td>\n",
       "      <td>-500.868360</td>\n",
       "      <td>1398.860436</td>\n",
       "      <td>-499.764529</td>\n",
       "      <td>1398.075709</td>\n",
       "      <td>-502.151509</td>\n",
       "      <td>...</td>\n",
       "      <td>11.962366</td>\n",
       "      <td>-498.767484</td>\n",
       "      <td>8.096893</td>\n",
       "      <td>-500.827423</td>\n",
       "      <td>8.071056</td>\n",
       "      <td>-500.801673</td>\n",
       "      <td>4.905125</td>\n",
       "      <td>-499.828510</td>\n",
       "      <td>24.994862</td>\n",
       "      <td>-500.622559</td>\n",
       "    </tr>\n",
       "    <tr>\n",
       "      <th>2016-09-01 03:59:59</th>\n",
       "      <td>215.336236</td>\n",
       "      <td>12.006805</td>\n",
       "      <td>7.640000</td>\n",
       "      <td>0.863514</td>\n",
       "      <td>1399.618111</td>\n",
       "      <td>-498.863574</td>\n",
       "      <td>1397.440120</td>\n",
       "      <td>-499.211024</td>\n",
       "      <td>1400.129303</td>\n",
       "      <td>-498.355873</td>\n",
       "      <td>...</td>\n",
       "      <td>12.033091</td>\n",
       "      <td>-498.350935</td>\n",
       "      <td>8.074946</td>\n",
       "      <td>-499.474407</td>\n",
       "      <td>7.897085</td>\n",
       "      <td>-500.868509</td>\n",
       "      <td>4.931400</td>\n",
       "      <td>-499.963623</td>\n",
       "      <td>24.948919</td>\n",
       "      <td>-498.709987</td>\n",
       "    </tr>\n",
       "    <tr>\n",
       "      <th>2016-09-01 04:59:59</th>\n",
       "      <td>199.099327</td>\n",
       "      <td>10.682530</td>\n",
       "      <td>7.530000</td>\n",
       "      <td>0.805575</td>\n",
       "      <td>1401.268123</td>\n",
       "      <td>-500.808305</td>\n",
       "      <td>1398.128818</td>\n",
       "      <td>-499.504543</td>\n",
       "      <td>1402.172226</td>\n",
       "      <td>-500.810606</td>\n",
       "      <td>...</td>\n",
       "      <td>12.025367</td>\n",
       "      <td>-500.786497</td>\n",
       "      <td>8.054678</td>\n",
       "      <td>-500.397500</td>\n",
       "      <td>8.107890</td>\n",
       "      <td>-509.526725</td>\n",
       "      <td>4.957674</td>\n",
       "      <td>-500.360026</td>\n",
       "      <td>25.003331</td>\n",
       "      <td>-500.856333</td>\n",
       "    </tr>\n",
       "  </tbody>\n",
       "</table>\n",
       "<p>5 rows × 52 columns</p>\n",
       "</div>"
      ],
      "text/plain": [
       "                     primary_cleaner.input.sulfate  \\\n",
       "date                                                 \n",
       "2016-09-01 00:59:59                     210.800909   \n",
       "2016-09-01 01:59:59                     215.392455   \n",
       "2016-09-01 02:59:59                     215.259946   \n",
       "2016-09-01 03:59:59                     215.336236   \n",
       "2016-09-01 04:59:59                     199.099327   \n",
       "\n",
       "                     primary_cleaner.input.depressant  \\\n",
       "date                                                    \n",
       "2016-09-01 00:59:59                         14.993118   \n",
       "2016-09-01 01:59:59                         14.987471   \n",
       "2016-09-01 02:59:59                         12.884934   \n",
       "2016-09-01 03:59:59                         12.006805   \n",
       "2016-09-01 04:59:59                         10.682530   \n",
       "\n",
       "                     primary_cleaner.input.feed_size  \\\n",
       "date                                                   \n",
       "2016-09-01 00:59:59                         8.080000   \n",
       "2016-09-01 01:59:59                         8.080000   \n",
       "2016-09-01 02:59:59                         7.786667   \n",
       "2016-09-01 03:59:59                         7.640000   \n",
       "2016-09-01 04:59:59                         7.530000   \n",
       "\n",
       "                     primary_cleaner.input.xanthate  \\\n",
       "date                                                  \n",
       "2016-09-01 00:59:59                        1.005021   \n",
       "2016-09-01 01:59:59                        0.990469   \n",
       "2016-09-01 02:59:59                        0.996043   \n",
       "2016-09-01 03:59:59                        0.863514   \n",
       "2016-09-01 04:59:59                        0.805575   \n",
       "\n",
       "                     primary_cleaner.state.floatbank8_a_air  \\\n",
       "date                                                          \n",
       "2016-09-01 00:59:59                             1398.981301   \n",
       "2016-09-01 01:59:59                             1398.777912   \n",
       "2016-09-01 02:59:59                             1398.493666   \n",
       "2016-09-01 03:59:59                             1399.618111   \n",
       "2016-09-01 04:59:59                             1401.268123   \n",
       "\n",
       "                     primary_cleaner.state.floatbank8_a_level  \\\n",
       "date                                                            \n",
       "2016-09-01 00:59:59                               -500.225577   \n",
       "2016-09-01 01:59:59                               -500.057435   \n",
       "2016-09-01 02:59:59                               -500.868360   \n",
       "2016-09-01 03:59:59                               -498.863574   \n",
       "2016-09-01 04:59:59                               -500.808305   \n",
       "\n",
       "                     primary_cleaner.state.floatbank8_b_air  \\\n",
       "date                                                          \n",
       "2016-09-01 00:59:59                             1399.144926   \n",
       "2016-09-01 01:59:59                             1398.055362   \n",
       "2016-09-01 02:59:59                             1398.860436   \n",
       "2016-09-01 03:59:59                             1397.440120   \n",
       "2016-09-01 04:59:59                             1398.128818   \n",
       "\n",
       "                     primary_cleaner.state.floatbank8_b_level  \\\n",
       "date                                                            \n",
       "2016-09-01 00:59:59                               -499.919735   \n",
       "2016-09-01 01:59:59                               -499.778182   \n",
       "2016-09-01 02:59:59                               -499.764529   \n",
       "2016-09-01 03:59:59                               -499.211024   \n",
       "2016-09-01 04:59:59                               -499.504543   \n",
       "\n",
       "                     primary_cleaner.state.floatbank8_c_air  \\\n",
       "date                                                          \n",
       "2016-09-01 00:59:59                             1400.102998   \n",
       "2016-09-01 01:59:59                             1396.151033   \n",
       "2016-09-01 02:59:59                             1398.075709   \n",
       "2016-09-01 03:59:59                             1400.129303   \n",
       "2016-09-01 04:59:59                             1402.172226   \n",
       "\n",
       "                     primary_cleaner.state.floatbank8_c_level  ...  \\\n",
       "date                                                           ...   \n",
       "2016-09-01 00:59:59                               -500.704369  ...   \n",
       "2016-09-01 01:59:59                               -499.240168  ...   \n",
       "2016-09-01 02:59:59                               -502.151509  ...   \n",
       "2016-09-01 03:59:59                               -498.355873  ...   \n",
       "2016-09-01 04:59:59                               -500.810606  ...   \n",
       "\n",
       "                     secondary_cleaner.state.floatbank4_a_air  \\\n",
       "date                                                            \n",
       "2016-09-01 00:59:59                                 12.023554   \n",
       "2016-09-01 01:59:59                                 12.058140   \n",
       "2016-09-01 02:59:59                                 11.962366   \n",
       "2016-09-01 03:59:59                                 12.033091   \n",
       "2016-09-01 04:59:59                                 12.025367   \n",
       "\n",
       "                     secondary_cleaner.state.floatbank4_a_level  \\\n",
       "date                                                              \n",
       "2016-09-01 00:59:59                                 -497.795834   \n",
       "2016-09-01 01:59:59                                 -498.695773   \n",
       "2016-09-01 02:59:59                                 -498.767484   \n",
       "2016-09-01 03:59:59                                 -498.350935   \n",
       "2016-09-01 04:59:59                                 -500.786497   \n",
       "\n",
       "                     secondary_cleaner.state.floatbank4_b_air  \\\n",
       "date                                                            \n",
       "2016-09-01 00:59:59                                  8.016656   \n",
       "2016-09-01 01:59:59                                  8.130979   \n",
       "2016-09-01 02:59:59                                  8.096893   \n",
       "2016-09-01 03:59:59                                  8.074946   \n",
       "2016-09-01 04:59:59                                  8.054678   \n",
       "\n",
       "                     secondary_cleaner.state.floatbank4_b_level  \\\n",
       "date                                                              \n",
       "2016-09-01 00:59:59                                 -501.289139   \n",
       "2016-09-01 01:59:59                                 -499.634209   \n",
       "2016-09-01 02:59:59                                 -500.827423   \n",
       "2016-09-01 03:59:59                                 -499.474407   \n",
       "2016-09-01 04:59:59                                 -500.397500   \n",
       "\n",
       "                     secondary_cleaner.state.floatbank5_a_air  \\\n",
       "date                                                            \n",
       "2016-09-01 00:59:59                                  7.946562   \n",
       "2016-09-01 01:59:59                                  7.958270   \n",
       "2016-09-01 02:59:59                                  8.071056   \n",
       "2016-09-01 03:59:59                                  7.897085   \n",
       "2016-09-01 04:59:59                                  8.107890   \n",
       "\n",
       "                     secondary_cleaner.state.floatbank5_a_level  \\\n",
       "date                                                              \n",
       "2016-09-01 00:59:59                                 -432.317850   \n",
       "2016-09-01 01:59:59                                 -525.839648   \n",
       "2016-09-01 02:59:59                                 -500.801673   \n",
       "2016-09-01 03:59:59                                 -500.868509   \n",
       "2016-09-01 04:59:59                                 -509.526725   \n",
       "\n",
       "                     secondary_cleaner.state.floatbank5_b_air  \\\n",
       "date                                                            \n",
       "2016-09-01 00:59:59                                  4.872511   \n",
       "2016-09-01 01:59:59                                  4.878850   \n",
       "2016-09-01 02:59:59                                  4.905125   \n",
       "2016-09-01 03:59:59                                  4.931400   \n",
       "2016-09-01 04:59:59                                  4.957674   \n",
       "\n",
       "                     secondary_cleaner.state.floatbank5_b_level  \\\n",
       "date                                                              \n",
       "2016-09-01 00:59:59                                 -500.037437   \n",
       "2016-09-01 01:59:59                                 -500.162375   \n",
       "2016-09-01 02:59:59                                 -499.828510   \n",
       "2016-09-01 03:59:59                                 -499.963623   \n",
       "2016-09-01 04:59:59                                 -500.360026   \n",
       "\n",
       "                     secondary_cleaner.state.floatbank6_a_air  \\\n",
       "date                                                            \n",
       "2016-09-01 00:59:59                                 26.705889   \n",
       "2016-09-01 01:59:59                                 25.019940   \n",
       "2016-09-01 02:59:59                                 24.994862   \n",
       "2016-09-01 03:59:59                                 24.948919   \n",
       "2016-09-01 04:59:59                                 25.003331   \n",
       "\n",
       "                     secondary_cleaner.state.floatbank6_a_level  \n",
       "date                                                             \n",
       "2016-09-01 00:59:59                                 -499.709414  \n",
       "2016-09-01 01:59:59                                 -499.819438  \n",
       "2016-09-01 02:59:59                                 -500.622559  \n",
       "2016-09-01 03:59:59                                 -498.709987  \n",
       "2016-09-01 04:59:59                                 -500.856333  \n",
       "\n",
       "[5 rows x 52 columns]"
      ]
     },
     "metadata": {},
     "output_type": "display_data"
    },
    {
     "name": "stdout",
     "output_type": "stream",
     "text": [
      "<class 'pandas.core.frame.DataFrame'>\n",
      "Index: 5290 entries, 2016-09-01 00:59:59 to 2017-12-31 23:59:59\n",
      "Data columns (total 52 columns):\n",
      " #   Column                                      Non-Null Count  Dtype  \n",
      "---  ------                                      --------------  -----  \n",
      " 0   primary_cleaner.input.sulfate               5286 non-null   float64\n",
      " 1   primary_cleaner.input.depressant            5285 non-null   float64\n",
      " 2   primary_cleaner.input.feed_size             5290 non-null   float64\n",
      " 3   primary_cleaner.input.xanthate              5286 non-null   float64\n",
      " 4   primary_cleaner.state.floatbank8_a_air      5290 non-null   float64\n",
      " 5   primary_cleaner.state.floatbank8_a_level    5290 non-null   float64\n",
      " 6   primary_cleaner.state.floatbank8_b_air      5290 non-null   float64\n",
      " 7   primary_cleaner.state.floatbank8_b_level    5290 non-null   float64\n",
      " 8   primary_cleaner.state.floatbank8_c_air      5290 non-null   float64\n",
      " 9   primary_cleaner.state.floatbank8_c_level    5290 non-null   float64\n",
      " 10  primary_cleaner.state.floatbank8_d_air      5290 non-null   float64\n",
      " 11  primary_cleaner.state.floatbank8_d_level    5290 non-null   float64\n",
      " 12  rougher.input.feed_ag                       5290 non-null   float64\n",
      " 13  rougher.input.feed_pb                       5290 non-null   float64\n",
      " 14  rougher.input.feed_rate                     5287 non-null   float64\n",
      " 15  rougher.input.feed_size                     5289 non-null   float64\n",
      " 16  rougher.input.feed_sol                      5269 non-null   float64\n",
      " 17  rougher.input.feed_au                       5290 non-null   float64\n",
      " 18  rougher.input.floatbank10_sulfate           5285 non-null   float64\n",
      " 19  rougher.input.floatbank10_xanthate          5290 non-null   float64\n",
      " 20  rougher.input.floatbank11_sulfate           5282 non-null   float64\n",
      " 21  rougher.input.floatbank11_xanthate          5265 non-null   float64\n",
      " 22  rougher.state.floatbank10_a_air             5290 non-null   float64\n",
      " 23  rougher.state.floatbank10_a_level           5290 non-null   float64\n",
      " 24  rougher.state.floatbank10_b_air             5290 non-null   float64\n",
      " 25  rougher.state.floatbank10_b_level           5290 non-null   float64\n",
      " 26  rougher.state.floatbank10_c_air             5290 non-null   float64\n",
      " 27  rougher.state.floatbank10_c_level           5290 non-null   float64\n",
      " 28  rougher.state.floatbank10_d_air             5290 non-null   float64\n",
      " 29  rougher.state.floatbank10_d_level           5290 non-null   float64\n",
      " 30  rougher.state.floatbank10_e_air             5290 non-null   float64\n",
      " 31  rougher.state.floatbank10_e_level           5290 non-null   float64\n",
      " 32  rougher.state.floatbank10_f_air             5290 non-null   float64\n",
      " 33  rougher.state.floatbank10_f_level           5290 non-null   float64\n",
      " 34  secondary_cleaner.state.floatbank2_a_air    5287 non-null   float64\n",
      " 35  secondary_cleaner.state.floatbank2_a_level  5290 non-null   float64\n",
      " 36  secondary_cleaner.state.floatbank2_b_air    5288 non-null   float64\n",
      " 37  secondary_cleaner.state.floatbank2_b_level  5290 non-null   float64\n",
      " 38  secondary_cleaner.state.floatbank3_a_air    5281 non-null   float64\n",
      " 39  secondary_cleaner.state.floatbank3_a_level  5290 non-null   float64\n",
      " 40  secondary_cleaner.state.floatbank3_b_air    5290 non-null   float64\n",
      " 41  secondary_cleaner.state.floatbank3_b_level  5290 non-null   float64\n",
      " 42  secondary_cleaner.state.floatbank4_a_air    5290 non-null   float64\n",
      " 43  secondary_cleaner.state.floatbank4_a_level  5290 non-null   float64\n",
      " 44  secondary_cleaner.state.floatbank4_b_air    5290 non-null   float64\n",
      " 45  secondary_cleaner.state.floatbank4_b_level  5290 non-null   float64\n",
      " 46  secondary_cleaner.state.floatbank5_a_air    5290 non-null   float64\n",
      " 47  secondary_cleaner.state.floatbank5_a_level  5290 non-null   float64\n",
      " 48  secondary_cleaner.state.floatbank5_b_air    5290 non-null   float64\n",
      " 49  secondary_cleaner.state.floatbank5_b_level  5290 non-null   float64\n",
      " 50  secondary_cleaner.state.floatbank6_a_air    5290 non-null   float64\n",
      " 51  secondary_cleaner.state.floatbank6_a_level  5290 non-null   float64\n",
      "dtypes: float64(52)\n",
      "memory usage: 2.1+ MB\n"
     ]
    },
    {
     "data": {
      "text/html": [
       "<div>\n",
       "<style scoped>\n",
       "    .dataframe tbody tr th:only-of-type {\n",
       "        vertical-align: middle;\n",
       "    }\n",
       "\n",
       "    .dataframe tbody tr th {\n",
       "        vertical-align: top;\n",
       "    }\n",
       "\n",
       "    .dataframe thead th {\n",
       "        text-align: right;\n",
       "    }\n",
       "</style>\n",
       "<table border=\"1\" class=\"dataframe\">\n",
       "  <thead>\n",
       "    <tr style=\"text-align: right;\">\n",
       "      <th></th>\n",
       "      <th>primary_cleaner.input.sulfate</th>\n",
       "      <th>primary_cleaner.input.depressant</th>\n",
       "      <th>primary_cleaner.input.feed_size</th>\n",
       "      <th>primary_cleaner.input.xanthate</th>\n",
       "      <th>primary_cleaner.state.floatbank8_a_air</th>\n",
       "      <th>primary_cleaner.state.floatbank8_a_level</th>\n",
       "      <th>primary_cleaner.state.floatbank8_b_air</th>\n",
       "      <th>primary_cleaner.state.floatbank8_b_level</th>\n",
       "      <th>primary_cleaner.state.floatbank8_c_air</th>\n",
       "      <th>primary_cleaner.state.floatbank8_c_level</th>\n",
       "      <th>...</th>\n",
       "      <th>secondary_cleaner.state.floatbank4_a_air</th>\n",
       "      <th>secondary_cleaner.state.floatbank4_a_level</th>\n",
       "      <th>secondary_cleaner.state.floatbank4_b_air</th>\n",
       "      <th>secondary_cleaner.state.floatbank4_b_level</th>\n",
       "      <th>secondary_cleaner.state.floatbank5_a_air</th>\n",
       "      <th>secondary_cleaner.state.floatbank5_a_level</th>\n",
       "      <th>secondary_cleaner.state.floatbank5_b_air</th>\n",
       "      <th>secondary_cleaner.state.floatbank5_b_level</th>\n",
       "      <th>secondary_cleaner.state.floatbank6_a_air</th>\n",
       "      <th>secondary_cleaner.state.floatbank6_a_level</th>\n",
       "    </tr>\n",
       "  </thead>\n",
       "  <tbody>\n",
       "    <tr>\n",
       "      <th>count</th>\n",
       "      <td>5286.000000</td>\n",
       "      <td>5285.000000</td>\n",
       "      <td>5290.000000</td>\n",
       "      <td>5286.000000</td>\n",
       "      <td>5.290000e+03</td>\n",
       "      <td>5290.000000</td>\n",
       "      <td>5.290000e+03</td>\n",
       "      <td>5290.000000</td>\n",
       "      <td>5.290000e+03</td>\n",
       "      <td>5290.000000</td>\n",
       "      <td>...</td>\n",
       "      <td>5.290000e+03</td>\n",
       "      <td>5290.000000</td>\n",
       "      <td>5.290000e+03</td>\n",
       "      <td>5290.000000</td>\n",
       "      <td>5290.000000</td>\n",
       "      <td>5290.000000</td>\n",
       "      <td>5290.000000</td>\n",
       "      <td>5290.000000</td>\n",
       "      <td>5290.000000</td>\n",
       "      <td>5290.000000</td>\n",
       "    </tr>\n",
       "    <tr>\n",
       "      <th>mean</th>\n",
       "      <td>174.839652</td>\n",
       "      <td>8.683596</td>\n",
       "      <td>7.266339</td>\n",
       "      <td>1.383803</td>\n",
       "      <td>1.539494e+03</td>\n",
       "      <td>-497.665883</td>\n",
       "      <td>1.545174e+03</td>\n",
       "      <td>-500.273098</td>\n",
       "      <td>1.527272e+03</td>\n",
       "      <td>-498.330680</td>\n",
       "      <td>...</td>\n",
       "      <td>1.632007e+01</td>\n",
       "      <td>-505.144570</td>\n",
       "      <td>1.373544e+01</td>\n",
       "      <td>-463.349858</td>\n",
       "      <td>12.804186</td>\n",
       "      <td>-501.329122</td>\n",
       "      <td>9.881145</td>\n",
       "      <td>-495.663398</td>\n",
       "      <td>17.304935</td>\n",
       "      <td>-501.793193</td>\n",
       "    </tr>\n",
       "    <tr>\n",
       "      <th>std</th>\n",
       "      <td>43.027080</td>\n",
       "      <td>3.072050</td>\n",
       "      <td>0.610219</td>\n",
       "      <td>0.643474</td>\n",
       "      <td>1.167979e+02</td>\n",
       "      <td>19.952431</td>\n",
       "      <td>1.222246e+02</td>\n",
       "      <td>32.968307</td>\n",
       "      <td>1.225380e+02</td>\n",
       "      <td>21.964876</td>\n",
       "      <td>...</td>\n",
       "      <td>3.493583e+00</td>\n",
       "      <td>31.427337</td>\n",
       "      <td>3.430484e+00</td>\n",
       "      <td>86.189107</td>\n",
       "      <td>3.026591</td>\n",
       "      <td>17.951495</td>\n",
       "      <td>2.868205</td>\n",
       "      <td>34.535007</td>\n",
       "      <td>4.536544</td>\n",
       "      <td>39.044215</td>\n",
       "    </tr>\n",
       "    <tr>\n",
       "      <th>min</th>\n",
       "      <td>2.566156</td>\n",
       "      <td>0.003839</td>\n",
       "      <td>5.650000</td>\n",
       "      <td>0.004984</td>\n",
       "      <td>5.445860e-32</td>\n",
       "      <td>-795.316337</td>\n",
       "      <td>6.647490e-32</td>\n",
       "      <td>-799.997015</td>\n",
       "      <td>4.033736e-32</td>\n",
       "      <td>-799.960571</td>\n",
       "      <td>...</td>\n",
       "      <td>1.079872e-16</td>\n",
       "      <td>-799.798523</td>\n",
       "      <td>2.489718e-17</td>\n",
       "      <td>-800.836914</td>\n",
       "      <td>0.069227</td>\n",
       "      <td>-797.323986</td>\n",
       "      <td>0.528083</td>\n",
       "      <td>-800.220337</td>\n",
       "      <td>-0.079426</td>\n",
       "      <td>-809.741464</td>\n",
       "    </tr>\n",
       "    <tr>\n",
       "      <th>25%</th>\n",
       "      <td>147.121401</td>\n",
       "      <td>6.489555</td>\n",
       "      <td>6.890000</td>\n",
       "      <td>0.907623</td>\n",
       "      <td>1.498936e+03</td>\n",
       "      <td>-500.357298</td>\n",
       "      <td>1.498971e+03</td>\n",
       "      <td>-500.703002</td>\n",
       "      <td>1.473230e+03</td>\n",
       "      <td>-501.018117</td>\n",
       "      <td>...</td>\n",
       "      <td>1.403618e+01</td>\n",
       "      <td>-500.868258</td>\n",
       "      <td>1.202862e+01</td>\n",
       "      <td>-500.323028</td>\n",
       "      <td>10.914838</td>\n",
       "      <td>-500.726841</td>\n",
       "      <td>8.036719</td>\n",
       "      <td>-500.194668</td>\n",
       "      <td>13.997317</td>\n",
       "      <td>-500.690984</td>\n",
       "    </tr>\n",
       "    <tr>\n",
       "      <th>50%</th>\n",
       "      <td>177.828489</td>\n",
       "      <td>8.052207</td>\n",
       "      <td>7.250000</td>\n",
       "      <td>1.197610</td>\n",
       "      <td>1.585129e+03</td>\n",
       "      <td>-499.969164</td>\n",
       "      <td>1.595622e+03</td>\n",
       "      <td>-500.028514</td>\n",
       "      <td>1.549595e+03</td>\n",
       "      <td>-500.017711</td>\n",
       "      <td>...</td>\n",
       "      <td>1.700847e+01</td>\n",
       "      <td>-500.115727</td>\n",
       "      <td>1.496486e+01</td>\n",
       "      <td>-499.576513</td>\n",
       "      <td>12.954182</td>\n",
       "      <td>-499.990332</td>\n",
       "      <td>10.004301</td>\n",
       "      <td>-499.990535</td>\n",
       "      <td>16.014935</td>\n",
       "      <td>-500.007126</td>\n",
       "    </tr>\n",
       "    <tr>\n",
       "      <th>75%</th>\n",
       "      <td>208.125438</td>\n",
       "      <td>10.027764</td>\n",
       "      <td>7.600000</td>\n",
       "      <td>1.797819</td>\n",
       "      <td>1.602077e+03</td>\n",
       "      <td>-499.568951</td>\n",
       "      <td>1.602324e+03</td>\n",
       "      <td>-499.293257</td>\n",
       "      <td>1.601144e+03</td>\n",
       "      <td>-498.994130</td>\n",
       "      <td>...</td>\n",
       "      <td>1.803862e+01</td>\n",
       "      <td>-499.404224</td>\n",
       "      <td>1.596213e+01</td>\n",
       "      <td>-400.933805</td>\n",
       "      <td>15.097528</td>\n",
       "      <td>-499.283191</td>\n",
       "      <td>11.997467</td>\n",
       "      <td>-499.719913</td>\n",
       "      <td>21.020013</td>\n",
       "      <td>-499.373018</td>\n",
       "    </tr>\n",
       "    <tr>\n",
       "      <th>max</th>\n",
       "      <td>265.983123</td>\n",
       "      <td>40.000000</td>\n",
       "      <td>15.500000</td>\n",
       "      <td>4.102454</td>\n",
       "      <td>2.103104e+03</td>\n",
       "      <td>-57.195404</td>\n",
       "      <td>1.813084e+03</td>\n",
       "      <td>-142.527229</td>\n",
       "      <td>1.715054e+03</td>\n",
       "      <td>-150.937035</td>\n",
       "      <td>...</td>\n",
       "      <td>3.005180e+01</td>\n",
       "      <td>-401.565212</td>\n",
       "      <td>3.126971e+01</td>\n",
       "      <td>-6.506986</td>\n",
       "      <td>25.258848</td>\n",
       "      <td>-244.483566</td>\n",
       "      <td>14.086866</td>\n",
       "      <td>-137.740004</td>\n",
       "      <td>26.705889</td>\n",
       "      <td>-123.307487</td>\n",
       "    </tr>\n",
       "  </tbody>\n",
       "</table>\n",
       "<p>8 rows × 52 columns</p>\n",
       "</div>"
      ],
      "text/plain": [
       "       primary_cleaner.input.sulfate  primary_cleaner.input.depressant  \\\n",
       "count                    5286.000000                       5285.000000   \n",
       "mean                      174.839652                          8.683596   \n",
       "std                        43.027080                          3.072050   \n",
       "min                         2.566156                          0.003839   \n",
       "25%                       147.121401                          6.489555   \n",
       "50%                       177.828489                          8.052207   \n",
       "75%                       208.125438                         10.027764   \n",
       "max                       265.983123                         40.000000   \n",
       "\n",
       "       primary_cleaner.input.feed_size  primary_cleaner.input.xanthate  \\\n",
       "count                      5290.000000                     5286.000000   \n",
       "mean                          7.266339                        1.383803   \n",
       "std                           0.610219                        0.643474   \n",
       "min                           5.650000                        0.004984   \n",
       "25%                           6.890000                        0.907623   \n",
       "50%                           7.250000                        1.197610   \n",
       "75%                           7.600000                        1.797819   \n",
       "max                          15.500000                        4.102454   \n",
       "\n",
       "       primary_cleaner.state.floatbank8_a_air  \\\n",
       "count                            5.290000e+03   \n",
       "mean                             1.539494e+03   \n",
       "std                              1.167979e+02   \n",
       "min                              5.445860e-32   \n",
       "25%                              1.498936e+03   \n",
       "50%                              1.585129e+03   \n",
       "75%                              1.602077e+03   \n",
       "max                              2.103104e+03   \n",
       "\n",
       "       primary_cleaner.state.floatbank8_a_level  \\\n",
       "count                               5290.000000   \n",
       "mean                                -497.665883   \n",
       "std                                   19.952431   \n",
       "min                                 -795.316337   \n",
       "25%                                 -500.357298   \n",
       "50%                                 -499.969164   \n",
       "75%                                 -499.568951   \n",
       "max                                  -57.195404   \n",
       "\n",
       "       primary_cleaner.state.floatbank8_b_air  \\\n",
       "count                            5.290000e+03   \n",
       "mean                             1.545174e+03   \n",
       "std                              1.222246e+02   \n",
       "min                              6.647490e-32   \n",
       "25%                              1.498971e+03   \n",
       "50%                              1.595622e+03   \n",
       "75%                              1.602324e+03   \n",
       "max                              1.813084e+03   \n",
       "\n",
       "       primary_cleaner.state.floatbank8_b_level  \\\n",
       "count                               5290.000000   \n",
       "mean                                -500.273098   \n",
       "std                                   32.968307   \n",
       "min                                 -799.997015   \n",
       "25%                                 -500.703002   \n",
       "50%                                 -500.028514   \n",
       "75%                                 -499.293257   \n",
       "max                                 -142.527229   \n",
       "\n",
       "       primary_cleaner.state.floatbank8_c_air  \\\n",
       "count                            5.290000e+03   \n",
       "mean                             1.527272e+03   \n",
       "std                              1.225380e+02   \n",
       "min                              4.033736e-32   \n",
       "25%                              1.473230e+03   \n",
       "50%                              1.549595e+03   \n",
       "75%                              1.601144e+03   \n",
       "max                              1.715054e+03   \n",
       "\n",
       "       primary_cleaner.state.floatbank8_c_level  ...  \\\n",
       "count                               5290.000000  ...   \n",
       "mean                                -498.330680  ...   \n",
       "std                                   21.964876  ...   \n",
       "min                                 -799.960571  ...   \n",
       "25%                                 -501.018117  ...   \n",
       "50%                                 -500.017711  ...   \n",
       "75%                                 -498.994130  ...   \n",
       "max                                 -150.937035  ...   \n",
       "\n",
       "       secondary_cleaner.state.floatbank4_a_air  \\\n",
       "count                              5.290000e+03   \n",
       "mean                               1.632007e+01   \n",
       "std                                3.493583e+00   \n",
       "min                                1.079872e-16   \n",
       "25%                                1.403618e+01   \n",
       "50%                                1.700847e+01   \n",
       "75%                                1.803862e+01   \n",
       "max                                3.005180e+01   \n",
       "\n",
       "       secondary_cleaner.state.floatbank4_a_level  \\\n",
       "count                                 5290.000000   \n",
       "mean                                  -505.144570   \n",
       "std                                     31.427337   \n",
       "min                                   -799.798523   \n",
       "25%                                   -500.868258   \n",
       "50%                                   -500.115727   \n",
       "75%                                   -499.404224   \n",
       "max                                   -401.565212   \n",
       "\n",
       "       secondary_cleaner.state.floatbank4_b_air  \\\n",
       "count                              5.290000e+03   \n",
       "mean                               1.373544e+01   \n",
       "std                                3.430484e+00   \n",
       "min                                2.489718e-17   \n",
       "25%                                1.202862e+01   \n",
       "50%                                1.496486e+01   \n",
       "75%                                1.596213e+01   \n",
       "max                                3.126971e+01   \n",
       "\n",
       "       secondary_cleaner.state.floatbank4_b_level  \\\n",
       "count                                 5290.000000   \n",
       "mean                                  -463.349858   \n",
       "std                                     86.189107   \n",
       "min                                   -800.836914   \n",
       "25%                                   -500.323028   \n",
       "50%                                   -499.576513   \n",
       "75%                                   -400.933805   \n",
       "max                                     -6.506986   \n",
       "\n",
       "       secondary_cleaner.state.floatbank5_a_air  \\\n",
       "count                               5290.000000   \n",
       "mean                                  12.804186   \n",
       "std                                    3.026591   \n",
       "min                                    0.069227   \n",
       "25%                                   10.914838   \n",
       "50%                                   12.954182   \n",
       "75%                                   15.097528   \n",
       "max                                   25.258848   \n",
       "\n",
       "       secondary_cleaner.state.floatbank5_a_level  \\\n",
       "count                                 5290.000000   \n",
       "mean                                  -501.329122   \n",
       "std                                     17.951495   \n",
       "min                                   -797.323986   \n",
       "25%                                   -500.726841   \n",
       "50%                                   -499.990332   \n",
       "75%                                   -499.283191   \n",
       "max                                   -244.483566   \n",
       "\n",
       "       secondary_cleaner.state.floatbank5_b_air  \\\n",
       "count                               5290.000000   \n",
       "mean                                   9.881145   \n",
       "std                                    2.868205   \n",
       "min                                    0.528083   \n",
       "25%                                    8.036719   \n",
       "50%                                   10.004301   \n",
       "75%                                   11.997467   \n",
       "max                                   14.086866   \n",
       "\n",
       "       secondary_cleaner.state.floatbank5_b_level  \\\n",
       "count                                 5290.000000   \n",
       "mean                                  -495.663398   \n",
       "std                                     34.535007   \n",
       "min                                   -800.220337   \n",
       "25%                                   -500.194668   \n",
       "50%                                   -499.990535   \n",
       "75%                                   -499.719913   \n",
       "max                                   -137.740004   \n",
       "\n",
       "       secondary_cleaner.state.floatbank6_a_air  \\\n",
       "count                               5290.000000   \n",
       "mean                                  17.304935   \n",
       "std                                    4.536544   \n",
       "min                                   -0.079426   \n",
       "25%                                   13.997317   \n",
       "50%                                   16.014935   \n",
       "75%                                   21.020013   \n",
       "max                                   26.705889   \n",
       "\n",
       "       secondary_cleaner.state.floatbank6_a_level  \n",
       "count                                 5290.000000  \n",
       "mean                                  -501.793193  \n",
       "std                                     39.044215  \n",
       "min                                   -809.741464  \n",
       "25%                                   -500.690984  \n",
       "50%                                   -500.007126  \n",
       "75%                                   -499.373018  \n",
       "max                                   -123.307487  \n",
       "\n",
       "[8 rows x 52 columns]"
      ]
     },
     "metadata": {},
     "output_type": "display_data"
    },
    {
     "data": {
      "text/html": [
       "<div>\n",
       "<style scoped>\n",
       "    .dataframe tbody tr th:only-of-type {\n",
       "        vertical-align: middle;\n",
       "    }\n",
       "\n",
       "    .dataframe tbody tr th {\n",
       "        vertical-align: top;\n",
       "    }\n",
       "\n",
       "    .dataframe thead th {\n",
       "        text-align: right;\n",
       "    }\n",
       "</style>\n",
       "<table border=\"1\" class=\"dataframe\">\n",
       "  <thead>\n",
       "    <tr style=\"text-align: right;\">\n",
       "      <th></th>\n",
       "      <th>final.output.concentrate_ag</th>\n",
       "      <th>final.output.concentrate_pb</th>\n",
       "      <th>final.output.concentrate_sol</th>\n",
       "      <th>final.output.concentrate_au</th>\n",
       "      <th>final.output.recovery</th>\n",
       "      <th>final.output.tail_ag</th>\n",
       "      <th>final.output.tail_pb</th>\n",
       "      <th>final.output.tail_sol</th>\n",
       "      <th>final.output.tail_au</th>\n",
       "      <th>primary_cleaner.input.sulfate</th>\n",
       "      <th>...</th>\n",
       "      <th>secondary_cleaner.state.floatbank4_a_air</th>\n",
       "      <th>secondary_cleaner.state.floatbank4_a_level</th>\n",
       "      <th>secondary_cleaner.state.floatbank4_b_air</th>\n",
       "      <th>secondary_cleaner.state.floatbank4_b_level</th>\n",
       "      <th>secondary_cleaner.state.floatbank5_a_air</th>\n",
       "      <th>secondary_cleaner.state.floatbank5_a_level</th>\n",
       "      <th>secondary_cleaner.state.floatbank5_b_air</th>\n",
       "      <th>secondary_cleaner.state.floatbank5_b_level</th>\n",
       "      <th>secondary_cleaner.state.floatbank6_a_air</th>\n",
       "      <th>secondary_cleaner.state.floatbank6_a_level</th>\n",
       "    </tr>\n",
       "    <tr>\n",
       "      <th>date</th>\n",
       "      <th></th>\n",
       "      <th></th>\n",
       "      <th></th>\n",
       "      <th></th>\n",
       "      <th></th>\n",
       "      <th></th>\n",
       "      <th></th>\n",
       "      <th></th>\n",
       "      <th></th>\n",
       "      <th></th>\n",
       "      <th></th>\n",
       "      <th></th>\n",
       "      <th></th>\n",
       "      <th></th>\n",
       "      <th></th>\n",
       "      <th></th>\n",
       "      <th></th>\n",
       "      <th></th>\n",
       "      <th></th>\n",
       "      <th></th>\n",
       "      <th></th>\n",
       "    </tr>\n",
       "  </thead>\n",
       "  <tbody>\n",
       "    <tr>\n",
       "      <th>2016-01-15 00:00:00</th>\n",
       "      <td>6.055403</td>\n",
       "      <td>9.889648</td>\n",
       "      <td>5.507324</td>\n",
       "      <td>42.192020</td>\n",
       "      <td>70.541216</td>\n",
       "      <td>10.411962</td>\n",
       "      <td>0.895447</td>\n",
       "      <td>16.904297</td>\n",
       "      <td>2.143149</td>\n",
       "      <td>127.092003</td>\n",
       "      <td>...</td>\n",
       "      <td>14.016835</td>\n",
       "      <td>-502.488007</td>\n",
       "      <td>12.099931</td>\n",
       "      <td>-504.715942</td>\n",
       "      <td>9.925633</td>\n",
       "      <td>-498.310211</td>\n",
       "      <td>8.079666</td>\n",
       "      <td>-500.470978</td>\n",
       "      <td>14.151341</td>\n",
       "      <td>-605.841980</td>\n",
       "    </tr>\n",
       "    <tr>\n",
       "      <th>2016-01-15 01:00:00</th>\n",
       "      <td>6.029369</td>\n",
       "      <td>9.968944</td>\n",
       "      <td>5.257781</td>\n",
       "      <td>42.701629</td>\n",
       "      <td>69.266198</td>\n",
       "      <td>10.462676</td>\n",
       "      <td>0.927452</td>\n",
       "      <td>16.634514</td>\n",
       "      <td>2.224930</td>\n",
       "      <td>125.629232</td>\n",
       "      <td>...</td>\n",
       "      <td>13.992281</td>\n",
       "      <td>-505.503262</td>\n",
       "      <td>11.950531</td>\n",
       "      <td>-501.331529</td>\n",
       "      <td>10.039245</td>\n",
       "      <td>-500.169983</td>\n",
       "      <td>7.984757</td>\n",
       "      <td>-500.582168</td>\n",
       "      <td>13.998353</td>\n",
       "      <td>-599.787184</td>\n",
       "    </tr>\n",
       "    <tr>\n",
       "      <th>2016-01-15 02:00:00</th>\n",
       "      <td>6.055926</td>\n",
       "      <td>10.213995</td>\n",
       "      <td>5.383759</td>\n",
       "      <td>42.657501</td>\n",
       "      <td>68.116445</td>\n",
       "      <td>10.507046</td>\n",
       "      <td>0.953716</td>\n",
       "      <td>16.208849</td>\n",
       "      <td>2.257889</td>\n",
       "      <td>123.819808</td>\n",
       "      <td>...</td>\n",
       "      <td>14.015015</td>\n",
       "      <td>-502.520901</td>\n",
       "      <td>11.912783</td>\n",
       "      <td>-501.133383</td>\n",
       "      <td>10.070913</td>\n",
       "      <td>-500.129135</td>\n",
       "      <td>8.013877</td>\n",
       "      <td>-500.517572</td>\n",
       "      <td>14.028663</td>\n",
       "      <td>-601.427363</td>\n",
       "    </tr>\n",
       "    <tr>\n",
       "      <th>2016-01-15 03:00:00</th>\n",
       "      <td>6.047977</td>\n",
       "      <td>9.977019</td>\n",
       "      <td>4.858634</td>\n",
       "      <td>42.689819</td>\n",
       "      <td>68.347543</td>\n",
       "      <td>10.422762</td>\n",
       "      <td>0.883763</td>\n",
       "      <td>16.532835</td>\n",
       "      <td>2.146849</td>\n",
       "      <td>122.270188</td>\n",
       "      <td>...</td>\n",
       "      <td>14.036510</td>\n",
       "      <td>-500.857308</td>\n",
       "      <td>11.999550</td>\n",
       "      <td>-501.193686</td>\n",
       "      <td>9.970366</td>\n",
       "      <td>-499.201640</td>\n",
       "      <td>7.977324</td>\n",
       "      <td>-500.255908</td>\n",
       "      <td>14.005551</td>\n",
       "      <td>-599.996129</td>\n",
       "    </tr>\n",
       "    <tr>\n",
       "      <th>2016-01-15 04:00:00</th>\n",
       "      <td>6.148599</td>\n",
       "      <td>10.142511</td>\n",
       "      <td>4.939416</td>\n",
       "      <td>42.774141</td>\n",
       "      <td>66.927016</td>\n",
       "      <td>10.360302</td>\n",
       "      <td>0.792826</td>\n",
       "      <td>16.525686</td>\n",
       "      <td>2.055292</td>\n",
       "      <td>117.988169</td>\n",
       "      <td>...</td>\n",
       "      <td>14.027298</td>\n",
       "      <td>-499.838632</td>\n",
       "      <td>11.953070</td>\n",
       "      <td>-501.053894</td>\n",
       "      <td>9.925709</td>\n",
       "      <td>-501.686727</td>\n",
       "      <td>7.894242</td>\n",
       "      <td>-500.356035</td>\n",
       "      <td>13.996647</td>\n",
       "      <td>-601.496691</td>\n",
       "    </tr>\n",
       "  </tbody>\n",
       "</table>\n",
       "<p>5 rows × 86 columns</p>\n",
       "</div>"
      ],
      "text/plain": [
       "                     final.output.concentrate_ag  final.output.concentrate_pb  \\\n",
       "date                                                                            \n",
       "2016-01-15 00:00:00                     6.055403                     9.889648   \n",
       "2016-01-15 01:00:00                     6.029369                     9.968944   \n",
       "2016-01-15 02:00:00                     6.055926                    10.213995   \n",
       "2016-01-15 03:00:00                     6.047977                     9.977019   \n",
       "2016-01-15 04:00:00                     6.148599                    10.142511   \n",
       "\n",
       "                     final.output.concentrate_sol  \\\n",
       "date                                                \n",
       "2016-01-15 00:00:00                      5.507324   \n",
       "2016-01-15 01:00:00                      5.257781   \n",
       "2016-01-15 02:00:00                      5.383759   \n",
       "2016-01-15 03:00:00                      4.858634   \n",
       "2016-01-15 04:00:00                      4.939416   \n",
       "\n",
       "                     final.output.concentrate_au  final.output.recovery  \\\n",
       "date                                                                      \n",
       "2016-01-15 00:00:00                    42.192020              70.541216   \n",
       "2016-01-15 01:00:00                    42.701629              69.266198   \n",
       "2016-01-15 02:00:00                    42.657501              68.116445   \n",
       "2016-01-15 03:00:00                    42.689819              68.347543   \n",
       "2016-01-15 04:00:00                    42.774141              66.927016   \n",
       "\n",
       "                     final.output.tail_ag  final.output.tail_pb  \\\n",
       "date                                                              \n",
       "2016-01-15 00:00:00             10.411962              0.895447   \n",
       "2016-01-15 01:00:00             10.462676              0.927452   \n",
       "2016-01-15 02:00:00             10.507046              0.953716   \n",
       "2016-01-15 03:00:00             10.422762              0.883763   \n",
       "2016-01-15 04:00:00             10.360302              0.792826   \n",
       "\n",
       "                     final.output.tail_sol  final.output.tail_au  \\\n",
       "date                                                               \n",
       "2016-01-15 00:00:00              16.904297              2.143149   \n",
       "2016-01-15 01:00:00              16.634514              2.224930   \n",
       "2016-01-15 02:00:00              16.208849              2.257889   \n",
       "2016-01-15 03:00:00              16.532835              2.146849   \n",
       "2016-01-15 04:00:00              16.525686              2.055292   \n",
       "\n",
       "                     primary_cleaner.input.sulfate  ...  \\\n",
       "date                                                ...   \n",
       "2016-01-15 00:00:00                     127.092003  ...   \n",
       "2016-01-15 01:00:00                     125.629232  ...   \n",
       "2016-01-15 02:00:00                     123.819808  ...   \n",
       "2016-01-15 03:00:00                     122.270188  ...   \n",
       "2016-01-15 04:00:00                     117.988169  ...   \n",
       "\n",
       "                     secondary_cleaner.state.floatbank4_a_air  \\\n",
       "date                                                            \n",
       "2016-01-15 00:00:00                                 14.016835   \n",
       "2016-01-15 01:00:00                                 13.992281   \n",
       "2016-01-15 02:00:00                                 14.015015   \n",
       "2016-01-15 03:00:00                                 14.036510   \n",
       "2016-01-15 04:00:00                                 14.027298   \n",
       "\n",
       "                     secondary_cleaner.state.floatbank4_a_level  \\\n",
       "date                                                              \n",
       "2016-01-15 00:00:00                                 -502.488007   \n",
       "2016-01-15 01:00:00                                 -505.503262   \n",
       "2016-01-15 02:00:00                                 -502.520901   \n",
       "2016-01-15 03:00:00                                 -500.857308   \n",
       "2016-01-15 04:00:00                                 -499.838632   \n",
       "\n",
       "                     secondary_cleaner.state.floatbank4_b_air  \\\n",
       "date                                                            \n",
       "2016-01-15 00:00:00                                 12.099931   \n",
       "2016-01-15 01:00:00                                 11.950531   \n",
       "2016-01-15 02:00:00                                 11.912783   \n",
       "2016-01-15 03:00:00                                 11.999550   \n",
       "2016-01-15 04:00:00                                 11.953070   \n",
       "\n",
       "                     secondary_cleaner.state.floatbank4_b_level  \\\n",
       "date                                                              \n",
       "2016-01-15 00:00:00                                 -504.715942   \n",
       "2016-01-15 01:00:00                                 -501.331529   \n",
       "2016-01-15 02:00:00                                 -501.133383   \n",
       "2016-01-15 03:00:00                                 -501.193686   \n",
       "2016-01-15 04:00:00                                 -501.053894   \n",
       "\n",
       "                     secondary_cleaner.state.floatbank5_a_air  \\\n",
       "date                                                            \n",
       "2016-01-15 00:00:00                                  9.925633   \n",
       "2016-01-15 01:00:00                                 10.039245   \n",
       "2016-01-15 02:00:00                                 10.070913   \n",
       "2016-01-15 03:00:00                                  9.970366   \n",
       "2016-01-15 04:00:00                                  9.925709   \n",
       "\n",
       "                     secondary_cleaner.state.floatbank5_a_level  \\\n",
       "date                                                              \n",
       "2016-01-15 00:00:00                                 -498.310211   \n",
       "2016-01-15 01:00:00                                 -500.169983   \n",
       "2016-01-15 02:00:00                                 -500.129135   \n",
       "2016-01-15 03:00:00                                 -499.201640   \n",
       "2016-01-15 04:00:00                                 -501.686727   \n",
       "\n",
       "                     secondary_cleaner.state.floatbank5_b_air  \\\n",
       "date                                                            \n",
       "2016-01-15 00:00:00                                  8.079666   \n",
       "2016-01-15 01:00:00                                  7.984757   \n",
       "2016-01-15 02:00:00                                  8.013877   \n",
       "2016-01-15 03:00:00                                  7.977324   \n",
       "2016-01-15 04:00:00                                  7.894242   \n",
       "\n",
       "                     secondary_cleaner.state.floatbank5_b_level  \\\n",
       "date                                                              \n",
       "2016-01-15 00:00:00                                 -500.470978   \n",
       "2016-01-15 01:00:00                                 -500.582168   \n",
       "2016-01-15 02:00:00                                 -500.517572   \n",
       "2016-01-15 03:00:00                                 -500.255908   \n",
       "2016-01-15 04:00:00                                 -500.356035   \n",
       "\n",
       "                     secondary_cleaner.state.floatbank6_a_air  \\\n",
       "date                                                            \n",
       "2016-01-15 00:00:00                                 14.151341   \n",
       "2016-01-15 01:00:00                                 13.998353   \n",
       "2016-01-15 02:00:00                                 14.028663   \n",
       "2016-01-15 03:00:00                                 14.005551   \n",
       "2016-01-15 04:00:00                                 13.996647   \n",
       "\n",
       "                     secondary_cleaner.state.floatbank6_a_level  \n",
       "date                                                             \n",
       "2016-01-15 00:00:00                                 -605.841980  \n",
       "2016-01-15 01:00:00                                 -599.787184  \n",
       "2016-01-15 02:00:00                                 -601.427363  \n",
       "2016-01-15 03:00:00                                 -599.996129  \n",
       "2016-01-15 04:00:00                                 -601.496691  \n",
       "\n",
       "[5 rows x 86 columns]"
      ]
     },
     "metadata": {},
     "output_type": "display_data"
    },
    {
     "name": "stdout",
     "output_type": "stream",
     "text": [
      "<class 'pandas.core.frame.DataFrame'>\n",
      "Index: 19439 entries, 2016-01-15 00:00:00 to 2018-08-18 10:59:59\n",
      "Data columns (total 86 columns):\n",
      " #   Column                                              Non-Null Count  Dtype  \n",
      "---  ------                                              --------------  -----  \n",
      " 0   final.output.concentrate_ag                         19438 non-null  float64\n",
      " 1   final.output.concentrate_pb                         19438 non-null  float64\n",
      " 2   final.output.concentrate_sol                        19228 non-null  float64\n",
      " 3   final.output.concentrate_au                         19439 non-null  float64\n",
      " 4   final.output.recovery                               19439 non-null  float64\n",
      " 5   final.output.tail_ag                                19438 non-null  float64\n",
      " 6   final.output.tail_pb                                19338 non-null  float64\n",
      " 7   final.output.tail_sol                               19433 non-null  float64\n",
      " 8   final.output.tail_au                                19439 non-null  float64\n",
      " 9   primary_cleaner.input.sulfate                       19415 non-null  float64\n",
      " 10  primary_cleaner.input.depressant                    19402 non-null  float64\n",
      " 11  primary_cleaner.input.feed_size                     19439 non-null  float64\n",
      " 12  primary_cleaner.input.xanthate                      19335 non-null  float64\n",
      " 13  primary_cleaner.output.concentrate_ag               19439 non-null  float64\n",
      " 14  primary_cleaner.output.concentrate_pb               19323 non-null  float64\n",
      " 15  primary_cleaner.output.concentrate_sol              19069 non-null  float64\n",
      " 16  primary_cleaner.output.concentrate_au               19439 non-null  float64\n",
      " 17  primary_cleaner.output.tail_ag                      19435 non-null  float64\n",
      " 18  primary_cleaner.output.tail_pb                      19418 non-null  float64\n",
      " 19  primary_cleaner.output.tail_sol                     19377 non-null  float64\n",
      " 20  primary_cleaner.output.tail_au                      19439 non-null  float64\n",
      " 21  primary_cleaner.state.floatbank8_a_air              19435 non-null  float64\n",
      " 22  primary_cleaner.state.floatbank8_a_level            19438 non-null  float64\n",
      " 23  primary_cleaner.state.floatbank8_b_air              19435 non-null  float64\n",
      " 24  primary_cleaner.state.floatbank8_b_level            19438 non-null  float64\n",
      " 25  primary_cleaner.state.floatbank8_c_air              19437 non-null  float64\n",
      " 26  primary_cleaner.state.floatbank8_c_level            19438 non-null  float64\n",
      " 27  primary_cleaner.state.floatbank8_d_air              19436 non-null  float64\n",
      " 28  primary_cleaner.state.floatbank8_d_level            19438 non-null  float64\n",
      " 29  rougher.calculation.sulfate_to_au_concentrate       19437 non-null  float64\n",
      " 30  rougher.calculation.floatbank10_sulfate_to_au_feed  19437 non-null  float64\n",
      " 31  rougher.calculation.floatbank11_sulfate_to_au_feed  19437 non-null  float64\n",
      " 32  rougher.calculation.au_pb_ratio                     19439 non-null  float64\n",
      " 33  rougher.input.feed_ag                               19439 non-null  float64\n",
      " 34  rougher.input.feed_pb                               19339 non-null  float64\n",
      " 35  rougher.input.feed_rate                             19428 non-null  float64\n",
      " 36  rougher.input.feed_size                             19294 non-null  float64\n",
      " 37  rougher.input.feed_sol                              19340 non-null  float64\n",
      " 38  rougher.input.feed_au                               19439 non-null  float64\n",
      " 39  rougher.input.floatbank10_sulfate                   19405 non-null  float64\n",
      " 40  rougher.input.floatbank10_xanthate                  19431 non-null  float64\n",
      " 41  rougher.input.floatbank11_sulfate                   19395 non-null  float64\n",
      " 42  rougher.input.floatbank11_xanthate                  18986 non-null  float64\n",
      " 43  rougher.output.concentrate_ag                       19439 non-null  float64\n",
      " 44  rougher.output.concentrate_pb                       19439 non-null  float64\n",
      " 45  rougher.output.concentrate_sol                      19416 non-null  float64\n",
      " 46  rougher.output.concentrate_au                       19439 non-null  float64\n",
      " 47  rougher.output.recovery                             19439 non-null  float64\n",
      " 48  rougher.output.tail_ag                              19438 non-null  float64\n",
      " 49  rougher.output.tail_pb                              19439 non-null  float64\n",
      " 50  rougher.output.tail_sol                             19439 non-null  float64\n",
      " 51  rougher.output.tail_au                              19439 non-null  float64\n",
      " 52  rougher.state.floatbank10_a_air                     19438 non-null  float64\n",
      " 53  rougher.state.floatbank10_a_level                   19438 non-null  float64\n",
      " 54  rougher.state.floatbank10_b_air                     19438 non-null  float64\n",
      " 55  rougher.state.floatbank10_b_level                   19438 non-null  float64\n",
      " 56  rougher.state.floatbank10_c_air                     19438 non-null  float64\n",
      " 57  rougher.state.floatbank10_c_level                   19438 non-null  float64\n",
      " 58  rougher.state.floatbank10_d_air                     19439 non-null  float64\n",
      " 59  rougher.state.floatbank10_d_level                   19439 non-null  float64\n",
      " 60  rougher.state.floatbank10_e_air                     19003 non-null  float64\n",
      " 61  rougher.state.floatbank10_e_level                   19439 non-null  float64\n",
      " 62  rougher.state.floatbank10_f_air                     19439 non-null  float64\n",
      " 63  rougher.state.floatbank10_f_level                   19439 non-null  float64\n",
      " 64  secondary_cleaner.output.tail_ag                    19437 non-null  float64\n",
      " 65  secondary_cleaner.output.tail_pb                    19427 non-null  float64\n",
      " 66  secondary_cleaner.output.tail_sol                   17691 non-null  float64\n",
      " 67  secondary_cleaner.output.tail_au                    19439 non-null  float64\n",
      " 68  secondary_cleaner.state.floatbank2_a_air            19219 non-null  float64\n",
      " 69  secondary_cleaner.state.floatbank2_a_level          19438 non-null  float64\n",
      " 70  secondary_cleaner.state.floatbank2_b_air            19416 non-null  float64\n",
      " 71  secondary_cleaner.state.floatbank2_b_level          19438 non-null  float64\n",
      " 72  secondary_cleaner.state.floatbank3_a_air            19426 non-null  float64\n",
      " 73  secondary_cleaner.state.floatbank3_a_level          19438 non-null  float64\n",
      " 74  secondary_cleaner.state.floatbank3_b_air            19438 non-null  float64\n",
      " 75  secondary_cleaner.state.floatbank3_b_level          19438 non-null  float64\n",
      " 76  secondary_cleaner.state.floatbank4_a_air            19433 non-null  float64\n",
      " 77  secondary_cleaner.state.floatbank4_a_level          19438 non-null  float64\n",
      " 78  secondary_cleaner.state.floatbank4_b_air            19438 non-null  float64\n",
      " 79  secondary_cleaner.state.floatbank4_b_level          19438 non-null  float64\n",
      " 80  secondary_cleaner.state.floatbank5_a_air            19438 non-null  float64\n",
      " 81  secondary_cleaner.state.floatbank5_a_level          19438 non-null  float64\n",
      " 82  secondary_cleaner.state.floatbank5_b_air            19438 non-null  float64\n",
      " 83  secondary_cleaner.state.floatbank5_b_level          19438 non-null  float64\n",
      " 84  secondary_cleaner.state.floatbank6_a_air            19437 non-null  float64\n",
      " 85  secondary_cleaner.state.floatbank6_a_level          19438 non-null  float64\n",
      "dtypes: float64(86)\n",
      "memory usage: 12.9+ MB\n"
     ]
    },
    {
     "data": {
      "text/html": [
       "<div>\n",
       "<style scoped>\n",
       "    .dataframe tbody tr th:only-of-type {\n",
       "        vertical-align: middle;\n",
       "    }\n",
       "\n",
       "    .dataframe tbody tr th {\n",
       "        vertical-align: top;\n",
       "    }\n",
       "\n",
       "    .dataframe thead th {\n",
       "        text-align: right;\n",
       "    }\n",
       "</style>\n",
       "<table border=\"1\" class=\"dataframe\">\n",
       "  <thead>\n",
       "    <tr style=\"text-align: right;\">\n",
       "      <th></th>\n",
       "      <th>final.output.concentrate_ag</th>\n",
       "      <th>final.output.concentrate_pb</th>\n",
       "      <th>final.output.concentrate_sol</th>\n",
       "      <th>final.output.concentrate_au</th>\n",
       "      <th>final.output.recovery</th>\n",
       "      <th>final.output.tail_ag</th>\n",
       "      <th>final.output.tail_pb</th>\n",
       "      <th>final.output.tail_sol</th>\n",
       "      <th>final.output.tail_au</th>\n",
       "      <th>primary_cleaner.input.sulfate</th>\n",
       "      <th>...</th>\n",
       "      <th>secondary_cleaner.state.floatbank4_a_air</th>\n",
       "      <th>secondary_cleaner.state.floatbank4_a_level</th>\n",
       "      <th>secondary_cleaner.state.floatbank4_b_air</th>\n",
       "      <th>secondary_cleaner.state.floatbank4_b_level</th>\n",
       "      <th>secondary_cleaner.state.floatbank5_a_air</th>\n",
       "      <th>secondary_cleaner.state.floatbank5_a_level</th>\n",
       "      <th>secondary_cleaner.state.floatbank5_b_air</th>\n",
       "      <th>secondary_cleaner.state.floatbank5_b_level</th>\n",
       "      <th>secondary_cleaner.state.floatbank6_a_air</th>\n",
       "      <th>secondary_cleaner.state.floatbank6_a_level</th>\n",
       "    </tr>\n",
       "  </thead>\n",
       "  <tbody>\n",
       "    <tr>\n",
       "      <th>count</th>\n",
       "      <td>19438.000000</td>\n",
       "      <td>19438.000000</td>\n",
       "      <td>19228.000000</td>\n",
       "      <td>19439.000000</td>\n",
       "      <td>19439.000000</td>\n",
       "      <td>19438.000000</td>\n",
       "      <td>19338.000000</td>\n",
       "      <td>19433.000000</td>\n",
       "      <td>19439.000000</td>\n",
       "      <td>19415.000000</td>\n",
       "      <td>...</td>\n",
       "      <td>19433.000000</td>\n",
       "      <td>19438.000000</td>\n",
       "      <td>19438.000000</td>\n",
       "      <td>19438.000000</td>\n",
       "      <td>19438.000000</td>\n",
       "      <td>19438.000000</td>\n",
       "      <td>19438.000000</td>\n",
       "      <td>19438.000000</td>\n",
       "      <td>19437.000000</td>\n",
       "      <td>19438.000000</td>\n",
       "    </tr>\n",
       "    <tr>\n",
       "      <th>mean</th>\n",
       "      <td>5.168470</td>\n",
       "      <td>9.978895</td>\n",
       "      <td>9.501224</td>\n",
       "      <td>44.076513</td>\n",
       "      <td>67.050208</td>\n",
       "      <td>9.688589</td>\n",
       "      <td>2.705795</td>\n",
       "      <td>10.583728</td>\n",
       "      <td>3.042467</td>\n",
       "      <td>144.624774</td>\n",
       "      <td>...</td>\n",
       "      <td>18.987674</td>\n",
       "      <td>-485.894516</td>\n",
       "      <td>15.010366</td>\n",
       "      <td>-461.078636</td>\n",
       "      <td>15.694452</td>\n",
       "      <td>-488.684065</td>\n",
       "      <td>12.198224</td>\n",
       "      <td>-487.149827</td>\n",
       "      <td>18.959024</td>\n",
       "      <td>-505.436305</td>\n",
       "    </tr>\n",
       "    <tr>\n",
       "      <th>std</th>\n",
       "      <td>1.372348</td>\n",
       "      <td>1.669240</td>\n",
       "      <td>2.787537</td>\n",
       "      <td>5.129784</td>\n",
       "      <td>10.125840</td>\n",
       "      <td>2.328642</td>\n",
       "      <td>0.949077</td>\n",
       "      <td>2.868782</td>\n",
       "      <td>0.922808</td>\n",
       "      <td>44.464071</td>\n",
       "      <td>...</td>\n",
       "      <td>5.411058</td>\n",
       "      <td>47.758570</td>\n",
       "      <td>4.890228</td>\n",
       "      <td>67.405524</td>\n",
       "      <td>5.510974</td>\n",
       "      <td>34.533396</td>\n",
       "      <td>5.333024</td>\n",
       "      <td>38.347312</td>\n",
       "      <td>5.550498</td>\n",
       "      <td>37.689057</td>\n",
       "    </tr>\n",
       "    <tr>\n",
       "      <th>min</th>\n",
       "      <td>0.000000</td>\n",
       "      <td>0.000000</td>\n",
       "      <td>0.000000</td>\n",
       "      <td>0.000000</td>\n",
       "      <td>0.000000</td>\n",
       "      <td>0.000000</td>\n",
       "      <td>0.000000</td>\n",
       "      <td>0.000000</td>\n",
       "      <td>0.000000</td>\n",
       "      <td>0.003112</td>\n",
       "      <td>...</td>\n",
       "      <td>0.000000</td>\n",
       "      <td>-799.798523</td>\n",
       "      <td>0.000000</td>\n",
       "      <td>-800.836914</td>\n",
       "      <td>-0.372054</td>\n",
       "      <td>-797.323986</td>\n",
       "      <td>0.528083</td>\n",
       "      <td>-800.220337</td>\n",
       "      <td>-0.079426</td>\n",
       "      <td>-809.741464</td>\n",
       "    </tr>\n",
       "    <tr>\n",
       "      <th>25%</th>\n",
       "      <td>4.251240</td>\n",
       "      <td>9.137262</td>\n",
       "      <td>7.722820</td>\n",
       "      <td>43.402215</td>\n",
       "      <td>63.299712</td>\n",
       "      <td>8.062878</td>\n",
       "      <td>2.040119</td>\n",
       "      <td>8.938947</td>\n",
       "      <td>2.461138</td>\n",
       "      <td>114.107029</td>\n",
       "      <td>...</td>\n",
       "      <td>14.975734</td>\n",
       "      <td>-500.704892</td>\n",
       "      <td>11.940294</td>\n",
       "      <td>-500.187742</td>\n",
       "      <td>10.988606</td>\n",
       "      <td>-500.458467</td>\n",
       "      <td>8.971105</td>\n",
       "      <td>-500.129462</td>\n",
       "      <td>14.983037</td>\n",
       "      <td>-500.728067</td>\n",
       "    </tr>\n",
       "    <tr>\n",
       "      <th>50%</th>\n",
       "      <td>5.066094</td>\n",
       "      <td>10.102433</td>\n",
       "      <td>9.218961</td>\n",
       "      <td>45.011244</td>\n",
       "      <td>68.172738</td>\n",
       "      <td>9.743623</td>\n",
       "      <td>2.748730</td>\n",
       "      <td>10.622456</td>\n",
       "      <td>2.984909</td>\n",
       "      <td>143.232103</td>\n",
       "      <td>...</td>\n",
       "      <td>18.017481</td>\n",
       "      <td>-499.837793</td>\n",
       "      <td>14.971014</td>\n",
       "      <td>-499.459786</td>\n",
       "      <td>15.000036</td>\n",
       "      <td>-499.802605</td>\n",
       "      <td>11.019433</td>\n",
       "      <td>-499.935317</td>\n",
       "      <td>19.960541</td>\n",
       "      <td>-500.048400</td>\n",
       "    </tr>\n",
       "    <tr>\n",
       "      <th>75%</th>\n",
       "      <td>5.895527</td>\n",
       "      <td>11.035769</td>\n",
       "      <td>10.947813</td>\n",
       "      <td>46.275313</td>\n",
       "      <td>72.686642</td>\n",
       "      <td>11.134294</td>\n",
       "      <td>3.333216</td>\n",
       "      <td>12.104271</td>\n",
       "      <td>3.571351</td>\n",
       "      <td>175.075656</td>\n",
       "      <td>...</td>\n",
       "      <td>23.012470</td>\n",
       "      <td>-498.249730</td>\n",
       "      <td>19.034162</td>\n",
       "      <td>-400.118106</td>\n",
       "      <td>18.026190</td>\n",
       "      <td>-498.384187</td>\n",
       "      <td>14.019088</td>\n",
       "      <td>-499.436708</td>\n",
       "      <td>24.003170</td>\n",
       "      <td>-499.495378</td>\n",
       "    </tr>\n",
       "    <tr>\n",
       "      <th>max</th>\n",
       "      <td>16.001945</td>\n",
       "      <td>17.031899</td>\n",
       "      <td>19.615720</td>\n",
       "      <td>52.756638</td>\n",
       "      <td>100.000000</td>\n",
       "      <td>19.552149</td>\n",
       "      <td>5.804178</td>\n",
       "      <td>22.317730</td>\n",
       "      <td>8.245022</td>\n",
       "      <td>265.983123</td>\n",
       "      <td>...</td>\n",
       "      <td>30.115735</td>\n",
       "      <td>-245.239184</td>\n",
       "      <td>31.269706</td>\n",
       "      <td>-6.506986</td>\n",
       "      <td>43.709931</td>\n",
       "      <td>-244.483566</td>\n",
       "      <td>27.926001</td>\n",
       "      <td>-137.740004</td>\n",
       "      <td>32.188906</td>\n",
       "      <td>-104.427459</td>\n",
       "    </tr>\n",
       "  </tbody>\n",
       "</table>\n",
       "<p>8 rows × 86 columns</p>\n",
       "</div>"
      ],
      "text/plain": [
       "       final.output.concentrate_ag  final.output.concentrate_pb  \\\n",
       "count                 19438.000000                 19438.000000   \n",
       "mean                      5.168470                     9.978895   \n",
       "std                       1.372348                     1.669240   \n",
       "min                       0.000000                     0.000000   \n",
       "25%                       4.251240                     9.137262   \n",
       "50%                       5.066094                    10.102433   \n",
       "75%                       5.895527                    11.035769   \n",
       "max                      16.001945                    17.031899   \n",
       "\n",
       "       final.output.concentrate_sol  final.output.concentrate_au  \\\n",
       "count                  19228.000000                 19439.000000   \n",
       "mean                       9.501224                    44.076513   \n",
       "std                        2.787537                     5.129784   \n",
       "min                        0.000000                     0.000000   \n",
       "25%                        7.722820                    43.402215   \n",
       "50%                        9.218961                    45.011244   \n",
       "75%                       10.947813                    46.275313   \n",
       "max                       19.615720                    52.756638   \n",
       "\n",
       "       final.output.recovery  final.output.tail_ag  final.output.tail_pb  \\\n",
       "count           19439.000000          19438.000000          19338.000000   \n",
       "mean               67.050208              9.688589              2.705795   \n",
       "std                10.125840              2.328642              0.949077   \n",
       "min                 0.000000              0.000000              0.000000   \n",
       "25%                63.299712              8.062878              2.040119   \n",
       "50%                68.172738              9.743623              2.748730   \n",
       "75%                72.686642             11.134294              3.333216   \n",
       "max               100.000000             19.552149              5.804178   \n",
       "\n",
       "       final.output.tail_sol  final.output.tail_au  \\\n",
       "count           19433.000000          19439.000000   \n",
       "mean               10.583728              3.042467   \n",
       "std                 2.868782              0.922808   \n",
       "min                 0.000000              0.000000   \n",
       "25%                 8.938947              2.461138   \n",
       "50%                10.622456              2.984909   \n",
       "75%                12.104271              3.571351   \n",
       "max                22.317730              8.245022   \n",
       "\n",
       "       primary_cleaner.input.sulfate  ...  \\\n",
       "count                   19415.000000  ...   \n",
       "mean                      144.624774  ...   \n",
       "std                        44.464071  ...   \n",
       "min                         0.003112  ...   \n",
       "25%                       114.107029  ...   \n",
       "50%                       143.232103  ...   \n",
       "75%                       175.075656  ...   \n",
       "max                       265.983123  ...   \n",
       "\n",
       "       secondary_cleaner.state.floatbank4_a_air  \\\n",
       "count                              19433.000000   \n",
       "mean                                  18.987674   \n",
       "std                                    5.411058   \n",
       "min                                    0.000000   \n",
       "25%                                   14.975734   \n",
       "50%                                   18.017481   \n",
       "75%                                   23.012470   \n",
       "max                                   30.115735   \n",
       "\n",
       "       secondary_cleaner.state.floatbank4_a_level  \\\n",
       "count                                19438.000000   \n",
       "mean                                  -485.894516   \n",
       "std                                     47.758570   \n",
       "min                                   -799.798523   \n",
       "25%                                   -500.704892   \n",
       "50%                                   -499.837793   \n",
       "75%                                   -498.249730   \n",
       "max                                   -245.239184   \n",
       "\n",
       "       secondary_cleaner.state.floatbank4_b_air  \\\n",
       "count                              19438.000000   \n",
       "mean                                  15.010366   \n",
       "std                                    4.890228   \n",
       "min                                    0.000000   \n",
       "25%                                   11.940294   \n",
       "50%                                   14.971014   \n",
       "75%                                   19.034162   \n",
       "max                                   31.269706   \n",
       "\n",
       "       secondary_cleaner.state.floatbank4_b_level  \\\n",
       "count                                19438.000000   \n",
       "mean                                  -461.078636   \n",
       "std                                     67.405524   \n",
       "min                                   -800.836914   \n",
       "25%                                   -500.187742   \n",
       "50%                                   -499.459786   \n",
       "75%                                   -400.118106   \n",
       "max                                     -6.506986   \n",
       "\n",
       "       secondary_cleaner.state.floatbank5_a_air  \\\n",
       "count                              19438.000000   \n",
       "mean                                  15.694452   \n",
       "std                                    5.510974   \n",
       "min                                   -0.372054   \n",
       "25%                                   10.988606   \n",
       "50%                                   15.000036   \n",
       "75%                                   18.026190   \n",
       "max                                   43.709931   \n",
       "\n",
       "       secondary_cleaner.state.floatbank5_a_level  \\\n",
       "count                                19438.000000   \n",
       "mean                                  -488.684065   \n",
       "std                                     34.533396   \n",
       "min                                   -797.323986   \n",
       "25%                                   -500.458467   \n",
       "50%                                   -499.802605   \n",
       "75%                                   -498.384187   \n",
       "max                                   -244.483566   \n",
       "\n",
       "       secondary_cleaner.state.floatbank5_b_air  \\\n",
       "count                              19438.000000   \n",
       "mean                                  12.198224   \n",
       "std                                    5.333024   \n",
       "min                                    0.528083   \n",
       "25%                                    8.971105   \n",
       "50%                                   11.019433   \n",
       "75%                                   14.019088   \n",
       "max                                   27.926001   \n",
       "\n",
       "       secondary_cleaner.state.floatbank5_b_level  \\\n",
       "count                                19438.000000   \n",
       "mean                                  -487.149827   \n",
       "std                                     38.347312   \n",
       "min                                   -800.220337   \n",
       "25%                                   -500.129462   \n",
       "50%                                   -499.935317   \n",
       "75%                                   -499.436708   \n",
       "max                                   -137.740004   \n",
       "\n",
       "       secondary_cleaner.state.floatbank6_a_air  \\\n",
       "count                              19437.000000   \n",
       "mean                                  18.959024   \n",
       "std                                    5.550498   \n",
       "min                                   -0.079426   \n",
       "25%                                   14.983037   \n",
       "50%                                   19.960541   \n",
       "75%                                   24.003170   \n",
       "max                                   32.188906   \n",
       "\n",
       "       secondary_cleaner.state.floatbank6_a_level  \n",
       "count                                19438.000000  \n",
       "mean                                  -505.436305  \n",
       "std                                     37.689057  \n",
       "min                                   -809.741464  \n",
       "25%                                   -500.728067  \n",
       "50%                                   -500.048400  \n",
       "75%                                   -499.495378  \n",
       "max                                   -104.427459  \n",
       "\n",
       "[8 rows x 86 columns]"
      ]
     },
     "metadata": {},
     "output_type": "display_data"
    }
   ],
   "source": [
    "# изучим данные, используя цикл для удобства\n",
    "# выводим первые 5 строчек, общую информацию и сводную статистику всех числовых столбцов\n",
    "for df in [df_train, df_test, df_full]:\n",
    "    display(df.head(5))\n",
    "    df.info()\n",
    "    display(df.describe())\n",
    "    "
   ]
  },
  {
   "cell_type": "code",
   "execution_count": 5,
   "metadata": {},
   "outputs": [
    {
     "name": "stdout",
     "output_type": "stream",
     "text": [
      "Кол-во дубликатов = 0\n",
      "Кол-во пропусков:\n",
      "4100\n",
      "Кол-во дубликатов = 0\n",
      "Кол-во пропусков:\n",
      "90\n",
      "Кол-во дубликатов = 0\n",
      "Кол-во пропусков:\n",
      "4481\n"
     ]
    }
   ],
   "source": [
    "# изучим данные, используя цикл для удобства\n",
    "#выводим суммарные пропуски и подсчет дубликатов\n",
    "for df in [df_train, df_test, df_full]:\n",
    "    print('Кол-во дубликатов =', df.duplicated().sum())\n",
    "    print('Кол-во пропусков:')\n",
    "    print(df.isna().sum().sum())"
   ]
  },
  {
   "cell_type": "code",
   "execution_count": 6,
   "metadata": {},
   "outputs": [
    {
     "data": {
      "text/plain": [
       "((14149, 86), (5290, 52), (19439, 86))"
      ]
     },
     "execution_count": 6,
     "metadata": {},
     "output_type": "execute_result"
    }
   ],
   "source": [
    "# посмотрим на размеры датасетов\n",
    "df_train.shape, df_test.shape, df_full.shape"
   ]
  },
  {
   "cell_type": "markdown",
   "metadata": {},
   "source": [
    "**Промежуточный вывод.**\n",
    "1. Во всех датасетах есть пропуски.\n",
    "2. Дубликаты не найдены.\n",
    "3. Количество строк в обучающем и тестовом датафреймах в сумме дают размер полного датафрейма, вероятно, полный датафрейм был разделен на этапе выгрузки данных.\n",
    "4. Судя по размеру датасетов, можно сказать, что в выборке test нет части признаков, которые есть в full и train.\n"
   ]
  },
  {
   "cell_type": "markdown",
   "metadata": {},
   "source": [
    "### 2. Проверяем, что эффективность обогащения рассчитана правильно."
   ]
  },
  {
   "cell_type": "markdown",
   "metadata": {},
   "source": [
    "*Эффективность обогащения рассчитывается по формуле:* \n",
    "\n",
    "recovery = ((C * (F - T)) / (F * (C - T))) * 100 \n",
    "\n",
    "где:\n",
    "- C — доля золота в концентрате после флотации/очистки;\n",
    "- F — доля золота в сырье/концентрате до флотации/очистки;\n",
    "- T — доля золота в отвальных хвостах после флотации/очистки.\n",
    "\n",
    "*Наименование признаков должно быть такое:*\n",
    "- C это rougher.output.concentrate_au\n",
    "- F это rougher.input.feed_au\n",
    "- T это rougher.output.tail_au\n",
    "\n",
    "*Среднее абсолютное отклонение MAE для линейной регрессии в общем виде рассчитывается так:*\n",
    "\n",
    "mae = mean_absolute_error(target_valid, predicted_valid)\n",
    "\n",
    "Где значение нужного нам признака target_valid - rougher.output.recovery, а predicted_valid - это recovery.\n"
   ]
  },
  {
   "cell_type": "code",
   "execution_count": 7,
   "metadata": {},
   "outputs": [],
   "source": [
    "# рассчитаем recovery\n",
    "c = df_train['rougher.output.concentrate_au']\n",
    "f = df_train['rougher.input.feed_au']\n",
    "t = df_train['rougher.output.tail_au']\n",
    "\n",
    "recovery_train = ((c*(f-t))/(f*(c-t))) * 100"
   ]
  },
  {
   "cell_type": "code",
   "execution_count": 8,
   "metadata": {},
   "outputs": [
    {
     "name": "stdout",
     "output_type": "stream",
     "text": [
      "MAE - 9.73512347450521e-15\n"
     ]
    }
   ],
   "source": [
    "# рассчитаем mae\n",
    "print('MAE -', mean_absolute_error(df_train['rougher.output.recovery'], recovery_train))"
   ]
  },
  {
   "cell_type": "markdown",
   "metadata": {},
   "source": [
    "**Промежуточный вывод.**\n",
    "\n",
    "MAE показывает среднее абсолютное отклонение каждого прогноза от соответствующего фактического значения. Если MAE равна 0, это указывает на идеальное соответствие прогнозов реальным значениям. Чем выше значение MAE, тем больше ошибок в прогнозах модели.\n",
    "\n",
    "Полученные значения МАЕ в нашем случае близки к 0. Это говорит о том, что формула расчёта эффективности обогащения корректая."
   ]
  },
  {
   "cell_type": "markdown",
   "metadata": {},
   "source": [
    "### 3. Анализируем признаки, недоступные в тестовой выборке."
   ]
  },
  {
   "cell_type": "code",
   "execution_count": 9,
   "metadata": {},
   "outputs": [
    {
     "name": "stdout",
     "output_type": "stream",
     "text": [
      "<class 'pandas.core.frame.DataFrame'>\n",
      "Index: 14149 entries, 2016-01-15 00:00:00 to 2018-08-18 10:59:59\n",
      "Data columns (total 34 columns):\n",
      " #   Column                                              Non-Null Count  Dtype  \n",
      "---  ------                                              --------------  -----  \n",
      " 0   rougher.output.tail_ag                              14148 non-null  float64\n",
      " 1   primary_cleaner.output.tail_pb                      14134 non-null  float64\n",
      " 2   rougher.output.recovery                             14149 non-null  float64\n",
      " 3   secondary_cleaner.output.tail_ag                    14147 non-null  float64\n",
      " 4   rougher.calculation.floatbank11_sulfate_to_au_feed  14148 non-null  float64\n",
      " 5   rougher.output.concentrate_ag                       14149 non-null  float64\n",
      " 6   rougher.output.tail_pb                              14149 non-null  float64\n",
      " 7   secondary_cleaner.output.tail_au                    14149 non-null  float64\n",
      " 8   rougher.output.concentrate_pb                       14149 non-null  float64\n",
      " 9   rougher.output.concentrate_au                       14149 non-null  float64\n",
      " 10  final.output.concentrate_au                         14149 non-null  float64\n",
      " 11  primary_cleaner.output.tail_sol                     14103 non-null  float64\n",
      " 12  primary_cleaner.output.tail_ag                      14148 non-null  float64\n",
      " 13  rougher.output.tail_au                              14149 non-null  float64\n",
      " 14  final.output.tail_pb                                14049 non-null  float64\n",
      " 15  final.output.tail_sol                               14144 non-null  float64\n",
      " 16  primary_cleaner.output.concentrate_au               14149 non-null  float64\n",
      " 17  final.output.concentrate_sol                        13938 non-null  float64\n",
      " 18  primary_cleaner.output.concentrate_ag               14149 non-null  float64\n",
      " 19  primary_cleaner.output.concentrate_pb               14063 non-null  float64\n",
      " 20  rougher.calculation.floatbank10_sulfate_to_au_feed  14148 non-null  float64\n",
      " 21  final.output.concentrate_pb                         14148 non-null  float64\n",
      " 22  final.output.tail_au                                14149 non-null  float64\n",
      " 23  primary_cleaner.output.tail_au                      14149 non-null  float64\n",
      " 24  rougher.output.concentrate_sol                      14127 non-null  float64\n",
      " 25  final.output.recovery                               14149 non-null  float64\n",
      " 26  rougher.calculation.sulfate_to_au_concentrate       14148 non-null  float64\n",
      " 27  secondary_cleaner.output.tail_sol                   12544 non-null  float64\n",
      " 28  primary_cleaner.output.concentrate_sol              13863 non-null  float64\n",
      " 29  final.output.tail_ag                                14149 non-null  float64\n",
      " 30  rougher.output.tail_sol                             14149 non-null  float64\n",
      " 31  final.output.concentrate_ag                         14148 non-null  float64\n",
      " 32  secondary_cleaner.output.tail_pb                    14139 non-null  float64\n",
      " 33  rougher.calculation.au_pb_ratio                     14149 non-null  float64\n",
      "dtypes: float64(34)\n",
      "memory usage: 4.3+ MB\n"
     ]
    }
   ],
   "source": [
    "# напишем функцию, для того, чтобы выделить признаки, которых нет в выборке test, но есть в выборке train::\n",
    "def inaccessible_signs(x, y):\n",
    "    return set(x.columns.to_list()) - set(y.columns.to_list())\n",
    "\n",
    "missing_fields = inaccessible_signs(df_train, df_test)\n",
    "\n",
    "#посмотрим, к какому типу относятся признаки, которых нет в выборке test:\n",
    "df_train[missing_fields].info()"
   ]
  },
  {
   "cell_type": "markdown",
   "metadata": {},
   "source": [
    "**Промежуточный вывод.**\n",
    "\n",
    "1. Все признаки, которых нет в выборке test - типа float.\n",
    "2. В test нет 34 признаков - 30 типа output (параметры продукта - целевые признаки и поэтому отсутствуют в тестовой выборке) и 4 типа calculation (расчётные характеристики - и отсутвуют они, скорее всего, из-за того, что они расчитываются после завершения процесса). \n",
    "3. Отсутствуют целевые признаки для моделей 'rougher.output.recovery', 'final.output.recovery'.\n",
    "\n",
    "Для возможности расчёта требуемых метрик нам нужно добавить в тестовый датасет целевые признаки: rougher.output.recovery - (эффективность обогащения чернового концентрата) и final.output.recovery (эффективность обогащения финального концентрата). \n"
   ]
  },
  {
   "cell_type": "markdown",
   "metadata": {},
   "source": [
    "### 4. Проводим предобработку данных."
   ]
  },
  {
   "cell_type": "code",
   "execution_count": 10,
   "metadata": {},
   "outputs": [
    {
     "name": "stdout",
     "output_type": "stream",
     "text": [
      "Количество пропусков в df_full: 0\n",
      "Количество пропусков в df_train: 0\n",
      "Количество пропусков в df_test: 0\n"
     ]
    }
   ],
   "source": [
    "# заполянем пропуски ближайжими зн-ми с учетом вводных данных в задании \n",
    "# \"Данные индексируются датой и временем получения информации (признак date). Соседние по времени параметры часто похожи.\"\n",
    "df_full = df_full.fillna(method='bfill')\n",
    "df_train = df_train.fillna(method='bfill')\n",
    "df_test = df_test.fillna(method='bfill')\n",
    "\n",
    "# проверяем пропуски\n",
    "print('Количество пропусков в df_full:', df_full.isna().sum().sum())\n",
    "print('Количество пропусков в df_train:', df_train.isna().sum().sum())\n",
    "print('Количество пропусков в df_test:', df_test.isna().sum().sum())"
   ]
  },
  {
   "cell_type": "code",
   "execution_count": 11,
   "metadata": {},
   "outputs": [
    {
     "data": {
      "text/plain": [
       "(5290, 54)"
      ]
     },
     "execution_count": 11,
     "metadata": {},
     "output_type": "execute_result"
    }
   ],
   "source": [
    "# добавим целевые показатели в датасет df_test из датасета df_full, в качестве ключа использовать date\n",
    "df_test = df_test.merge(df_full[objects].loc[df_test.index], on='date', how='left')\n",
    "df_test.shape"
   ]
  },
  {
   "cell_type": "code",
   "execution_count": 12,
   "metadata": {},
   "outputs": [],
   "source": [
    "# удалим в обучающей и тестовой выборках строки с пропусками в целевых показателях\n",
    "df_train = df_train.dropna(subset=objects)\n",
    "df_test = df_test.dropna(subset=objects)"
   ]
  },
  {
   "cell_type": "markdown",
   "metadata": {},
   "source": [
    "**Промежуточный вывод.**\n",
    "\n",
    "Проведена предобработка данных.\n",
    "1. В тестовую  выборку были добавлены целевые признаки (rougher.output.recovery, final.output.recovery), которые будут необходимы в дальнейшем для рассчета итоговой метрики качества,\n",
    "2.Пропуски в данных были заполнены ближайшими предыдущими значениями."
   ]
  },
  {
   "cell_type": "markdown",
   "metadata": {},
   "source": [
    "# Вывод.\n",
    "\n",
    "В ходе подготовки данных были пройдены следующие шаги:\n",
    "\n",
    "1. Открыты и изучены файлы, найдены пропуски, обнаружен некорректный тип данных и разный размер датасетов.\n",
    "2. Проверена правильность расчета эффективности обогащения. МАЕ стремится к нулю, что говорит об использовании правильной формулы для расчёта эффективности обогащения.\n",
    "3. Проанализированы признаки, недоступные в тестовой выборке. В test нет 34 признаков - 30 типа output (параметры продукта - целевые признаки и поэтому отсутствуют в тестовой выборке) и 4 типа calculation (расчётные характеристики - и отсутвуют они, скорее всего, из-за того, что они расчитываются после завершения процесса). \n",
    "4. Проведена предобработка данных.\n",
    "* в тестовую выборку были добавлены целевые признаки (rougher.output.recovery, final.output.recovery), которые будут необходимы в дальнейшем для рассчета итоговой метрики качества,\n",
    "* пропуски в данных были заполнены ближайшими предыдущими значениями.\n",
    "\n"
   ]
  },
  {
   "cell_type": "markdown",
   "metadata": {},
   "source": [
    "# 2. Анализ данных"
   ]
  },
  {
   "cell_type": "markdown",
   "metadata": {},
   "source": [
    "### 1. Посмотрим, как меняется концентрация металлов (Au, Ag, Pb) на различных этапах очистки."
   ]
  },
  {
   "cell_type": "markdown",
   "metadata": {},
   "source": [
    "**Удалим аномалии.**"
   ]
  },
  {
   "cell_type": "code",
   "execution_count": 25,
   "metadata": {},
   "outputs": [],
   "source": [
    "# Список столбцов, значения которых не должны равняться нулю\n",
    "non_zero_columns = ['rougher.input.feed_ag', 'rougher.input.feed_pb', 'rougher.input.feed_sol', 'rougher.input.feed_au',\n",
    "                    'rougher.output.concentrate_ag', 'rougher.output.concentrate_pb', 'rougher.output.concentrate_sol',\n",
    "                    'rougher.output.concentrate_au', 'primary_cleaner.output.concentrate_ag', \n",
    "                    'primary_cleaner.output.concentrate_pb', 'primary_cleaner.output.concentrate_sol',\n",
    "                    'primary_cleaner.output.concentrate_au', 'final.output.concentrate_ag', 'final.output.concentrate_pb',\n",
    "                    'final.output.concentrate_sol', 'final.output.concentrate_au']\n",
    "\n",
    "\n",
    "# Оставляем только строки, в которых значения во всех указанных столбцах не равны нулю\n",
    "df_full = df_full[(df_full [non_zero_columns] != 0).all(axis=1)]\n",
    "df_train = df_train[(df_train [non_zero_columns] != 0).all(axis=1)]"
   ]
  },
  {
   "cell_type": "markdown",
   "metadata": {},
   "source": [
    "Нам необходимы 4 этапа, на которых мы будем анализировать концетрацию трех металлов(Au, Ag, Pb):\n",
    "\n",
    "- rougher.input.feed_ — в сырье (до обработки);\n",
    "- rougher.output.concentrate_ — в черновом концентрате (в период флотации);\n",
    "- primary_cleaner.output.concentrate_ - в концентрате после первичной очистки (в период первичной очистки);\n",
    "- final.output.concentrate_ — в финальном концентрате (в период вторичной очистки)."
   ]
  },
  {
   "cell_type": "code",
   "execution_count": 26,
   "metadata": {},
   "outputs": [
    {
     "data": {
      "image/png": "[encoded data removed]",
      "text/plain": [
       "<Figure size 432x288 with 1 Axes>"
      ]
     },
     "metadata": {
      "needs_background": "light"
     },
     "output_type": "display_data"
    }
   ],
   "source": [
    "# делаем визуализацию данных вышеперечисленного\n",
    "# строим гистограмму для ЗОЛОТА (AU) на разных этапах очистки\n",
    "\n",
    "df_full['rougher.input.feed_au'].hist(bins=20, label='До обработки', alpha=0.8)\n",
    "df_full['rougher.output.concentrate_au'].hist(bins=20, label='В период флотации', alpha=0.5)\n",
    "df_full['primary_cleaner.output.concentrate_au'].hist(bins=20, label='В период первичной очистки', alpha=0.5)\n",
    "df_full['final.output.concentrate_au'].hist(bins=20, label='В период вторичной очистки', alpha=0.5)\n",
    "\n",
    "# установка заголовка графика\n",
    "plt.title('Концентрация золота (AU) на всех этапах очистки')\n",
    "# добавление подписей осей\n",
    "plt.xlabel('Концетрация')\n",
    "plt.ylabel('Количество наблюдений')\n",
    "plt.legend (loc=\"upper left\", bbox_to_anchor=(1,1))\n",
    "# показ графика\n",
    "plt.show()"
   ]
  },
  {
   "cell_type": "code",
   "execution_count": 27,
   "metadata": {},
   "outputs": [
    {
     "data": {
      "image/png": "[encoded data removed]",
      "text/plain": [
       "<Figure size 432x288 with 1 Axes>"
      ]
     },
     "metadata": {
      "needs_background": "light"
     },
     "output_type": "display_data"
    }
   ],
   "source": [
    "# делаем визуализацию данных вышеперечисленного\n",
    "# строим гистограмму для СЕРЕБРА (AG) на разных этапах очистки\n",
    "\n",
    "df_full['rougher.input.feed_ag'].hist(bins=20, label='До обработки', alpha=0.8)\n",
    "df_full['rougher.output.concentrate_ag'].hist(bins=20, label='В период флотации', alpha=0.5)\n",
    "df_full['primary_cleaner.output.concentrate_ag'].hist(bins=20, label='В период первичной очистки', alpha=0.5)\n",
    "df_full['final.output.concentrate_ag'].hist(bins=20, label='В период вторичной очистки', alpha=0.5)\n",
    "\n",
    "# установка заголовка графика\n",
    "plt.title('Концентрация серебра (AG) на всех этапах очистки')\n",
    "# добавление подписей осей\n",
    "plt.xlabel('Концетрация')\n",
    "plt.ylabel('Количество наблюдений')\n",
    "plt.legend (loc=\"upper left\", bbox_to_anchor=(1,1))\n",
    "# показ графика\n",
    "plt.show()"
   ]
  },
  {
   "cell_type": "code",
   "execution_count": 28,
   "metadata": {},
   "outputs": [
    {
     "data": {
      "image/png": "[encoded data removed]",
      "text/plain": [
       "<Figure size 432x288 with 1 Axes>"
      ]
     },
     "metadata": {
      "needs_background": "light"
     },
     "output_type": "display_data"
    }
   ],
   "source": [
    "# делаем визуализацию данных вышеперечисленного\n",
    "# строим гистограмму для СВИНЦА (PB) на разных этапах очистки\n",
    "\n",
    "df_full['rougher.input.feed_pb'].hist(bins=20, label='До обработки', alpha=0.8)\n",
    "df_full['rougher.output.concentrate_pb'].hist(bins=20, label='В период флотации', alpha=0.5)\n",
    "df_full['primary_cleaner.output.concentrate_pb'].hist(bins=20, label='В период первичной очистки', alpha=0.5)\n",
    "df_full['final.output.concentrate_pb'].hist(bins=20, label='В период вторичной очистки', alpha=0.5)\n",
    "\n",
    "# установка заголовка графика\n",
    "plt.title('Концентрация свинца (PB) на всех этапах очистки')\n",
    "# добавление подписей осей\n",
    "plt.xlabel('Концетрация')\n",
    "plt.ylabel('Количество наблюдений')\n",
    "plt.legend (loc=\"upper left\", bbox_to_anchor=(1,1))\n",
    "# показ графика\n",
    "plt.show()"
   ]
  },
  {
   "cell_type": "markdown",
   "metadata": {},
   "source": [
    "**Промежуточный вывод.**\n",
    "\n",
    "Анализ концентрации металлов показал, что концентрация:\n",
    "\n",
    "- золота (AU) увеличивается после каждого этапа обработки. До обработки концентрация находилась в основном от 4 до 13, а уже после вторичной очистки (на финальном этапе) концентрация находится в диапазоне от 40 до 50;\n",
    "\n",
    "- серебра(AG) увеличивается на этапе флотации, а затем уменьшается. Концентрация до обработки составляет от 5 до 10, дальше растёт на этапе флотации и потом снижается до значения меньше, чем было до начала обработки;\n",
    "\n",
    "- свинца(PB) сначала заметно увеличивается, примерно в 2 раза, на этапе флотации, а уже после первичной очистки чуть ратсет и остается примерно на одном уровне, что и во время второй очистки.\n",
    "\n",
    "На всех графиках концентрации сырья видны значения равные нулю. Судя по распределению, это выбросы.\n",
    "\n",
    "\n",
    "\n"
   ]
  },
  {
   "cell_type": "markdown",
   "metadata": {},
   "source": [
    "### 2. Сравним распределения размеров гранул сырья на обучающей и тестовой выборках."
   ]
  },
  {
   "cell_type": "markdown",
   "metadata": {},
   "source": [
    "Построим график распределения размеров гранул сырья на обучающей и тестовой выборках на входе в этап флотации."
   ]
  },
  {
   "cell_type": "code",
   "execution_count": 29,
   "metadata": {},
   "outputs": [
    {
     "data": {
      "image/png": "[encoded data removed]",
      "text/plain": [
       "<Figure size 432x288 with 1 Axes>"
      ]
     },
     "metadata": {
      "needs_background": "light"
     },
     "output_type": "display_data"
    }
   ],
   "source": [
    "# строим график\n",
    "sns.kdeplot(df_train['rougher.input.feed_size'], label='Обучающая выборка', alpha=0.5, shade=True)\n",
    "sns.kdeplot(df_test['rougher.input.feed_size'], label='Тестовая выборка', alpha=0.5, shade=True)\n",
    "\n",
    "# установка заголовка графика\n",
    "plt.title('Распределение размеров гранул в обучающей и тестовой выборках')\n",
    "# добавление подписей осей\n",
    "plt.xlabel('Размеры гранул')\n",
    "plt.ylabel('Плотность вероятностей')\n",
    "plt.legend (loc=\"upper left\", bbox_to_anchor=(1,1))\n",
    "# параметры графика\n",
    "plt.xlim(0, 150)\n",
    "# показ графика\n",
    "plt.show()\n"
   ]
  },
  {
   "cell_type": "markdown",
   "metadata": {},
   "source": [
    "Стоит заметить, что на графике видно, что в тестовой выборке гранул меньшего размера больше, чем в обучающей. Стоит проверить, как распределяются размеры гранул после флотации."
   ]
  },
  {
   "cell_type": "code",
   "execution_count": 30,
   "metadata": {},
   "outputs": [
    {
     "data": {
      "image/png": "[encoded data removed]",
      "text/plain": [
       "<Figure size 432x288 with 1 Axes>"
      ]
     },
     "metadata": {
      "needs_background": "light"
     },
     "output_type": "display_data"
    }
   ],
   "source": [
    "# строим график\n",
    "sns.kdeplot(df_train['primary_cleaner.input.feed_size'], label='Обучающая выборка', alpha=0.5, shade=True)\n",
    "sns.kdeplot(df_test['primary_cleaner.input.feed_size'], label='Тестовая выборка', alpha=0.5, shade=True)\n",
    "\n",
    "# установка заголовка графика\n",
    "plt.title('Распределение размеров гранул в обучающей и тестовой выборках после флотации')\n",
    "# добавление подписей осей\n",
    "plt.xlabel('Размеры гранул')\n",
    "plt.ylabel('Плотность вероятностей')\n",
    "plt.legend (loc=\"upper left\", bbox_to_anchor=(1,1))\n",
    "# параметры графика\n",
    "plt.xlim(0, 15)\n",
    "# показ графика\n",
    "plt.show()"
   ]
  },
  {
   "cell_type": "markdown",
   "metadata": {},
   "source": [
    "После этапа флотации размер гранул имеет уже одинаковое распределение и размер как в обучающей, так и тестовой выборке."
   ]
  },
  {
   "cell_type": "markdown",
   "metadata": {},
   "source": [
    "**Промежуточный вывод.**\n",
    "\n",
    "Для этапа флотации распределение гранул находится примерно в одинаковом диапазоне, но есть небольшое отличие: в тестовой выборке гранул меньшего размера больше, чем в обучающей.\n",
    "\n",
    "Для этапа после флотации распределения похожи, что говорит об однородности данных размеров сырья в выборках train и test."
   ]
  },
  {
   "cell_type": "markdown",
   "metadata": {},
   "source": [
    "### 3. Исследуем суммарную концентрацию всех веществ на разных стадиях: в сырье, в черновом и финальном концентратах."
   ]
  },
  {
   "cell_type": "code",
   "execution_count": 31,
   "metadata": {},
   "outputs": [
    {
     "data": {
      "text/html": [
       "<div>\n",
       "<style scoped>\n",
       "    .dataframe tbody tr th:only-of-type {\n",
       "        vertical-align: middle;\n",
       "    }\n",
       "\n",
       "    .dataframe tbody tr th {\n",
       "        vertical-align: top;\n",
       "    }\n",
       "\n",
       "    .dataframe thead th {\n",
       "        text-align: right;\n",
       "    }\n",
       "</style>\n",
       "<table border=\"1\" class=\"dataframe\">\n",
       "  <thead>\n",
       "    <tr style=\"text-align: right;\">\n",
       "      <th></th>\n",
       "      <th>rougher.input</th>\n",
       "      <th>rougher</th>\n",
       "      <th>primary_cleaner</th>\n",
       "      <th>final_cleaner</th>\n",
       "    </tr>\n",
       "    <tr>\n",
       "      <th>date</th>\n",
       "      <th></th>\n",
       "      <th></th>\n",
       "      <th></th>\n",
       "      <th></th>\n",
       "    </tr>\n",
       "  </thead>\n",
       "  <tbody>\n",
       "    <tr>\n",
       "      <th>2016-01-15 00:00:00</th>\n",
       "      <td>51.680034</td>\n",
       "      <td>66.424950</td>\n",
       "      <td>72.640924</td>\n",
       "      <td>63.644396</td>\n",
       "    </tr>\n",
       "    <tr>\n",
       "      <th>2016-01-15 01:00:00</th>\n",
       "      <td>50.659114</td>\n",
       "      <td>67.012710</td>\n",
       "      <td>72.543485</td>\n",
       "      <td>63.957723</td>\n",
       "    </tr>\n",
       "    <tr>\n",
       "      <th>2016-01-15 02:00:00</th>\n",
       "      <td>50.609929</td>\n",
       "      <td>66.103793</td>\n",
       "      <td>72.095042</td>\n",
       "      <td>64.311180</td>\n",
       "    </tr>\n",
       "  </tbody>\n",
       "</table>\n",
       "</div>"
      ],
      "text/plain": [
       "                     rougher.input    rougher  primary_cleaner  final_cleaner\n",
       "date                                                                         \n",
       "2016-01-15 00:00:00      51.680034  66.424950        72.640924      63.644396\n",
       "2016-01-15 01:00:00      50.659114  67.012710        72.543485      63.957723\n",
       "2016-01-15 02:00:00      50.609929  66.103793        72.095042      64.311180"
      ]
     },
     "execution_count": 31,
     "metadata": {},
     "output_type": "execute_result"
    }
   ],
   "source": [
    "# создаем датафрейм, куда внесем суммарную концетрацию всех веществ на разных стадиях\n",
    "full_concentrate = pd.DataFrame()\n",
    "# стадия сырья\n",
    "full_concentrate['rougher.input'] = (df_full['rougher.input.feed_ag']\n",
    "                            + df_full['rougher.input.feed_pb']\n",
    "                            + df_full['rougher.input.feed_sol']\n",
    "                            + df_full['rougher.input.feed_au'])\n",
    "# стадия флотации\n",
    "full_concentrate['rougher'] = (df_full['rougher.output.concentrate_ag'] \n",
    "                               + df_full['rougher.output.concentrate_pb']\n",
    "                               + df_full['rougher.output.concentrate_sol'] \n",
    "                               + df_full['rougher.output.concentrate_au'])\n",
    "# стадия первичной очистки\n",
    "full_concentrate['primary_cleaner'] = (df_full['primary_cleaner.output.concentrate_ag']\n",
    "                                      + df_full['primary_cleaner.output.concentrate_pb'] \n",
    "                                      + df_full['primary_cleaner.output.concentrate_sol']\n",
    "                                      + df_full['primary_cleaner.output.concentrate_au'])\n",
    "# стадия вторичной очистки\n",
    "full_concentrate['final_cleaner'] = (df_full['final.output.concentrate_ag'] \n",
    "                                         + df_full['final.output.concentrate_pb'] \n",
    "                                         + df_full['final.output.concentrate_sol'] \n",
    "                                         + df_full['final.output.concentrate_au'])\n",
    "full_concentrate.head(3)"
   ]
  },
  {
   "cell_type": "code",
   "execution_count": 32,
   "metadata": {},
   "outputs": [
    {
     "data": {
      "image/png": "[encoded data removed]",
      "text/plain": [
       "<Figure size 432x288 with 1 Axes>"
      ]
     },
     "metadata": {
      "needs_background": "light"
     },
     "output_type": "display_data"
    }
   ],
   "source": [
    "#строим гистограммы по стадиям:\n",
    "\n",
    "plt.hist(full_concentrate['rougher.input'], bins=20, label='Сырьё', alpha=0.5)\n",
    "plt.hist(full_concentrate['rougher'], bins=20, label='Флотация', alpha=0.5)\n",
    "plt.hist(full_concentrate['primary_cleaner'], bins=20, label='Первичная очистка', alpha=0.5)\n",
    "plt.hist(full_concentrate['final_cleaner'], bins=20, label='Вторичная очистка', alpha=0.5)\n",
    "\n",
    "\n",
    "# установка заголовка графика\n",
    "plt.title('Распределения суммарной концентрации всех веществ на разных стадиях')\n",
    "# добавление подписей осей\n",
    "plt.xlabel('Сумарная концентрация')\n",
    "plt.ylabel('Кол-во наблюдений')\n",
    "plt.legend (loc=\"upper left\", bbox_to_anchor=(1,1))\n",
    "# показ графика\n",
    "plt.show()\n"
   ]
  },
  {
   "cell_type": "markdown",
   "metadata": {},
   "source": [
    "**Промежуточный вывод.**\n",
    "\n",
    "Заметно, что суммарная концентрация веществ увеличивается к финальному этапу, а диапазон распределения суммарной концентрации веществ, наоборот, уменьшается."
   ]
  },
  {
   "cell_type": "markdown",
   "metadata": {},
   "source": [
    "# Вывод.\n",
    "\n",
    "1. Анализ концентрации металлов показал, что концентрация:\n",
    "- золота (AU) увеличивается после каждого этапа обработки. До обработки концентрация находилась в основном от 4 до 13, а уже после вторичной очистки (на финальном этапе) концентрация находится в диапазоне от 40 до 50;\n",
    "- серебра(AG) увеличивается на этапе флотации, а затем уменьшается. Концентрация до обработки составляет от 5 до 10, дальше растёт на этапе флотации и потом снижается до значения меньше, чем было до начала обработки;\n",
    "- свинца(PB) сначала заметно увеличивается, примерно в 2 раза, на этапе флотации, а уже после первичной очистки чуть ратсет и остается примерно на одном уровне, что и во время второй очистки.\n",
    "\n",
    "2. Размер гранул в выборках из данных разный, но после этапа флотации размер гранул имеет меньший разброс значений, и при этом этот диапазон одинаковый для обеих выборках.\n",
    "\n",
    "3. Cуммарная концентрация веществ увеличивается к финальному этапу, а диапазон распределения суммарной концентрации веществ, наоборот, уменьшается.\n",
    "\n",
    "4. В данных были обнаружены аномалии - это выбросы у нуля. Эти данные были удалены."
   ]
  },
  {
   "cell_type": "markdown",
   "metadata": {},
   "source": [
    "# 3. Модель"
   ]
  },
  {
   "cell_type": "markdown",
   "metadata": {},
   "source": [
    "### 1. Написать функцию для вычисления итоговой sMAPE."
   ]
  },
  {
   "cell_type": "code",
   "execution_count": 35,
   "metadata": {},
   "outputs": [],
   "source": [
    "# формула получения sMAPE для одного этапа\n",
    "def func(target, pred):\n",
    "    \n",
    "    sm = abs(target-pred)/((abs(target)+abs(pred))/2)*100\n",
    "    sm = sm.fillna(value=0)\n",
    "\n",
    "    sm = np.mean(sm)\n",
    "    return sm"
   ]
  },
  {
   "cell_type": "code",
   "execution_count": 36,
   "metadata": {},
   "outputs": [],
   "source": [
    "# формула получения итогового sMAPE \n",
    "def smape_func(target_rouger, pred_rougher, target_final, pred_final):\n",
    "# формула получения sMAPE для rougher    \n",
    "    smape_r = func(target_rouger, pred_rougher)\n",
    "# формула получения sMAPE для final    \n",
    "    smape_f = func(target_final, pred_final)\n",
    "    sum_smape = 0.25 * smape_r + 0.75 * smape_f\n",
    "    return sum_smape"
   ]
  },
  {
   "cell_type": "code",
   "execution_count": 37,
   "metadata": {},
   "outputs": [],
   "source": [
    "def sum_smape(smape_r, smape_f):\n",
    "    sum_smape = 0.25 * smape_r + 0.75 * smape_f\n",
    "    return sum_smape"
   ]
  },
  {
   "cell_type": "code",
   "execution_count": 38,
   "metadata": {},
   "outputs": [],
   "source": [
    "# cоздадим scorer для того, чтобы испольщовать его при кросс-валидации\n",
    "smape_scorer = make_scorer(func, greater_is_better=False)"
   ]
  },
  {
   "cell_type": "markdown",
   "metadata": {},
   "source": [
    "### 2. Обучить разные модели и оцените их качество."
   ]
  },
  {
   "cell_type": "markdown",
   "metadata": {},
   "source": [
    "**Прежде, чем мы начнем обучать модели, подготовим данные к обучению моделей и выбору лучшей из них, также удалим отсутствующие в тестовой выборке признаки (искл. целевые признаки) из тренировочной выборки.**"
   ]
  },
  {
   "cell_type": "code",
   "execution_count": 39,
   "metadata": {},
   "outputs": [],
   "source": [
    "# удалим лишние признаки из train, т.е те, которых нет в test\n",
    "missing_fields = inaccessible_signs(df_train, df_test)\n",
    "df_train = df_train.drop(missing_fields, axis='columns')"
   ]
  },
  {
   "cell_type": "markdown",
   "metadata": {},
   "source": [
    "Теперь в обучающей и тестовой выборке одни и те же признаки, и мы можем продолжать."
   ]
  },
  {
   "cell_type": "markdown",
   "metadata": {},
   "source": [
    "**Выделим признаки в отдельные переменные: целевые признаки для нас - это rougher.output.recovery и final.output.recovery, все остальные колонки, кроме целевой - нецелевые признаки.**"
   ]
  },
  {
   "cell_type": "code",
   "execution_count": 40,
   "metadata": {},
   "outputs": [],
   "source": [
    "# формируем необходимые для обучения и оценки датафреймы\n",
    "features_train = df_train.drop(objects, axis='columns')\n",
    "target_train = df_train[objects]\n",
    "features_test = df_test.drop(objects, axis='columns')\n",
    "target_test = df_test[objects]"
   ]
  },
  {
   "cell_type": "markdown",
   "metadata": {},
   "source": [
    "Приступим к обучению модели."
   ]
  },
  {
   "cell_type": "markdown",
   "metadata": {},
   "source": [
    "**1. Рассмотрим модель — решающее дерево.**"
   ]
  },
  {
   "cell_type": "code",
   "execution_count": 41,
   "metadata": {},
   "outputs": [
    {
     "name": "stdout",
     "output_type": "stream",
     "text": [
      "Лучшие параметры: {'max_depth': 3}\n",
      "Лучшее значение sMAPE_rougher для решающего дерева 7.247953269689495\n"
     ]
    }
   ],
   "source": [
    "# создаем модель решающее дерево \n",
    "model_tree = DecisionTreeRegressor(random_state=12345)\n",
    "\n",
    "# подберем оптимальные параметры\n",
    "par = {'max_depth': range(2, 11)}\n",
    "\n",
    "# оценим модель с помощью кроссвалидации для sMAPE_rougher (этапа флотации)\n",
    "greed_search_r = GridSearchCV(model_tree,\n",
    "                            par,\n",
    "                            cv = 5,\n",
    "                            scoring = smape_scorer)\n",
    "# обучим модель\n",
    "greed_search_r.fit(features_train, target_train['rougher.output.recovery'])\n",
    "\n",
    "print('Лучшие параметры:', greed_search_r.best_params_)\n",
    "print('Лучшее значение sMAPE_rougher для решающего дерева', abs(greed_search_r.best_score_))"
   ]
  },
  {
   "cell_type": "code",
   "execution_count": 42,
   "metadata": {},
   "outputs": [
    {
     "name": "stdout",
     "output_type": "stream",
     "text": [
      "Лучшие параметры: {'max_depth': 2}\n",
      "Лучшее значение sMAPE_final для решающего дерева 9.539704303607788\n"
     ]
    }
   ],
   "source": [
    "# создаем модель решающее дерево \n",
    "model_tree = DecisionTreeRegressor(random_state=12345)\n",
    "\n",
    "# подберем оптимальные параметры\n",
    "par = {'max_depth': range(2, 11)}\n",
    "\n",
    "# оценим модель с помощью кроссвалидации для sMAPE_final (этапа финального)\n",
    "greed_search_f = GridSearchCV(model_tree,\n",
    "                            par,\n",
    "                            cv = 5,\n",
    "                            scoring = smape_scorer)\n",
    "# обучим модель\n",
    "greed_search_f.fit(features_train, target_train['final.output.recovery'])\n",
    "\n",
    "print('Лучшие параметры:', greed_search_f.best_params_)\n",
    "print('Лучшее значение sMAPE_final для решающего дерева', abs(greed_search_f.best_score_))"
   ]
  },
  {
   "cell_type": "code",
   "execution_count": 43,
   "metadata": {},
   "outputs": [
    {
     "name": "stdout",
     "output_type": "stream",
     "text": [
      "Средняя итоговая оценка sMAPE для решающего дерева 8.966766545128214\n"
     ]
    }
   ],
   "source": [
    "# оценим итоговую оценку\n",
    "sum_metric = sum_smape(abs(greed_search_r.best_score_), abs(greed_search_f.best_score_))\n",
    "print('Средняя итоговая оценка sMAPE для решающего дерева', sum_metric)"
   ]
  },
  {
   "cell_type": "markdown",
   "metadata": {},
   "source": [
    "Для решающего дерева следующие значения:\n",
    "* Лучшее значение sMAPE_rougher для решающего дерева 7.247953269689495\n",
    "* Лучшее значение sMAPE_final для решающего дерева 9.539704303607788\n",
    "* Средняя итоговая оценка sMAPE для решающего дерева 8.966766545128214"
   ]
  },
  {
   "cell_type": "markdown",
   "metadata": {},
   "source": [
    "**2. Рассмотрим модель — случайный лес.**"
   ]
  },
  {
   "cell_type": "code",
   "execution_count": 44,
   "metadata": {},
   "outputs": [
    {
     "name": "stdout",
     "output_type": "stream",
     "text": [
      "Лучшие параметры: {'n_estimators': 30}\n",
      "Лучшее значение sMAPE_rougher для случайного леса 6.62917793003033\n"
     ]
    }
   ],
   "source": [
    "# создаем модель случайный лес \n",
    "model_random_forest = RandomForestRegressor(random_state=12345, max_depth=3)\n",
    "\n",
    "# подберем оптимальные параметры\n",
    "par = {'n_estimators': range(10, 31, 10)}\n",
    "\n",
    "# оценим модель с помощью кроссвалидации для sMAPE_rougher (этапа флотации)\n",
    "greed_search_rf_r = GridSearchCV(model_random_forest,\n",
    "                                 par,\n",
    "                                 cv = 5,\n",
    "                                 scoring = smape_scorer)\n",
    "# обучим модель\n",
    "greed_search_rf_r.fit(features_train, target_train['rougher.output.recovery'])\n",
    "\n",
    "print('Лучшие параметры:', greed_search_rf_r.best_params_)\n",
    "print('Лучшее значение sMAPE_rougher для случайного леса', abs(greed_search_rf_r.best_score_))"
   ]
  },
  {
   "cell_type": "code",
   "execution_count": 45,
   "metadata": {},
   "outputs": [
    {
     "name": "stdout",
     "output_type": "stream",
     "text": [
      "Лучшие параметры: {'n_estimators': 30}\n",
      "Лучшее значение sMAPE_final для случайного леса 9.337939410909819\n"
     ]
    }
   ],
   "source": [
    "# создаем модель случайный лес \n",
    "model_random_forest = RandomForestRegressor(random_state=12345, max_depth=3)\n",
    "\n",
    "# подберем оптимальные параметры\n",
    "par = {'n_estimators': range(10, 31, 10)}\n",
    "\n",
    "# оценим модель с помощью кроссвалидации для sMAPE_final (этапа финального)\n",
    "greed_search_rf_f = GridSearchCV(model_random_forest,\n",
    "                                 par,\n",
    "                                 cv = 5,\n",
    "                                 scoring = smape_scorer)\n",
    "# обучим модель\n",
    "greed_search_rf_f.fit(features_train, target_train['final.output.recovery'])\n",
    "\n",
    "print('Лучшие параметры:', greed_search_rf_f.best_params_)\n",
    "print('Лучшее значение sMAPE_final для случайного леса', abs(greed_search_rf_f.best_score_))"
   ]
  },
  {
   "cell_type": "code",
   "execution_count": 46,
   "metadata": {},
   "outputs": [
    {
     "name": "stdout",
     "output_type": "stream",
     "text": [
      "Средняя итоговая оценка sMAPE для решающего дерева 8.660749040689947\n"
     ]
    }
   ],
   "source": [
    "# оценим итоговую оценку\n",
    "sum_metr = sum_smape(abs(greed_search_rf_r.best_score_), abs(greed_search_rf_f.best_score_))\n",
    "print('Средняя итоговая оценка sMAPE для решающего дерева', sum_metr)"
   ]
  },
  {
   "cell_type": "markdown",
   "metadata": {},
   "source": [
    "Для случайного леса следующие значения:\n",
    "\n",
    "* Лучшее значение sMAPE_rougher для случайного леса 6.62917793003033\n",
    "* Лучшее значение sMAPE_final для случайного леса 9.337939410909819\n",
    "* Средняя итоговая оценка sMAPE для решающего дерева 8.660749040689947"
   ]
  },
  {
   "cell_type": "markdown",
   "metadata": {},
   "source": [
    "**3. Рассмотрим модель — линейная регрессия.**"
   ]
  },
  {
   "cell_type": "code",
   "execution_count": 47,
   "metadata": {},
   "outputs": [
    {
     "name": "stdout",
     "output_type": "stream",
     "text": [
      "Лучшее значение sMAPE_rougher для линейной регрессии 7.185236891571416\n"
     ]
    }
   ],
   "source": [
    "# содаем модель линейной регрессии\n",
    "model = LinearRegression()\n",
    "# обучим модель\n",
    "model.fit(features_train, target_train)\n",
    "# оценим модель с помощью кроссвалидации для sMAPE_rougher (этапа флотации)\n",
    "smape = cross_val_score(model,\n",
    "                        features_train,\n",
    "                        target_train['rougher.output.recovery'],\n",
    "                        scoring = smape_scorer,\n",
    "                        cv = 5)\n",
    "smape_rougher = np.mean(abs(smape))\n",
    "print('Лучшее значение sMAPE_rougher для линейной регрессии', smape_rougher)"
   ]
  },
  {
   "cell_type": "code",
   "execution_count": 48,
   "metadata": {},
   "outputs": [
    {
     "name": "stdout",
     "output_type": "stream",
     "text": [
      "Лучшее значение sMAPE_final для линейной регрессии 10.899672832099787\n"
     ]
    }
   ],
   "source": [
    "# содаем модель линейной регрессии\n",
    "model = LinearRegression()\n",
    "# обучим модель\n",
    "model.fit(features_train, target_train)\n",
    "# оценим модель с помощью кроссвалидации для sMAPE_final (этапа финального)\n",
    "smape = cross_val_score(model,\n",
    "                        features_train,\n",
    "                        target_train['final.output.recovery'],\n",
    "                        scoring = smape_scorer,\n",
    "                        cv = 5)\n",
    "smape_final = np.mean(abs(smape))\n",
    "print('Лучшее значение sMAPE_final для линейной регрессии', smape_final)"
   ]
  },
  {
   "cell_type": "code",
   "execution_count": 49,
   "metadata": {},
   "outputs": [
    {
     "name": "stdout",
     "output_type": "stream",
     "text": [
      "Средняя итоговая оценка sMAPE для линейной регрессии 9.971063846967693\n"
     ]
    }
   ],
   "source": [
    "# оценим итоговую оценку\n",
    "sum_met = sum_smape(smape_rougher, smape_final)\n",
    "print('Средняя итоговая оценка sMAPE для линейной регрессии', sum_met)"
   ]
  },
  {
   "cell_type": "markdown",
   "metadata": {},
   "source": [
    "Для линейной регрессии следующие значения:\n",
    "* Лучшее значение sMAPE_rougher для линейной регрессии 7.1852368915714155\n",
    "* Лучшее значение sMAPE_final для линейной регрессии 10.899672832099787\n",
    "* Средняя итоговая оценка sMAPE для линейной регрессии 9.971063846967693"
   ]
  },
  {
   "cell_type": "markdown",
   "metadata": {},
   "source": [
    "**Приведем табличку с результатами для удобства.**"
   ]
  },
  {
   "cell_type": "code",
   "execution_count": 50,
   "metadata": {},
   "outputs": [
    {
     "data": {
      "text/html": [
       "<div>\n",
       "<style scoped>\n",
       "    .dataframe tbody tr th:only-of-type {\n",
       "        vertical-align: middle;\n",
       "    }\n",
       "\n",
       "    .dataframe tbody tr th {\n",
       "        vertical-align: top;\n",
       "    }\n",
       "\n",
       "    .dataframe thead th {\n",
       "        text-align: right;\n",
       "    }\n",
       "</style>\n",
       "<table border=\"1\" class=\"dataframe\">\n",
       "  <thead>\n",
       "    <tr style=\"text-align: right;\">\n",
       "      <th></th>\n",
       "      <th></th>\n",
       "      <th>sMAPE_rougher</th>\n",
       "      <th>sMAPE_final</th>\n",
       "      <th>sMAPE</th>\n",
       "    </tr>\n",
       "  </thead>\n",
       "  <tbody>\n",
       "    <tr>\n",
       "      <th>0</th>\n",
       "      <td>Решающее дерево</td>\n",
       "      <td>7.24</td>\n",
       "      <td>9.53</td>\n",
       "      <td>8.96</td>\n",
       "    </tr>\n",
       "    <tr>\n",
       "      <th>1</th>\n",
       "      <td>Случайный лес</td>\n",
       "      <td>6.62</td>\n",
       "      <td>9.33</td>\n",
       "      <td>8.66</td>\n",
       "    </tr>\n",
       "    <tr>\n",
       "      <th>2</th>\n",
       "      <td>Линейная регрессия</td>\n",
       "      <td>7.18</td>\n",
       "      <td>10.89</td>\n",
       "      <td>9.97</td>\n",
       "    </tr>\n",
       "  </tbody>\n",
       "</table>\n",
       "</div>"
      ],
      "text/plain": [
       "                       sMAPE_rougher  sMAPE_final  sMAPE\n",
       "0     Решающее дерево           7.24         9.53   8.96\n",
       "1       Случайный лес           6.62         9.33   8.66\n",
       "2  Линейная регрессия           7.18        10.89   9.97"
      ]
     },
     "execution_count": 50,
     "metadata": {},
     "output_type": "execute_result"
    }
   ],
   "source": [
    "test = pd.DataFrame([['Решающее дерево', 7.24, 9.53, 8.96],\n",
    "                  ['Случайный лес', 6.62, 9.33, 8.66],\n",
    "                  ['Линейная регрессия', 7.18, 10.89, 9.97]], \n",
    "columns=['', 'sMAPE_rougher','sMAPE_final', 'sMAPE'])\n",
    "test\n",
    "\n"
   ]
  },
  {
   "cell_type": "markdown",
   "metadata": {},
   "source": [
    "**Промежуточный вывод:**\n",
    "\n",
    "В процессе сравнения результатов случайный лес дал лучшее значение sMAPE среди других моделей с параметрами: max_depth=3 и n_estimators = 30.\n",
    "\n",
    "Благодаря таким параметрам на данных train показатель smape равен 8.66."
   ]
  },
  {
   "cell_type": "markdown",
   "metadata": {},
   "source": [
    "### 3.Выбрать лучшую модель, оценить её качество на тестовой выборке."
   ]
  },
  {
   "cell_type": "code",
   "execution_count": 51,
   "metadata": {},
   "outputs": [],
   "source": [
    "# проверяем модель случайного леса на test \n",
    "def model_random_forest(features_train, target_train, features_test, depth, estimators):\n",
    "    \n",
    "# модель с лучшими параметрами\n",
    "    random_forest_model = RandomForestRegressor(random_state=12345, max_depth = depth, n_estimators=estimators)\n",
    "# обучим модель\n",
    "    random_forest_model.fit(features_train, target_train)\n",
    "# подготовим прогноз целевого признака\n",
    "    pred_test_random_forest = random_forest_model.predict(features_test)\n",
    "\n",
    "    return pred_test_random_forest"
   ]
  },
  {
   "cell_type": "code",
   "execution_count": 52,
   "metadata": {},
   "outputs": [],
   "source": [
    "# эффективность для этапа rougher\n",
    "pred_test_r = model_random_forest(features_train, target_train['rougher.output.recovery'], features_test, 3, 30)\n",
    "# спрогнозируем эффективность для этапа final\n",
    "pred_test_f = model_random_forest(features_train, target_train['final.output.recovery'], features_test, 3, 30)"
   ]
  },
  {
   "cell_type": "code",
   "execution_count": 53,
   "metadata": {},
   "outputs": [],
   "source": [
    "# рассчитаем smape на тестовых данных\n",
    "smape_check = smape_func (target_test['rougher.output.recovery'], \n",
    "                                  pred_test_r,\n",
    "                                  target_test['final.output.recovery'],\n",
    "                                  pred_test_f)"
   ]
  },
  {
   "cell_type": "code",
   "execution_count": 54,
   "metadata": {},
   "outputs": [
    {
     "name": "stdout",
     "output_type": "stream",
     "text": [
      "Итоговая оценка smape на тестовых данных равна 9.430913496055744\n"
     ]
    }
   ],
   "source": [
    "print('Итоговая оценка smape на тестовых данных равна', smape_check)"
   ]
  },
  {
   "cell_type": "markdown",
   "metadata": {},
   "source": [
    "**Проверим модели на адекватность.**"
   ]
  },
  {
   "cell_type": "markdown",
   "metadata": {},
   "source": [
    "Для проверки используем модель DummyClassifier для задач регрессии."
   ]
  },
  {
   "cell_type": "code",
   "execution_count": 55,
   "metadata": {},
   "outputs": [],
   "source": [
    "# метод прогнозирования целевого признаки на тест модели \n",
    "def test_model(features_train, target_train, features_test):\n",
    "    \n",
    "# создадим модель model_dummy\n",
    "    dummy_clf = DummyRegressor(strategy=\"mean\")\n",
    "# обучим модель на обучающей выборке\n",
    "    dummy_clf.fit(features_train, target_train)\n",
    "# получим предсказания модели на тестовой выборке\n",
    "    dummy_test = dummy_clf.predict(features_test)\n",
    "    return dummy_test\n",
    "   "
   ]
  },
  {
   "cell_type": "code",
   "execution_count": 56,
   "metadata": {},
   "outputs": [],
   "source": [
    "# построим прогноз тест модели для этапа rougher\n",
    "pred_test_r_model = test_model(features_train, target_train['rougher.output.recovery'], features_test)\n",
    "# построим прогноз тест модели для этапа final\n",
    "pred_test_f_model = test_model(features_train, target_train['final.output.recovery'], features_test)"
   ]
  },
  {
   "cell_type": "code",
   "execution_count": 57,
   "metadata": {},
   "outputs": [],
   "source": [
    "# рассчитаем smape на тестовых данных\n",
    "smape_test_model = smape_func (target_test['rougher.output.recovery'], \n",
    "                                pred_test_r_model,\n",
    "                                target_test['final.output.recovery'],\n",
    "                                pred_test_f_model)"
   ]
  },
  {
   "cell_type": "code",
   "execution_count": 58,
   "metadata": {},
   "outputs": [
    {
     "name": "stdout",
     "output_type": "stream",
     "text": [
      "Итоговая оценка smape константной модели на тестовых данных равна 9.831198509165793\n"
     ]
    }
   ],
   "source": [
    "print('Итоговая оценка smape константной модели на тестовых данных равна', smape_test_model)"
   ]
  },
  {
   "cell_type": "markdown",
   "metadata": {},
   "source": [
    "**Промежуточный вывод:**\n",
    "\n",
    "На тестовой выборке случайный лес предсказал значения целевых признаков rougher.output.recovery и final.output.recovery с sMAPE 9.430913496055744.\n",
    "Модель проверена на адекватность."
   ]
  },
  {
   "cell_type": "markdown",
   "metadata": {},
   "source": [
    "# Вывод.\n",
    "\n",
    "1. В этой части удалось написать функцию для вычисления итоговой sMAPE для дальнейшей оценки нашей модели.\n",
    "2. В процессе сравнения результатов разных моделей, самым эффективным оказался случайный лес, который дал лучшее значение sMAPE среди других моделей с параметрами: max_depth=3 и n_estimators = 30. Благодаря таким параметрам на данных train показатель smape равен 8.66.\n",
    "3. На тестовой выборке случайный лес предсказал значения целевых признаков rougher.output.recovery и final.output.recovery с sMAPE 9.430913496055744. Модель также была проверена на адекватность.\n"
   ]
  },
  {
   "cell_type": "markdown",
   "metadata": {},
   "source": [
    "# 4. Итоговый вывод."
   ]
  },
  {
   "cell_type": "markdown",
   "metadata": {},
   "source": [
    "В ходе иследования данных удалось проработать следующие шаги:\n",
    "\n",
    "1. Подготовить данные:\n",
    "* проверить правильность расчета эффективности обогащения (МАЕ стремится к нулю, что говорит об использовании правильной формулы для расчёта эффективности обогащения).\n",
    "* проанализировать признаки, недоступные в тестовой выборке (в test нет 34 признаков - 30 типа output (параметры продукта - целевые признаки и поэтому отсутствуют в тестовой выборке) и 4 типа calculation (расчётные характеристики - и отсутвуют они, скорее всего, из-за того, что они расчитываются после завершения процесса)).\n",
    "* проведести предобработку данных (добавить целевые признаки, заполнить пропуски ближайшими предыдущими значениями).\n",
    "\n",
    "\n",
    "2. Проанализировать данные:\n",
    "* анализ концентрации металлов показал, что концентрация золота (AU) увеличивается после каждого этапа обработки; серебра(AG) увеличивается на этапе флотации, а затем уменьшается; свинца(PB) сначала заметно увеличивается, примерно в 2 раза, на этапе флотации, а уже после первичной очистки чуть ратсет и остается примерно на одном уровне, что и во время второй очистки.\n",
    "* удалось выяснить, что размер гранул в выборках из данных разный, но после этапа флотации размер гранул имеет меньший разброс значений, и при этом этот диапазон одинаковый для обеих выборках.\n",
    "* анализ  выявил, что суммарная концентрация веществ увеличивается к финальному этапу, а диапазон распределения суммарной концентрации веществ, наоборот, уменьшается.\n",
    "* в данных также были обнаружены аномалии - это выбросы у нуля (эти данные были удалены).\n",
    "\n",
    "\n",
    "3. Выбрать эффективную модель машинного обучения:\n",
    "* удалось написать функцию для вычисления итоговой sMAPE для дальнейшей оценки нашей модели.\n",
    "* в процессе сравнения результатов разных моделей, самым эффективным оказался случайный лес, который дал лучшее значение sMAPE среди других моделей с параметрами: max_depth=3 и n_estimators = 30. Благодаря таким параметрам на данных train показатель smape равен 8.66.\n",
    "* на тестовой выборке случайный лес предсказал значения целевых признаков rougher.output.recovery и final.output.recovery с sMAPE 9.430913496055744. Модель также была проверена на адекватность.\n",
    "\n",
    "Таким образом, можно сделать следующий вывод: для эффективной работы промышленных предприятий компании \"Цифра\" лучше всего использовать модель машинного обучения случайный лес (RandomForestRegressor) с параметрами: max_depth=3 и n_estimators = 30, она показывает лучший результат, а, следовательно, поможет оптимизировать производство, чтобы не запускать предприятие с убыточными характеристиками."
   ]
  }
 ],
 "metadata": {
  "ExecuteTimeLog": [
   {
    "duration": 1561,
    "start_time": "2024-10-29T15:41:09.693Z"
   },
   {
    "duration": 6,
    "start_time": "2024-10-29T15:48:33.423Z"
   },
   {
    "duration": 3413,
    "start_time": "2024-10-29T15:48:33.907Z"
   },
   {
    "duration": 26,
    "start_time": "2024-10-29T15:50:28.782Z"
   },
   {
    "duration": 23,
    "start_time": "2024-10-29T15:50:50.108Z"
   },
   {
    "duration": 19,
    "start_time": "2024-10-29T15:52:01.744Z"
   },
   {
    "duration": 28,
    "start_time": "2024-10-29T15:52:21.129Z"
   },
   {
    "duration": 19,
    "start_time": "2024-10-29T15:56:36.112Z"
   },
   {
    "duration": 872,
    "start_time": "2024-10-29T15:59:19.168Z"
   },
   {
    "duration": 852,
    "start_time": "2024-10-29T15:59:51.769Z"
   },
   {
    "duration": 4,
    "start_time": "2024-10-29T16:00:39.150Z"
   },
   {
    "duration": 863,
    "start_time": "2024-10-29T16:00:43.585Z"
   },
   {
    "duration": 937,
    "start_time": "2024-10-29T16:01:21.437Z"
   },
   {
    "duration": 137,
    "start_time": "2024-10-29T16:01:53.932Z"
   },
   {
    "duration": 860,
    "start_time": "2024-10-29T16:02:04.083Z"
   },
   {
    "duration": 684,
    "start_time": "2024-10-29T16:02:22.740Z"
   },
   {
    "duration": 211,
    "start_time": "2024-10-29T16:02:51.131Z"
   },
   {
    "duration": 254,
    "start_time": "2024-10-29T16:03:42.676Z"
   },
   {
    "duration": 213,
    "start_time": "2024-10-29T16:03:53.369Z"
   },
   {
    "duration": 219,
    "start_time": "2024-10-29T16:04:10.923Z"
   },
   {
    "duration": 4,
    "start_time": "2024-10-29T16:04:23.916Z"
   },
   {
    "duration": 226,
    "start_time": "2024-10-29T16:04:28.037Z"
   },
   {
    "duration": 249,
    "start_time": "2024-10-29T16:04:42.795Z"
   },
   {
    "duration": 224,
    "start_time": "2024-10-29T16:04:53.606Z"
   },
   {
    "duration": 222,
    "start_time": "2024-10-29T16:05:54.868Z"
   },
   {
    "duration": 547,
    "start_time": "2024-10-29T16:06:54.953Z"
   },
   {
    "duration": 667,
    "start_time": "2024-10-29T16:07:31.194Z"
   },
   {
    "duration": 659,
    "start_time": "2024-10-29T16:07:42.321Z"
   },
   {
    "duration": 4,
    "start_time": "2024-10-29T16:14:12.718Z"
   },
   {
    "duration": 4,
    "start_time": "2024-10-29T16:15:27.652Z"
   },
   {
    "duration": 4,
    "start_time": "2024-10-29T16:15:34.682Z"
   },
   {
    "duration": 759,
    "start_time": "2024-10-29T16:16:54.481Z"
   },
   {
    "duration": 684,
    "start_time": "2024-10-29T16:16:56.756Z"
   },
   {
    "duration": 238,
    "start_time": "2024-10-29T16:16:57.546Z"
   },
   {
    "duration": 3,
    "start_time": "2024-10-29T16:16:59.216Z"
   },
   {
    "duration": 44,
    "start_time": "2024-10-29T16:17:13.187Z"
   },
   {
    "duration": 737,
    "start_time": "2024-10-29T16:19:25.309Z"
   },
   {
    "duration": 656,
    "start_time": "2024-10-29T16:19:26.205Z"
   },
   {
    "duration": 227,
    "start_time": "2024-10-29T16:19:26.863Z"
   },
   {
    "duration": 4,
    "start_time": "2024-10-29T16:19:27.386Z"
   },
   {
    "duration": 8,
    "start_time": "2024-10-29T17:07:07.389Z"
   },
   {
    "duration": 8,
    "start_time": "2024-10-29T17:07:16.482Z"
   },
   {
    "duration": 5,
    "start_time": "2024-10-29T17:07:25.046Z"
   },
   {
    "duration": 4,
    "start_time": "2024-10-29T17:12:32.289Z"
   },
   {
    "duration": 4,
    "start_time": "2024-10-29T17:15:59.036Z"
   },
   {
    "duration": 720,
    "start_time": "2024-10-29T17:15:59.460Z"
   },
   {
    "duration": 671,
    "start_time": "2024-10-29T17:16:00.182Z"
   },
   {
    "duration": 226,
    "start_time": "2024-10-29T17:16:00.855Z"
   },
   {
    "duration": 4,
    "start_time": "2024-10-29T17:16:01.083Z"
   },
   {
    "duration": 6,
    "start_time": "2024-10-29T17:16:03.398Z"
   },
   {
    "duration": 4,
    "start_time": "2024-10-29T17:16:04.557Z"
   },
   {
    "duration": 5,
    "start_time": "2024-10-29T17:20:40.938Z"
   },
   {
    "duration": 4,
    "start_time": "2024-10-29T17:20:41.449Z"
   },
   {
    "duration": 14,
    "start_time": "2024-10-29T17:32:42.872Z"
   },
   {
    "duration": 5,
    "start_time": "2024-10-29T17:55:43.320Z"
   },
   {
    "duration": 14,
    "start_time": "2024-10-29T17:57:29.885Z"
   },
   {
    "duration": 15,
    "start_time": "2024-10-29T17:57:30.526Z"
   },
   {
    "duration": 12,
    "start_time": "2024-10-29T17:57:39.158Z"
   },
   {
    "duration": 11,
    "start_time": "2024-10-29T17:57:58.054Z"
   },
   {
    "duration": 12,
    "start_time": "2024-10-29T17:58:10.967Z"
   },
   {
    "duration": 32,
    "start_time": "2024-10-29T17:58:32.940Z"
   },
   {
    "duration": 28,
    "start_time": "2024-10-29T17:59:14.633Z"
   },
   {
    "duration": 11,
    "start_time": "2024-10-29T17:59:48.527Z"
   },
   {
    "duration": 14,
    "start_time": "2024-10-29T18:00:16.617Z"
   },
   {
    "duration": 11,
    "start_time": "2024-10-29T18:00:32.185Z"
   },
   {
    "duration": 33,
    "start_time": "2024-10-29T18:06:25.362Z"
   },
   {
    "duration": 26,
    "start_time": "2024-10-29T18:07:08.583Z"
   },
   {
    "duration": 40,
    "start_time": "2024-10-29T18:08:27.917Z"
   },
   {
    "duration": 29,
    "start_time": "2024-10-29T18:08:44.923Z"
   },
   {
    "duration": 41,
    "start_time": "2024-10-29T18:09:29.515Z"
   },
   {
    "duration": 20,
    "start_time": "2024-10-29T18:09:32.514Z"
   },
   {
    "duration": 46,
    "start_time": "2024-10-29T18:10:26.523Z"
   },
   {
    "duration": 29,
    "start_time": "2024-10-29T18:10:27.747Z"
   },
   {
    "duration": 36,
    "start_time": "2024-10-29T18:11:05.274Z"
   },
   {
    "duration": 40,
    "start_time": "2024-10-29T18:11:09.822Z"
   },
   {
    "duration": 2,
    "start_time": "2024-10-29T18:11:38.981Z"
   },
   {
    "duration": 19,
    "start_time": "2024-10-29T18:11:39.459Z"
   },
   {
    "duration": 38,
    "start_time": "2024-10-29T18:11:40.132Z"
   },
   {
    "duration": 26,
    "start_time": "2024-10-29T18:11:40.892Z"
   },
   {
    "duration": 34,
    "start_time": "2024-10-29T18:12:14.398Z"
   },
   {
    "duration": 27,
    "start_time": "2024-10-29T18:12:15.157Z"
   },
   {
    "duration": 37,
    "start_time": "2024-10-29T18:12:18.358Z"
   },
   {
    "duration": 29,
    "start_time": "2024-10-29T18:12:19.085Z"
   },
   {
    "duration": 4,
    "start_time": "2024-10-29T18:13:08.086Z"
   },
   {
    "duration": 784,
    "start_time": "2024-10-29T18:13:08.261Z"
   },
   {
    "duration": 674,
    "start_time": "2024-10-29T18:13:09.047Z"
   },
   {
    "duration": 231,
    "start_time": "2024-10-29T18:13:09.722Z"
   },
   {
    "duration": 4,
    "start_time": "2024-10-29T18:13:09.956Z"
   },
   {
    "duration": 9,
    "start_time": "2024-10-29T18:13:09.962Z"
   },
   {
    "duration": 4,
    "start_time": "2024-10-29T18:13:11.871Z"
   },
   {
    "duration": 15,
    "start_time": "2024-10-29T18:13:12.845Z"
   },
   {
    "duration": 31,
    "start_time": "2024-10-29T18:13:13.504Z"
   },
   {
    "duration": 26,
    "start_time": "2024-10-29T18:13:13.710Z"
   },
   {
    "duration": 140,
    "start_time": "2024-10-29T18:18:01.315Z"
   },
   {
    "duration": 57,
    "start_time": "2024-10-29T18:19:19.909Z"
   },
   {
    "duration": 7,
    "start_time": "2024-10-29T18:19:38.998Z"
   },
   {
    "duration": 1389,
    "start_time": "2024-10-29T18:19:46.549Z"
   },
   {
    "duration": 798,
    "start_time": "2024-10-29T18:19:47.940Z"
   },
   {
    "duration": 695,
    "start_time": "2024-10-29T18:19:48.740Z"
   },
   {
    "duration": 260,
    "start_time": "2024-10-29T18:19:49.437Z"
   },
   {
    "duration": 4,
    "start_time": "2024-10-29T18:19:49.698Z"
   },
   {
    "duration": 6,
    "start_time": "2024-10-29T18:19:51.565Z"
   },
   {
    "duration": 4,
    "start_time": "2024-10-29T18:19:52.213Z"
   },
   {
    "duration": 14,
    "start_time": "2024-10-29T18:19:53.951Z"
   },
   {
    "duration": 31,
    "start_time": "2024-10-29T18:19:59.579Z"
   },
   {
    "duration": 18,
    "start_time": "2024-10-29T18:20:02.082Z"
   },
   {
    "duration": 41,
    "start_time": "2024-10-29T18:20:06.654Z"
   },
   {
    "duration": 19,
    "start_time": "2024-10-29T18:24:57.523Z"
   },
   {
    "duration": 82,
    "start_time": "2024-10-29T18:25:08.499Z"
   },
   {
    "duration": 21,
    "start_time": "2024-10-29T18:25:13.869Z"
   },
   {
    "duration": 14,
    "start_time": "2024-10-29T18:25:16.683Z"
   },
   {
    "duration": 14,
    "start_time": "2024-10-29T18:25:42.741Z"
   },
   {
    "duration": 14,
    "start_time": "2024-10-29T18:25:46.827Z"
   },
   {
    "duration": 15,
    "start_time": "2024-10-29T18:25:47.371Z"
   },
   {
    "duration": 14,
    "start_time": "2024-10-29T18:25:47.876Z"
   },
   {
    "duration": 14,
    "start_time": "2024-10-29T18:25:58.935Z"
   },
   {
    "duration": 14,
    "start_time": "2024-10-29T18:25:59.707Z"
   },
   {
    "duration": 15,
    "start_time": "2024-10-29T18:26:22.132Z"
   },
   {
    "duration": 16,
    "start_time": "2024-10-29T18:26:26.715Z"
   },
   {
    "duration": 26,
    "start_time": "2024-10-29T18:26:41.557Z"
   },
   {
    "duration": 5,
    "start_time": "2024-10-29T18:27:34.693Z"
   },
   {
    "duration": 762,
    "start_time": "2024-10-29T18:27:35.093Z"
   },
   {
    "duration": 665,
    "start_time": "2024-10-29T18:27:35.857Z"
   },
   {
    "duration": 228,
    "start_time": "2024-10-29T18:27:36.524Z"
   },
   {
    "duration": 3,
    "start_time": "2024-10-29T18:27:36.754Z"
   },
   {
    "duration": 5,
    "start_time": "2024-10-29T18:27:38.573Z"
   },
   {
    "duration": 4,
    "start_time": "2024-10-29T18:27:39.053Z"
   },
   {
    "duration": 13,
    "start_time": "2024-10-29T18:27:41.702Z"
   },
   {
    "duration": 31,
    "start_time": "2024-10-29T18:27:44.230Z"
   },
   {
    "duration": 29,
    "start_time": "2024-10-29T18:27:46.269Z"
   },
   {
    "duration": 27,
    "start_time": "2024-10-29T18:27:47.785Z"
   },
   {
    "duration": 31,
    "start_time": "2024-10-29T18:28:08.294Z"
   },
   {
    "duration": 28,
    "start_time": "2024-10-29T18:28:11.630Z"
   },
   {
    "duration": 33,
    "start_time": "2024-10-29T18:28:16.661Z"
   },
   {
    "duration": 26,
    "start_time": "2024-10-29T18:28:17.494Z"
   },
   {
    "duration": 46,
    "start_time": "2024-10-29T18:28:29.438Z"
   },
   {
    "duration": 1320,
    "start_time": "2024-10-29T18:28:35.463Z"
   },
   {
    "duration": 802,
    "start_time": "2024-10-29T18:28:36.784Z"
   },
   {
    "duration": 735,
    "start_time": "2024-10-29T18:28:37.587Z"
   },
   {
    "duration": 245,
    "start_time": "2024-10-29T18:28:38.325Z"
   },
   {
    "duration": 5,
    "start_time": "2024-10-29T18:28:38.571Z"
   },
   {
    "duration": 32,
    "start_time": "2024-10-29T18:28:38.577Z"
   },
   {
    "duration": 4,
    "start_time": "2024-10-29T18:28:38.611Z"
   },
   {
    "duration": 15,
    "start_time": "2024-10-29T18:28:38.617Z"
   },
   {
    "duration": 33,
    "start_time": "2024-10-29T18:28:38.635Z"
   },
   {
    "duration": 35,
    "start_time": "2024-10-29T18:28:39.030Z"
   },
   {
    "duration": 8,
    "start_time": "2024-10-29T18:30:53.049Z"
   },
   {
    "duration": 18,
    "start_time": "2024-10-29T18:34:09.797Z"
   },
   {
    "duration": 13,
    "start_time": "2024-10-29T18:41:46.295Z"
   },
   {
    "duration": 26,
    "start_time": "2024-10-29T18:42:16.283Z"
   },
   {
    "duration": 22,
    "start_time": "2024-10-29T18:45:04.552Z"
   },
   {
    "duration": 25,
    "start_time": "2024-10-29T18:45:15.295Z"
   },
   {
    "duration": 225,
    "start_time": "2024-10-29T18:45:47.400Z"
   },
   {
    "duration": 3,
    "start_time": "2024-10-29T18:45:56.624Z"
   },
   {
    "duration": 776,
    "start_time": "2024-10-29T18:45:57.159Z"
   },
   {
    "duration": 752,
    "start_time": "2024-10-29T18:45:57.937Z"
   },
   {
    "duration": 244,
    "start_time": "2024-10-29T18:45:58.690Z"
   },
   {
    "duration": 31,
    "start_time": "2024-10-29T18:47:05.641Z"
   },
   {
    "duration": 36,
    "start_time": "2024-10-29T18:47:19.389Z"
   },
   {
    "duration": 1350,
    "start_time": "2024-10-29T19:06:33.330Z"
   },
   {
    "duration": 771,
    "start_time": "2024-10-29T19:06:34.682Z"
   },
   {
    "duration": 668,
    "start_time": "2024-10-29T19:06:35.454Z"
   },
   {
    "duration": 239,
    "start_time": "2024-10-29T19:06:36.123Z"
   },
   {
    "duration": 4,
    "start_time": "2024-10-29T19:06:36.364Z"
   },
   {
    "duration": 5,
    "start_time": "2024-10-29T19:06:37.198Z"
   },
   {
    "duration": 5,
    "start_time": "2024-10-29T19:06:37.614Z"
   },
   {
    "duration": 13,
    "start_time": "2024-10-29T19:06:39.456Z"
   },
   {
    "duration": 31,
    "start_time": "2024-10-29T19:06:43.614Z"
   },
   {
    "duration": 26,
    "start_time": "2024-10-29T19:06:44.153Z"
   },
   {
    "duration": 12,
    "start_time": "2024-10-29T19:06:44.766Z"
   },
   {
    "duration": 42,
    "start_time": "2024-10-29T19:06:45.263Z"
   },
   {
    "duration": 651,
    "start_time": "2024-10-29T19:10:18.613Z"
   },
   {
    "duration": 2008,
    "start_time": "2024-10-30T11:49:23.205Z"
   },
   {
    "duration": 1962,
    "start_time": "2024-10-30T11:50:57.353Z"
   },
   {
    "duration": 240,
    "start_time": "2024-10-30T11:51:16.749Z"
   },
   {
    "duration": 291,
    "start_time": "2024-10-30T11:59:17.439Z"
   },
   {
    "duration": 298,
    "start_time": "2024-10-30T12:02:17.625Z"
   },
   {
    "duration": 261,
    "start_time": "2024-10-30T12:03:26.055Z"
   },
   {
    "duration": 273,
    "start_time": "2024-10-30T12:06:09.710Z"
   },
   {
    "duration": 372,
    "start_time": "2024-10-30T12:06:28.331Z"
   },
   {
    "duration": 261,
    "start_time": "2024-10-30T12:06:52.047Z"
   },
   {
    "duration": 265,
    "start_time": "2024-10-30T12:08:13.168Z"
   },
   {
    "duration": 1767,
    "start_time": "2024-10-30T12:32:19.567Z"
   },
   {
    "duration": 145,
    "start_time": "2024-10-30T12:35:27.154Z"
   },
   {
    "duration": 562,
    "start_time": "2024-10-30T12:51:28.286Z"
   },
   {
    "duration": 426,
    "start_time": "2024-10-30T12:51:49.995Z"
   },
   {
    "duration": 394,
    "start_time": "2024-10-30T12:52:14.634Z"
   },
   {
    "duration": 382,
    "start_time": "2024-10-30T12:52:55.573Z"
   },
   {
    "duration": 362,
    "start_time": "2024-10-30T12:53:11.395Z"
   },
   {
    "duration": 518,
    "start_time": "2024-10-30T12:53:21.003Z"
   },
   {
    "duration": 443,
    "start_time": "2024-10-30T12:54:28.573Z"
   },
   {
    "duration": 1665,
    "start_time": "2024-10-30T12:59:34.138Z"
   },
   {
    "duration": 119,
    "start_time": "2024-10-30T13:00:26.374Z"
   },
   {
    "duration": 433,
    "start_time": "2024-10-30T13:00:47.395Z"
   },
   {
    "duration": 412,
    "start_time": "2024-10-30T13:01:16.724Z"
   },
   {
    "duration": 439,
    "start_time": "2024-10-30T13:01:23.395Z"
   },
   {
    "duration": 385,
    "start_time": "2024-10-30T13:02:57.845Z"
   },
   {
    "duration": 431,
    "start_time": "2024-10-30T13:02:59.008Z"
   },
   {
    "duration": 1798,
    "start_time": "2024-10-30T13:22:39.465Z"
   },
   {
    "duration": 256,
    "start_time": "2024-10-30T13:23:08.859Z"
   },
   {
    "duration": 88,
    "start_time": "2024-10-30T13:32:30.701Z"
   },
   {
    "duration": 14,
    "start_time": "2024-10-30T13:35:13.508Z"
   },
   {
    "duration": 394,
    "start_time": "2024-10-30T13:35:21.142Z"
   },
   {
    "duration": 13,
    "start_time": "2024-10-30T13:35:25.398Z"
   },
   {
    "duration": 19,
    "start_time": "2024-10-30T13:44:50.314Z"
   },
   {
    "duration": 18,
    "start_time": "2024-10-30T13:52:17.510Z"
   },
   {
    "duration": 379,
    "start_time": "2024-10-30T13:58:03.436Z"
   },
   {
    "duration": 288,
    "start_time": "2024-10-30T13:58:28.827Z"
   },
   {
    "duration": 253,
    "start_time": "2024-10-30T13:59:22.134Z"
   },
   {
    "duration": 250,
    "start_time": "2024-10-30T14:00:27.367Z"
   },
   {
    "duration": 248,
    "start_time": "2024-10-30T14:08:25.862Z"
   },
   {
    "duration": 14,
    "start_time": "2024-10-30T14:22:11.891Z"
   },
   {
    "duration": 25,
    "start_time": "2024-10-30T14:24:06.130Z"
   },
   {
    "duration": 1467,
    "start_time": "2024-10-30T14:31:15.457Z"
   },
   {
    "duration": 890,
    "start_time": "2024-10-30T14:31:16.926Z"
   },
   {
    "duration": 761,
    "start_time": "2024-10-30T14:31:17.818Z"
   },
   {
    "duration": 277,
    "start_time": "2024-10-30T14:31:18.581Z"
   },
   {
    "duration": 4,
    "start_time": "2024-10-30T14:31:18.859Z"
   },
   {
    "duration": 5,
    "start_time": "2024-10-30T14:31:19.087Z"
   },
   {
    "duration": 4,
    "start_time": "2024-10-30T14:31:19.514Z"
   },
   {
    "duration": 16,
    "start_time": "2024-10-30T14:31:20.714Z"
   },
   {
    "duration": 45,
    "start_time": "2024-10-30T14:31:21.914Z"
   },
   {
    "duration": 29,
    "start_time": "2024-10-30T14:31:22.337Z"
   },
   {
    "duration": 23,
    "start_time": "2024-10-30T14:31:22.719Z"
   },
   {
    "duration": 38,
    "start_time": "2024-10-30T14:31:23.143Z"
   },
   {
    "duration": 329,
    "start_time": "2024-10-30T14:31:25.538Z"
   },
   {
    "duration": 390,
    "start_time": "2024-10-30T14:31:25.942Z"
   },
   {
    "duration": 317,
    "start_time": "2024-10-30T14:31:26.379Z"
   },
   {
    "duration": 456,
    "start_time": "2024-10-30T14:31:28.600Z"
   },
   {
    "duration": 393,
    "start_time": "2024-10-30T14:31:29.479Z"
   },
   {
    "duration": 19,
    "start_time": "2024-10-30T14:31:31.746Z"
   },
   {
    "duration": 289,
    "start_time": "2024-10-30T14:31:31.920Z"
   },
   {
    "duration": 16,
    "start_time": "2024-10-30T14:31:33.302Z"
   },
   {
    "duration": 12,
    "start_time": "2024-10-30T14:31:33.765Z"
   },
   {
    "duration": 23,
    "start_time": "2024-10-30T14:43:41.514Z"
   },
   {
    "duration": 129,
    "start_time": "2024-10-30T14:44:25.181Z"
   },
   {
    "duration": 296,
    "start_time": "2024-10-30T14:44:44.967Z"
   },
   {
    "duration": 379,
    "start_time": "2024-10-30T14:45:09.709Z"
   },
   {
    "duration": 8,
    "start_time": "2024-10-31T07:21:46.523Z"
   },
   {
    "duration": 4,
    "start_time": "2024-10-31T07:33:42.104Z"
   },
   {
    "duration": 3,
    "start_time": "2024-10-31T07:33:42.571Z"
   },
   {
    "duration": 42,
    "start_time": "2024-10-31T07:34:51.782Z"
   },
   {
    "duration": 6,
    "start_time": "2024-10-31T07:34:56.062Z"
   },
   {
    "duration": 5,
    "start_time": "2024-10-31T07:34:57.941Z"
   },
   {
    "duration": 2,
    "start_time": "2024-10-31T07:35:10.797Z"
   },
   {
    "duration": 6,
    "start_time": "2024-10-31T07:35:11.637Z"
   },
   {
    "duration": 5,
    "start_time": "2024-10-31T07:35:12.189Z"
   },
   {
    "duration": 1857,
    "start_time": "2024-10-31T07:35:21.391Z"
   },
   {
    "duration": 1242,
    "start_time": "2024-10-31T07:35:23.250Z"
   },
   {
    "duration": 576,
    "start_time": "2024-10-31T07:35:24.493Z"
   },
   {
    "duration": 244,
    "start_time": "2024-10-31T07:35:25.071Z"
   },
   {
    "duration": 3,
    "start_time": "2024-10-31T07:35:25.316Z"
   },
   {
    "duration": 19,
    "start_time": "2024-10-31T07:35:25.321Z"
   },
   {
    "duration": 12,
    "start_time": "2024-10-31T07:35:25.341Z"
   },
   {
    "duration": 12,
    "start_time": "2024-10-31T07:35:25.354Z"
   },
   {
    "duration": 26,
    "start_time": "2024-10-31T07:35:25.367Z"
   },
   {
    "duration": 32,
    "start_time": "2024-10-31T07:35:25.395Z"
   },
   {
    "duration": 12,
    "start_time": "2024-10-31T07:35:25.428Z"
   },
   {
    "duration": 32,
    "start_time": "2024-10-31T07:35:25.441Z"
   },
   {
    "duration": 268,
    "start_time": "2024-10-31T07:35:26.024Z"
   },
   {
    "duration": 315,
    "start_time": "2024-10-31T07:35:26.294Z"
   },
   {
    "duration": 249,
    "start_time": "2024-10-31T07:35:26.612Z"
   },
   {
    "duration": 365,
    "start_time": "2024-10-31T07:35:27.547Z"
   },
   {
    "duration": 388,
    "start_time": "2024-10-31T07:35:27.914Z"
   },
   {
    "duration": 15,
    "start_time": "2024-10-31T07:35:28.666Z"
   },
   {
    "duration": 229,
    "start_time": "2024-10-31T07:35:28.886Z"
   },
   {
    "duration": 15,
    "start_time": "2024-10-31T07:35:29.505Z"
   },
   {
    "duration": 14,
    "start_time": "2024-10-31T07:35:29.734Z"
   },
   {
    "duration": 3,
    "start_time": "2024-10-31T07:35:30.973Z"
   },
   {
    "duration": 3,
    "start_time": "2024-10-31T07:35:31.190Z"
   },
   {
    "duration": 4,
    "start_time": "2024-10-31T07:35:31.405Z"
   },
   {
    "duration": 7,
    "start_time": "2024-10-31T07:35:31.621Z"
   },
   {
    "duration": 71,
    "start_time": "2024-10-31T07:55:16.477Z"
   },
   {
    "duration": 4,
    "start_time": "2024-10-31T08:03:48.866Z"
   },
   {
    "duration": 5,
    "start_time": "2024-10-31T08:03:56.618Z"
   },
   {
    "duration": 3,
    "start_time": "2024-10-31T08:12:30.755Z"
   },
   {
    "duration": 16,
    "start_time": "2024-10-31T08:13:20.356Z"
   },
   {
    "duration": 4,
    "start_time": "2024-10-31T08:13:50.431Z"
   },
   {
    "duration": 628,
    "start_time": "2024-10-31T08:13:50.595Z"
   },
   {
    "duration": 628,
    "start_time": "2024-10-31T08:13:51.225Z"
   },
   {
    "duration": 219,
    "start_time": "2024-10-31T08:13:51.855Z"
   },
   {
    "duration": 4,
    "start_time": "2024-10-31T08:13:52.076Z"
   },
   {
    "duration": 10,
    "start_time": "2024-10-31T08:13:52.082Z"
   },
   {
    "duration": 4,
    "start_time": "2024-10-31T08:13:52.107Z"
   },
   {
    "duration": 11,
    "start_time": "2024-10-31T08:13:52.675Z"
   },
   {
    "duration": 36,
    "start_time": "2024-10-31T08:13:53.259Z"
   },
   {
    "duration": 22,
    "start_time": "2024-10-31T08:13:53.460Z"
   },
   {
    "duration": 10,
    "start_time": "2024-10-31T08:13:53.651Z"
   },
   {
    "duration": 25,
    "start_time": "2024-10-31T08:13:53.845Z"
   },
   {
    "duration": 254,
    "start_time": "2024-10-31T08:13:55.024Z"
   },
   {
    "duration": 304,
    "start_time": "2024-10-31T08:13:55.280Z"
   },
   {
    "duration": 278,
    "start_time": "2024-10-31T08:13:55.586Z"
   },
   {
    "duration": 355,
    "start_time": "2024-10-31T08:13:56.235Z"
   },
   {
    "duration": 436,
    "start_time": "2024-10-31T08:13:57.092Z"
   },
   {
    "duration": 18,
    "start_time": "2024-10-31T08:13:59.711Z"
   },
   {
    "duration": 215,
    "start_time": "2024-10-31T08:13:59.889Z"
   },
   {
    "duration": 13,
    "start_time": "2024-10-31T08:14:00.511Z"
   },
   {
    "duration": 11,
    "start_time": "2024-10-31T08:14:00.720Z"
   },
   {
    "duration": 3,
    "start_time": "2024-10-31T08:14:02.064Z"
   },
   {
    "duration": 3,
    "start_time": "2024-10-31T08:14:02.516Z"
   },
   {
    "duration": 3,
    "start_time": "2024-10-31T08:14:04.285Z"
   },
   {
    "duration": 13,
    "start_time": "2024-10-31T08:16:52.136Z"
   },
   {
    "duration": 8,
    "start_time": "2024-10-31T08:17:46.752Z"
   },
   {
    "duration": 4,
    "start_time": "2024-10-31T08:19:08.841Z"
   },
   {
    "duration": 8,
    "start_time": "2024-10-31T08:22:42.813Z"
   },
   {
    "duration": 20,
    "start_time": "2024-10-31T08:24:14.408Z"
   },
   {
    "duration": 3,
    "start_time": "2024-10-31T08:29:07.451Z"
   },
   {
    "duration": 12,
    "start_time": "2024-10-31T08:29:31.660Z"
   },
   {
    "duration": 3,
    "start_time": "2024-10-31T08:35:55.859Z"
   },
   {
    "duration": 3,
    "start_time": "2024-10-31T08:35:56.506Z"
   },
   {
    "duration": 7,
    "start_time": "2024-10-31T08:36:15.811Z"
   },
   {
    "duration": 4,
    "start_time": "2024-10-31T08:36:34.410Z"
   },
   {
    "duration": 11,
    "start_time": "2024-10-31T08:37:00.186Z"
   },
   {
    "duration": 11,
    "start_time": "2024-10-31T08:37:30.572Z"
   },
   {
    "duration": 3,
    "start_time": "2024-10-31T08:37:36.566Z"
   },
   {
    "duration": 3,
    "start_time": "2024-10-31T08:37:37.006Z"
   },
   {
    "duration": 11,
    "start_time": "2024-10-31T08:37:38.612Z"
   },
   {
    "duration": 11,
    "start_time": "2024-10-31T08:37:46.452Z"
   },
   {
    "duration": 4,
    "start_time": "2024-10-31T08:37:56.012Z"
   },
   {
    "duration": 633,
    "start_time": "2024-10-31T08:37:56.173Z"
   },
   {
    "duration": 585,
    "start_time": "2024-10-31T08:37:56.808Z"
   },
   {
    "duration": 214,
    "start_time": "2024-10-31T08:37:57.394Z"
   },
   {
    "duration": 3,
    "start_time": "2024-10-31T08:37:57.612Z"
   },
   {
    "duration": 4,
    "start_time": "2024-10-31T08:37:57.617Z"
   },
   {
    "duration": 14,
    "start_time": "2024-10-31T08:37:57.622Z"
   },
   {
    "duration": 11,
    "start_time": "2024-10-31T08:37:58.132Z"
   },
   {
    "duration": 27,
    "start_time": "2024-10-31T08:37:58.668Z"
   },
   {
    "duration": 23,
    "start_time": "2024-10-31T08:37:58.862Z"
   },
   {
    "duration": 11,
    "start_time": "2024-10-31T08:37:59.055Z"
   },
   {
    "duration": 25,
    "start_time": "2024-10-31T08:37:59.252Z"
   },
   {
    "duration": 250,
    "start_time": "2024-10-31T08:38:00.387Z"
   },
   {
    "duration": 294,
    "start_time": "2024-10-31T08:38:00.638Z"
   },
   {
    "duration": 253,
    "start_time": "2024-10-31T08:38:00.934Z"
   },
   {
    "duration": 353,
    "start_time": "2024-10-31T08:38:01.556Z"
   },
   {
    "duration": 371,
    "start_time": "2024-10-31T08:38:01.956Z"
   },
   {
    "duration": 14,
    "start_time": "2024-10-31T08:38:02.793Z"
   },
   {
    "duration": 218,
    "start_time": "2024-10-31T08:38:02.932Z"
   },
   {
    "duration": 11,
    "start_time": "2024-10-31T08:38:03.533Z"
   },
   {
    "duration": 11,
    "start_time": "2024-10-31T08:38:03.740Z"
   },
   {
    "duration": 3,
    "start_time": "2024-10-31T08:38:05.012Z"
   },
   {
    "duration": 3,
    "start_time": "2024-10-31T08:38:05.453Z"
   },
   {
    "duration": 3,
    "start_time": "2024-10-31T08:38:06.889Z"
   },
   {
    "duration": 3,
    "start_time": "2024-10-31T08:38:07.445Z"
   },
   {
    "duration": 4,
    "start_time": "2024-10-31T08:38:08.318Z"
   },
   {
    "duration": 13,
    "start_time": "2024-10-31T08:39:01.621Z"
   },
   {
    "duration": 15,
    "start_time": "2024-10-31T08:39:36.082Z"
   },
   {
    "duration": 22,
    "start_time": "2024-10-31T08:40:38.722Z"
   },
   {
    "duration": 20,
    "start_time": "2024-10-31T08:40:42.759Z"
   },
   {
    "duration": 22,
    "start_time": "2024-10-31T08:41:05.580Z"
   },
   {
    "duration": 4,
    "start_time": "2024-10-31T08:42:28.971Z"
   },
   {
    "duration": 622,
    "start_time": "2024-10-31T08:42:29.173Z"
   },
   {
    "duration": 586,
    "start_time": "2024-10-31T08:42:29.797Z"
   },
   {
    "duration": 212,
    "start_time": "2024-10-31T08:42:30.385Z"
   },
   {
    "duration": 4,
    "start_time": "2024-10-31T08:42:30.599Z"
   },
   {
    "duration": 4,
    "start_time": "2024-10-31T08:42:30.690Z"
   },
   {
    "duration": 3,
    "start_time": "2024-10-31T08:42:30.867Z"
   },
   {
    "duration": 11,
    "start_time": "2024-10-31T08:42:31.451Z"
   },
   {
    "duration": 26,
    "start_time": "2024-10-31T08:42:32.013Z"
   },
   {
    "duration": 21,
    "start_time": "2024-10-31T08:42:32.210Z"
   },
   {
    "duration": 10,
    "start_time": "2024-10-31T08:42:32.423Z"
   },
   {
    "duration": 24,
    "start_time": "2024-10-31T08:42:32.611Z"
   },
   {
    "duration": 241,
    "start_time": "2024-10-31T08:42:33.802Z"
   },
   {
    "duration": 310,
    "start_time": "2024-10-31T08:42:34.045Z"
   },
   {
    "duration": 234,
    "start_time": "2024-10-31T08:42:34.356Z"
   },
   {
    "duration": 437,
    "start_time": "2024-10-31T08:42:34.977Z"
   },
   {
    "duration": 398,
    "start_time": "2024-10-31T08:42:35.416Z"
   },
   {
    "duration": 16,
    "start_time": "2024-10-31T08:42:36.186Z"
   },
   {
    "duration": 225,
    "start_time": "2024-10-31T08:42:36.377Z"
   },
   {
    "duration": 12,
    "start_time": "2024-10-31T08:42:37.161Z"
   },
   {
    "duration": 11,
    "start_time": "2024-10-31T08:42:37.421Z"
   },
   {
    "duration": 3,
    "start_time": "2024-10-31T08:42:38.250Z"
   },
   {
    "duration": 3,
    "start_time": "2024-10-31T08:42:38.441Z"
   },
   {
    "duration": 3,
    "start_time": "2024-10-31T08:42:39.056Z"
   },
   {
    "duration": 4,
    "start_time": "2024-10-31T08:42:39.296Z"
   },
   {
    "duration": 4,
    "start_time": "2024-10-31T08:42:45.265Z"
   },
   {
    "duration": 13,
    "start_time": "2024-10-31T08:42:45.875Z"
   },
   {
    "duration": 10,
    "start_time": "2024-10-31T08:42:46.819Z"
   },
   {
    "duration": 3,
    "start_time": "2024-10-31T08:43:22.194Z"
   },
   {
    "duration": 4,
    "start_time": "2024-10-31T08:43:59.435Z"
   },
   {
    "duration": 11,
    "start_time": "2024-10-31T08:44:11.365Z"
   },
   {
    "duration": 4,
    "start_time": "2024-10-31T08:44:24.428Z"
   },
   {
    "duration": 11,
    "start_time": "2024-10-31T08:44:24.851Z"
   },
   {
    "duration": 13,
    "start_time": "2024-10-31T08:44:32.834Z"
   },
   {
    "duration": 3,
    "start_time": "2024-10-31T08:44:42.173Z"
   },
   {
    "duration": 666,
    "start_time": "2024-10-31T08:44:42.338Z"
   },
   {
    "duration": 549,
    "start_time": "2024-10-31T08:44:43.005Z"
   },
   {
    "duration": 219,
    "start_time": "2024-10-31T08:44:43.556Z"
   },
   {
    "duration": 3,
    "start_time": "2024-10-31T08:44:43.777Z"
   },
   {
    "duration": 8,
    "start_time": "2024-10-31T08:44:43.781Z"
   },
   {
    "duration": 4,
    "start_time": "2024-10-31T08:44:43.858Z"
   },
   {
    "duration": 11,
    "start_time": "2024-10-31T08:44:44.459Z"
   },
   {
    "duration": 27,
    "start_time": "2024-10-31T08:44:45.060Z"
   },
   {
    "duration": 26,
    "start_time": "2024-10-31T08:44:45.250Z"
   },
   {
    "duration": 11,
    "start_time": "2024-10-31T08:44:45.450Z"
   },
   {
    "duration": 28,
    "start_time": "2024-10-31T08:44:45.650Z"
   },
   {
    "duration": 248,
    "start_time": "2024-10-31T08:44:46.839Z"
   },
   {
    "duration": 301,
    "start_time": "2024-10-31T08:44:47.089Z"
   },
   {
    "duration": 231,
    "start_time": "2024-10-31T08:44:47.392Z"
   },
   {
    "duration": 383,
    "start_time": "2024-10-31T08:44:48.098Z"
   },
   {
    "duration": 388,
    "start_time": "2024-10-31T08:44:48.515Z"
   },
   {
    "duration": 15,
    "start_time": "2024-10-31T08:44:49.363Z"
   },
   {
    "duration": 208,
    "start_time": "2024-10-31T08:44:49.579Z"
   },
   {
    "duration": 12,
    "start_time": "2024-10-31T08:44:50.236Z"
   },
   {
    "duration": 10,
    "start_time": "2024-10-31T08:44:50.972Z"
   },
   {
    "duration": 3,
    "start_time": "2024-10-31T08:44:52.875Z"
   },
   {
    "duration": 3,
    "start_time": "2024-10-31T08:44:53.173Z"
   },
   {
    "duration": 2,
    "start_time": "2024-10-31T08:44:53.755Z"
   },
   {
    "duration": 4,
    "start_time": "2024-10-31T08:44:53.971Z"
   },
   {
    "duration": 4,
    "start_time": "2024-10-31T08:44:54.213Z"
   },
   {
    "duration": 12,
    "start_time": "2024-10-31T08:54:44.558Z"
   },
   {
    "duration": 12,
    "start_time": "2024-10-31T08:55:18.347Z"
   },
   {
    "duration": 5,
    "start_time": "2024-10-31T08:56:45.864Z"
   },
   {
    "duration": 11,
    "start_time": "2024-10-31T08:56:54.610Z"
   },
   {
    "duration": 27,
    "start_time": "2024-10-31T08:59:40.435Z"
   },
   {
    "duration": 14,
    "start_time": "2024-10-31T09:00:09.276Z"
   },
   {
    "duration": 5,
    "start_time": "2024-10-31T09:21:49.482Z"
   },
   {
    "duration": 696,
    "start_time": "2024-10-31T09:21:49.673Z"
   },
   {
    "duration": 575,
    "start_time": "2024-10-31T09:21:50.371Z"
   },
   {
    "duration": 241,
    "start_time": "2024-10-31T09:21:50.948Z"
   },
   {
    "duration": 3,
    "start_time": "2024-10-31T09:21:51.193Z"
   },
   {
    "duration": 60,
    "start_time": "2024-10-31T09:21:51.198Z"
   },
   {
    "duration": 13,
    "start_time": "2024-10-31T09:21:51.282Z"
   },
   {
    "duration": 10,
    "start_time": "2024-10-31T09:21:51.884Z"
   },
   {
    "duration": 33,
    "start_time": "2024-10-31T09:21:52.490Z"
   },
   {
    "duration": 14,
    "start_time": "2024-10-31T09:21:52.697Z"
   },
   {
    "duration": 1,
    "start_time": "2024-10-31T09:21:53.122Z"
   },
   {
    "duration": 3,
    "start_time": "2024-10-31T09:21:53.337Z"
   },
   {
    "duration": 11,
    "start_time": "2024-10-31T09:21:53.546Z"
   },
   {
    "duration": 37,
    "start_time": "2024-10-31T09:21:53.761Z"
   },
   {
    "duration": 257,
    "start_time": "2024-10-31T09:21:55.034Z"
   },
   {
    "duration": 314,
    "start_time": "2024-10-31T09:21:55.293Z"
   },
   {
    "duration": 290,
    "start_time": "2024-10-31T09:21:55.609Z"
   },
   {
    "duration": 388,
    "start_time": "2024-10-31T09:21:56.242Z"
   },
   {
    "duration": 362,
    "start_time": "2024-10-31T09:21:56.644Z"
   },
   {
    "duration": 18,
    "start_time": "2024-10-31T09:21:57.458Z"
   },
   {
    "duration": 228,
    "start_time": "2024-10-31T09:21:57.658Z"
   },
   {
    "duration": 14,
    "start_time": "2024-10-31T09:21:58.273Z"
   },
   {
    "duration": 11,
    "start_time": "2024-10-31T09:21:58.505Z"
   },
   {
    "duration": 3,
    "start_time": "2024-10-31T09:21:59.298Z"
   },
   {
    "duration": 3,
    "start_time": "2024-10-31T09:21:59.482Z"
   },
   {
    "duration": 1614,
    "start_time": "2024-10-31T09:22:00.101Z"
   },
   {
    "duration": 44,
    "start_time": "2024-10-31T09:22:01.717Z"
   },
   {
    "duration": 26,
    "start_time": "2024-10-31T09:22:01.763Z"
   },
   {
    "duration": 20,
    "start_time": "2024-10-31T09:22:01.791Z"
   },
   {
    "duration": 5,
    "start_time": "2024-10-31T09:22:01.813Z"
   },
   {
    "duration": 10,
    "start_time": "2024-10-31T09:22:25.331Z"
   },
   {
    "duration": 18,
    "start_time": "2024-10-31T09:22:34.153Z"
   },
   {
    "duration": 8,
    "start_time": "2024-10-31T09:23:15.469Z"
   },
   {
    "duration": 2,
    "start_time": "2024-10-31T09:23:55.685Z"
   },
   {
    "duration": 2,
    "start_time": "2024-10-31T09:24:15.084Z"
   },
   {
    "duration": 652,
    "start_time": "2024-10-31T09:32:53.142Z"
   },
   {
    "duration": 544,
    "start_time": "2024-10-31T09:33:02.135Z"
   },
   {
    "duration": 208,
    "start_time": "2024-10-31T09:33:59.982Z"
   },
   {
    "duration": 3,
    "start_time": "2024-10-31T09:34:04.545Z"
   },
   {
    "duration": 4,
    "start_time": "2024-10-31T09:34:43.048Z"
   },
   {
    "duration": 5,
    "start_time": "2024-10-31T09:34:43.649Z"
   },
   {
    "duration": 67,
    "start_time": "2024-10-31T09:41:18.316Z"
   },
   {
    "duration": 15,
    "start_time": "2024-10-31T09:41:27.741Z"
   },
   {
    "duration": 21,
    "start_time": "2024-10-31T09:43:54.980Z"
   },
   {
    "duration": 1042,
    "start_time": "2024-10-31T09:44:20.632Z"
   },
   {
    "duration": 4,
    "start_time": "2024-10-31T09:44:46.681Z"
   },
   {
    "duration": 657,
    "start_time": "2024-10-31T09:44:47.058Z"
   },
   {
    "duration": 550,
    "start_time": "2024-10-31T09:44:47.717Z"
   },
   {
    "duration": 215,
    "start_time": "2024-10-31T09:44:48.420Z"
   },
   {
    "duration": 3,
    "start_time": "2024-10-31T09:44:49.070Z"
   },
   {
    "duration": 4,
    "start_time": "2024-10-31T09:44:50.777Z"
   },
   {
    "duration": 5,
    "start_time": "2024-10-31T09:44:50.953Z"
   },
   {
    "duration": 12,
    "start_time": "2024-10-31T09:44:52.528Z"
   },
   {
    "duration": 20,
    "start_time": "2024-10-31T09:44:54.108Z"
   },
   {
    "duration": 1104,
    "start_time": "2024-10-31T09:44:54.969Z"
   },
   {
    "duration": 16,
    "start_time": "2024-10-31T09:48:04.316Z"
   },
   {
    "duration": 12,
    "start_time": "2024-10-31T09:48:21.857Z"
   },
   {
    "duration": 22,
    "start_time": "2024-10-31T09:48:41.888Z"
   },
   {
    "duration": 12,
    "start_time": "2024-10-31T09:49:03.277Z"
   },
   {
    "duration": 13,
    "start_time": "2024-10-31T09:49:16.893Z"
   },
   {
    "duration": 21,
    "start_time": "2024-10-31T09:49:18.989Z"
   },
   {
    "duration": 14,
    "start_time": "2024-10-31T09:49:19.580Z"
   },
   {
    "duration": 4,
    "start_time": "2024-10-31T09:49:26.909Z"
   },
   {
    "duration": 622,
    "start_time": "2024-10-31T09:49:27.108Z"
   },
   {
    "duration": 619,
    "start_time": "2024-10-31T09:49:27.732Z"
   },
   {
    "duration": 209,
    "start_time": "2024-10-31T09:49:28.352Z"
   },
   {
    "duration": 4,
    "start_time": "2024-10-31T09:49:28.562Z"
   },
   {
    "duration": 4,
    "start_time": "2024-10-31T09:49:29.092Z"
   },
   {
    "duration": 5,
    "start_time": "2024-10-31T09:49:29.693Z"
   },
   {
    "duration": 12,
    "start_time": "2024-10-31T09:49:31.782Z"
   },
   {
    "duration": 21,
    "start_time": "2024-10-31T09:49:36.348Z"
   },
   {
    "duration": 15,
    "start_time": "2024-10-31T09:49:37.022Z"
   },
   {
    "duration": 12,
    "start_time": "2024-10-31T09:50:01.564Z"
   },
   {
    "duration": 14,
    "start_time": "2024-10-31T09:54:07.306Z"
   },
   {
    "duration": 11,
    "start_time": "2024-10-31T09:54:17.130Z"
   },
   {
    "duration": 30,
    "start_time": "2024-10-31T09:54:38.739Z"
   },
   {
    "duration": 4,
    "start_time": "2024-10-31T09:55:10.525Z"
   },
   {
    "duration": 566,
    "start_time": "2024-10-31T09:55:10.709Z"
   },
   {
    "duration": 545,
    "start_time": "2024-10-31T09:55:11.277Z"
   },
   {
    "duration": 217,
    "start_time": "2024-10-31T09:55:11.824Z"
   },
   {
    "duration": 3,
    "start_time": "2024-10-31T09:55:12.043Z"
   },
   {
    "duration": 6,
    "start_time": "2024-10-31T09:55:12.100Z"
   },
   {
    "duration": 5,
    "start_time": "2024-10-31T09:55:12.322Z"
   },
   {
    "duration": 12,
    "start_time": "2024-10-31T09:55:12.938Z"
   },
   {
    "duration": 20,
    "start_time": "2024-10-31T09:55:13.554Z"
   },
   {
    "duration": 30,
    "start_time": "2024-10-31T09:55:13.786Z"
   },
   {
    "duration": 11,
    "start_time": "2024-10-31T09:55:14.006Z"
   },
   {
    "duration": 2,
    "start_time": "2024-10-31T09:55:14.218Z"
   },
   {
    "duration": 11,
    "start_time": "2024-10-31T09:55:41.476Z"
   },
   {
    "duration": 18,
    "start_time": "2024-10-31T09:56:00.696Z"
   },
   {
    "duration": 4,
    "start_time": "2024-10-31T09:56:07.126Z"
   },
   {
    "duration": 609,
    "start_time": "2024-10-31T09:56:07.299Z"
   },
   {
    "duration": 545,
    "start_time": "2024-10-31T09:56:07.909Z"
   },
   {
    "duration": 211,
    "start_time": "2024-10-31T09:56:08.455Z"
   },
   {
    "duration": 3,
    "start_time": "2024-10-31T09:56:08.668Z"
   },
   {
    "duration": 11,
    "start_time": "2024-10-31T09:56:08.672Z"
   },
   {
    "duration": 5,
    "start_time": "2024-10-31T09:56:08.740Z"
   },
   {
    "duration": 13,
    "start_time": "2024-10-31T09:56:09.337Z"
   },
   {
    "duration": 20,
    "start_time": "2024-10-31T09:56:10.324Z"
   },
   {
    "duration": 12,
    "start_time": "2024-10-31T09:56:10.490Z"
   },
   {
    "duration": 12,
    "start_time": "2024-10-31T09:56:10.683Z"
   },
   {
    "duration": 2,
    "start_time": "2024-10-31T09:56:10.900Z"
   },
   {
    "duration": 11,
    "start_time": "2024-10-31T09:56:18.995Z"
   },
   {
    "duration": 10,
    "start_time": "2024-10-31T09:57:17.940Z"
   },
   {
    "duration": 236,
    "start_time": "2024-10-31T09:58:51.300Z"
   },
   {
    "duration": 227,
    "start_time": "2024-10-31T09:58:54.415Z"
   },
   {
    "duration": 242,
    "start_time": "2024-10-31T09:58:54.926Z"
   },
   {
    "duration": 358,
    "start_time": "2024-10-31T09:58:56.742Z"
   },
   {
    "duration": 446,
    "start_time": "2024-10-31T09:58:57.159Z"
   },
   {
    "duration": 18,
    "start_time": "2024-10-31T09:59:03.054Z"
   },
   {
    "duration": 231,
    "start_time": "2024-10-31T09:59:06.383Z"
   },
   {
    "duration": 2,
    "start_time": "2024-10-31T10:04:22.372Z"
   },
   {
    "duration": 3,
    "start_time": "2024-10-31T10:04:35.212Z"
   },
   {
    "duration": 5,
    "start_time": "2024-10-31T10:08:43.720Z"
   },
   {
    "duration": 3,
    "start_time": "2024-10-31T10:09:37.738Z"
   },
   {
    "duration": 3,
    "start_time": "2024-10-31T10:09:49.586Z"
   },
   {
    "duration": 4,
    "start_time": "2024-10-31T10:09:56.930Z"
   },
   {
    "duration": 5,
    "start_time": "2024-10-31T10:11:09.975Z"
   },
   {
    "duration": 6,
    "start_time": "2024-10-31T10:11:17.003Z"
   },
   {
    "duration": 4,
    "start_time": "2024-10-31T10:11:34.583Z"
   },
   {
    "duration": 599,
    "start_time": "2024-10-31T10:11:34.844Z"
   },
   {
    "duration": 579,
    "start_time": "2024-10-31T10:11:35.444Z"
   },
   {
    "duration": 209,
    "start_time": "2024-10-31T10:11:36.025Z"
   },
   {
    "duration": 3,
    "start_time": "2024-10-31T10:11:36.236Z"
   },
   {
    "duration": 9,
    "start_time": "2024-10-31T10:11:36.241Z"
   },
   {
    "duration": 5,
    "start_time": "2024-10-31T10:11:36.445Z"
   },
   {
    "duration": 13,
    "start_time": "2024-10-31T10:11:37.036Z"
   },
   {
    "duration": 21,
    "start_time": "2024-10-31T10:11:37.659Z"
   },
   {
    "duration": 13,
    "start_time": "2024-10-31T10:11:37.867Z"
   },
   {
    "duration": 11,
    "start_time": "2024-10-31T10:11:38.093Z"
   },
   {
    "duration": 244,
    "start_time": "2024-10-31T10:11:39.433Z"
   },
   {
    "duration": 244,
    "start_time": "2024-10-31T10:11:39.679Z"
   },
   {
    "duration": 241,
    "start_time": "2024-10-31T10:11:39.925Z"
   },
   {
    "duration": 396,
    "start_time": "2024-10-31T10:11:40.658Z"
   },
   {
    "duration": 437,
    "start_time": "2024-10-31T10:11:41.067Z"
   },
   {
    "duration": 17,
    "start_time": "2024-10-31T10:11:41.900Z"
   },
   {
    "duration": 228,
    "start_time": "2024-10-31T10:11:42.107Z"
   },
   {
    "duration": 15,
    "start_time": "2024-10-31T10:11:43.571Z"
   },
   {
    "duration": 15,
    "start_time": "2024-10-31T10:11:43.762Z"
   },
   {
    "duration": 4,
    "start_time": "2024-10-31T10:11:45.076Z"
   },
   {
    "duration": 4,
    "start_time": "2024-10-31T10:11:45.411Z"
   },
   {
    "duration": 3,
    "start_time": "2024-10-31T10:11:45.643Z"
   },
   {
    "duration": 7,
    "start_time": "2024-10-31T10:11:46.309Z"
   },
   {
    "duration": 4,
    "start_time": "2024-10-31T10:15:20.575Z"
   },
   {
    "duration": 7,
    "start_time": "2024-10-31T10:18:55.883Z"
   },
   {
    "duration": 4,
    "start_time": "2024-10-31T10:26:33.100Z"
   },
   {
    "duration": 4,
    "start_time": "2024-10-31T10:26:36.818Z"
   },
   {
    "duration": 3,
    "start_time": "2024-10-31T10:26:46.411Z"
   },
   {
    "duration": 665,
    "start_time": "2024-10-31T10:26:46.786Z"
   },
   {
    "duration": 547,
    "start_time": "2024-10-31T10:26:47.453Z"
   },
   {
    "duration": 215,
    "start_time": "2024-10-31T10:26:48.002Z"
   },
   {
    "duration": 4,
    "start_time": "2024-10-31T10:26:48.219Z"
   },
   {
    "duration": 15,
    "start_time": "2024-10-31T10:26:48.224Z"
   },
   {
    "duration": 5,
    "start_time": "2024-10-31T10:26:49.397Z"
   },
   {
    "duration": 11,
    "start_time": "2024-10-31T10:26:49.916Z"
   },
   {
    "duration": 21,
    "start_time": "2024-10-31T10:26:50.443Z"
   },
   {
    "duration": 13,
    "start_time": "2024-10-31T10:26:50.617Z"
   },
   {
    "duration": 14,
    "start_time": "2024-10-31T10:26:50.811Z"
   },
   {
    "duration": 259,
    "start_time": "2024-10-31T10:26:51.890Z"
   },
   {
    "duration": 239,
    "start_time": "2024-10-31T10:26:52.151Z"
   },
   {
    "duration": 239,
    "start_time": "2024-10-31T10:26:52.392Z"
   },
   {
    "duration": 421,
    "start_time": "2024-10-31T10:26:52.986Z"
   },
   {
    "duration": 484,
    "start_time": "2024-10-31T10:26:53.412Z"
   },
   {
    "duration": 18,
    "start_time": "2024-10-31T10:26:54.091Z"
   },
   {
    "duration": 217,
    "start_time": "2024-10-31T10:26:54.289Z"
   },
   {
    "duration": 11,
    "start_time": "2024-10-31T10:26:54.877Z"
   },
   {
    "duration": 11,
    "start_time": "2024-10-31T10:26:55.132Z"
   },
   {
    "duration": 4,
    "start_time": "2024-10-31T10:26:56.065Z"
   },
   {
    "duration": 3,
    "start_time": "2024-10-31T10:26:56.235Z"
   },
   {
    "duration": 2,
    "start_time": "2024-10-31T10:26:56.419Z"
   },
   {
    "duration": 7,
    "start_time": "2024-10-31T10:26:56.978Z"
   },
   {
    "duration": 7,
    "start_time": "2024-10-31T10:26:59.659Z"
   },
   {
    "duration": 9,
    "start_time": "2024-10-31T10:28:32.055Z"
   },
   {
    "duration": 3532,
    "start_time": "2024-10-31T10:32:46.289Z"
   },
   {
    "duration": 101,
    "start_time": "2024-10-31T10:39:58.539Z"
   },
   {
    "duration": 180,
    "start_time": "2024-10-31T10:40:15.689Z"
   },
   {
    "duration": 160,
    "start_time": "2024-10-31T10:41:21.133Z"
   },
   {
    "duration": 158,
    "start_time": "2024-10-31T10:43:09.372Z"
   },
   {
    "duration": 4,
    "start_time": "2024-10-31T10:43:46.581Z"
   },
   {
    "duration": 8,
    "start_time": "2024-10-31T10:43:58.836Z"
   },
   {
    "duration": 160,
    "start_time": "2024-10-31T10:44:18.084Z"
   },
   {
    "duration": 117,
    "start_time": "2024-10-31T10:50:45.796Z"
   },
   {
    "duration": 159,
    "start_time": "2024-10-31T10:52:16.699Z"
   },
   {
    "duration": 2,
    "start_time": "2024-10-31T10:54:02.341Z"
   },
   {
    "duration": 3,
    "start_time": "2024-10-31T10:54:03.834Z"
   },
   {
    "duration": 3,
    "start_time": "2024-10-31T10:54:07.277Z"
   },
   {
    "duration": 4,
    "start_time": "2024-10-31T10:54:08.463Z"
   },
   {
    "duration": 6,
    "start_time": "2024-10-31T10:54:09.091Z"
   },
   {
    "duration": 163,
    "start_time": "2024-10-31T10:54:09.775Z"
   },
   {
    "duration": 3,
    "start_time": "2024-10-31T10:56:31.840Z"
   },
   {
    "duration": 3,
    "start_time": "2024-10-31T10:56:32.645Z"
   },
   {
    "duration": 2,
    "start_time": "2024-10-31T10:56:33.182Z"
   },
   {
    "duration": 7,
    "start_time": "2024-10-31T10:56:49.674Z"
   },
   {
    "duration": 5,
    "start_time": "2024-10-31T10:57:28.954Z"
   },
   {
    "duration": 3,
    "start_time": "2024-10-31T10:57:47.730Z"
   },
   {
    "duration": 3440,
    "start_time": "2024-10-31T10:58:00.107Z"
   },
   {
    "duration": 2890,
    "start_time": "2024-10-31T10:59:55.462Z"
   },
   {
    "duration": 3197,
    "start_time": "2024-10-31T11:01:22.615Z"
   },
   {
    "duration": 894,
    "start_time": "2024-10-31T11:04:32.593Z"
   },
   {
    "duration": 3,
    "start_time": "2024-10-31T11:10:18.616Z"
   },
   {
    "duration": 1290,
    "start_time": "2024-10-31T11:13:46.931Z"
   },
   {
    "duration": 1246,
    "start_time": "2024-10-31T11:15:56.567Z"
   },
   {
    "duration": 167,
    "start_time": "2024-10-31T11:20:02.258Z"
   },
   {
    "duration": 4,
    "start_time": "2024-10-31T11:24:07.967Z"
   },
   {
    "duration": 3,
    "start_time": "2024-10-31T11:26:32.672Z"
   },
   {
    "duration": 3,
    "start_time": "2024-10-31T11:26:36.127Z"
   },
   {
    "duration": 2,
    "start_time": "2024-10-31T11:26:36.511Z"
   },
   {
    "duration": 3,
    "start_time": "2024-10-31T11:26:36.917Z"
   },
   {
    "duration": 5,
    "start_time": "2024-10-31T11:26:38.136Z"
   },
   {
    "duration": 9,
    "start_time": "2024-10-31T11:26:39.335Z"
   },
   {
    "duration": 3,
    "start_time": "2024-10-31T11:26:40.607Z"
   },
   {
    "duration": 1049,
    "start_time": "2024-10-31T11:26:41.064Z"
   },
   {
    "duration": 1198,
    "start_time": "2024-10-31T11:26:42.115Z"
   },
   {
    "duration": 3,
    "start_time": "2024-10-31T11:27:10.425Z"
   },
   {
    "duration": 3,
    "start_time": "2024-10-31T11:27:10.640Z"
   },
   {
    "duration": 3,
    "start_time": "2024-10-31T11:27:10.848Z"
   },
   {
    "duration": 5,
    "start_time": "2024-10-31T11:27:11.784Z"
   },
   {
    "duration": 7,
    "start_time": "2024-10-31T11:27:13.416Z"
   },
   {
    "duration": 2,
    "start_time": "2024-10-31T11:27:15.272Z"
   },
   {
    "duration": 1221,
    "start_time": "2024-10-31T11:27:15.696Z"
   },
   {
    "duration": 1293,
    "start_time": "2024-10-31T11:27:16.920Z"
   },
   {
    "duration": 68,
    "start_time": "2024-10-31T11:27:58.665Z"
   },
   {
    "duration": 1274,
    "start_time": "2024-10-31T11:29:17.939Z"
   },
   {
    "duration": 1224,
    "start_time": "2024-10-31T11:30:32.188Z"
   },
   {
    "duration": 1233,
    "start_time": "2024-10-31T11:34:11.582Z"
   },
   {
    "duration": 1126,
    "start_time": "2024-10-31T11:36:03.089Z"
   },
   {
    "duration": 8,
    "start_time": "2024-10-31T11:39:59.140Z"
   },
   {
    "duration": 7,
    "start_time": "2024-10-31T11:40:41.925Z"
   },
   {
    "duration": 3,
    "start_time": "2024-10-31T11:41:55.095Z"
   },
   {
    "duration": 3,
    "start_time": "2024-10-31T11:41:56.934Z"
   },
   {
    "duration": 7,
    "start_time": "2024-10-31T11:42:31.966Z"
   },
   {
    "duration": 3,
    "start_time": "2024-10-31T11:47:05.138Z"
   },
   {
    "duration": 3,
    "start_time": "2024-10-31T11:50:06.607Z"
   },
   {
    "duration": 3,
    "start_time": "2024-10-31T11:50:15.455Z"
   },
   {
    "duration": 635,
    "start_time": "2024-10-31T11:50:15.639Z"
   },
   {
    "duration": 553,
    "start_time": "2024-10-31T11:50:16.276Z"
   },
   {
    "duration": 221,
    "start_time": "2024-10-31T11:50:16.830Z"
   },
   {
    "duration": 5,
    "start_time": "2024-10-31T11:50:17.053Z"
   },
   {
    "duration": 7,
    "start_time": "2024-10-31T11:50:17.059Z"
   },
   {
    "duration": 6,
    "start_time": "2024-10-31T11:50:17.099Z"
   },
   {
    "duration": 12,
    "start_time": "2024-10-31T11:50:17.647Z"
   },
   {
    "duration": 21,
    "start_time": "2024-10-31T11:50:18.215Z"
   },
   {
    "duration": 12,
    "start_time": "2024-10-31T11:50:18.377Z"
   },
   {
    "duration": 11,
    "start_time": "2024-10-31T11:50:18.571Z"
   },
   {
    "duration": 256,
    "start_time": "2024-10-31T11:50:19.711Z"
   },
   {
    "duration": 245,
    "start_time": "2024-10-31T11:50:19.968Z"
   },
   {
    "duration": 236,
    "start_time": "2024-10-31T11:50:20.215Z"
   },
   {
    "duration": 549,
    "start_time": "2024-10-31T11:50:21.039Z"
   },
   {
    "duration": 408,
    "start_time": "2024-10-31T11:50:21.590Z"
   },
   {
    "duration": 20,
    "start_time": "2024-10-31T11:50:22.398Z"
   },
   {
    "duration": 276,
    "start_time": "2024-10-31T11:50:22.420Z"
   },
   {
    "duration": 10,
    "start_time": "2024-10-31T11:50:23.030Z"
   },
   {
    "duration": 12,
    "start_time": "2024-10-31T11:50:23.239Z"
   },
   {
    "duration": 3,
    "start_time": "2024-10-31T11:50:24.053Z"
   },
   {
    "duration": 3,
    "start_time": "2024-10-31T11:50:24.261Z"
   },
   {
    "duration": 2,
    "start_time": "2024-10-31T11:50:24.471Z"
   },
   {
    "duration": 2,
    "start_time": "2024-10-31T11:50:24.690Z"
   },
   {
    "duration": 3,
    "start_time": "2024-10-31T11:50:24.882Z"
   },
   {
    "duration": 6,
    "start_time": "2024-10-31T11:50:26.750Z"
   },
   {
    "duration": 7,
    "start_time": "2024-10-31T11:50:28.741Z"
   },
   {
    "duration": 2,
    "start_time": "2024-10-31T11:50:30.121Z"
   },
   {
    "duration": 283,
    "start_time": "2024-10-31T11:50:30.335Z"
   },
   {
    "duration": 0,
    "start_time": "2024-10-31T11:50:30.620Z"
   },
   {
    "duration": 7,
    "start_time": "2024-10-31T11:50:30.807Z"
   },
   {
    "duration": 70,
    "start_time": "2024-10-31T11:51:28.144Z"
   },
   {
    "duration": 18,
    "start_time": "2024-10-31T11:51:51.777Z"
   },
   {
    "duration": 212,
    "start_time": "2024-10-31T11:52:33.201Z"
   },
   {
    "duration": 3,
    "start_time": "2024-10-31T11:53:47.359Z"
   },
   {
    "duration": 3,
    "start_time": "2024-10-31T11:53:47.779Z"
   },
   {
    "duration": 5,
    "start_time": "2024-10-31T11:53:48.353Z"
   },
   {
    "duration": 6,
    "start_time": "2024-10-31T11:53:48.929Z"
   },
   {
    "duration": 3,
    "start_time": "2024-10-31T11:53:49.713Z"
   },
   {
    "duration": 118,
    "start_time": "2024-10-31T11:53:49.908Z"
   },
   {
    "duration": 13,
    "start_time": "2024-10-31T11:53:50.115Z"
   },
   {
    "duration": 7,
    "start_time": "2024-10-31T11:53:50.309Z"
   },
   {
    "duration": 4,
    "start_time": "2024-10-31T11:54:19.410Z"
   },
   {
    "duration": 590,
    "start_time": "2024-10-31T11:54:19.594Z"
   },
   {
    "duration": 558,
    "start_time": "2024-10-31T11:54:20.186Z"
   },
   {
    "duration": 217,
    "start_time": "2024-10-31T11:54:20.746Z"
   },
   {
    "duration": 5,
    "start_time": "2024-10-31T11:54:20.965Z"
   },
   {
    "duration": 6,
    "start_time": "2024-10-31T11:54:20.971Z"
   },
   {
    "duration": 6,
    "start_time": "2024-10-31T11:54:21.082Z"
   },
   {
    "duration": 11,
    "start_time": "2024-10-31T11:54:21.677Z"
   },
   {
    "duration": 21,
    "start_time": "2024-10-31T11:54:22.217Z"
   },
   {
    "duration": 13,
    "start_time": "2024-10-31T11:54:22.401Z"
   },
   {
    "duration": 13,
    "start_time": "2024-10-31T11:54:22.594Z"
   },
   {
    "duration": 289,
    "start_time": "2024-10-31T11:54:23.699Z"
   },
   {
    "duration": 259,
    "start_time": "2024-10-31T11:54:23.990Z"
   },
   {
    "duration": 247,
    "start_time": "2024-10-31T11:54:24.251Z"
   },
   {
    "duration": 523,
    "start_time": "2024-10-31T11:54:24.850Z"
   },
   {
    "duration": 517,
    "start_time": "2024-10-31T11:54:25.375Z"
   },
   {
    "duration": 29,
    "start_time": "2024-10-31T11:54:25.970Z"
   },
   {
    "duration": 228,
    "start_time": "2024-10-31T11:54:26.185Z"
   },
   {
    "duration": 15,
    "start_time": "2024-10-31T11:54:26.733Z"
   },
   {
    "duration": 11,
    "start_time": "2024-10-31T11:54:26.923Z"
   },
   {
    "duration": 2,
    "start_time": "2024-10-31T11:54:27.712Z"
   },
   {
    "duration": 2,
    "start_time": "2024-10-31T11:54:27.898Z"
   },
   {
    "duration": 3,
    "start_time": "2024-10-31T11:54:28.122Z"
   },
   {
    "duration": 3,
    "start_time": "2024-10-31T11:54:28.666Z"
   },
   {
    "duration": 2,
    "start_time": "2024-10-31T11:54:29.066Z"
   },
   {
    "duration": 5,
    "start_time": "2024-10-31T11:54:29.690Z"
   },
   {
    "duration": 7,
    "start_time": "2024-10-31T11:54:30.338Z"
   },
   {
    "duration": 3,
    "start_time": "2024-10-31T11:54:31.172Z"
   },
   {
    "duration": 1637,
    "start_time": "2024-10-31T11:54:31.378Z"
   },
   {
    "duration": 1304,
    "start_time": "2024-10-31T11:54:33.017Z"
   },
   {
    "duration": 415,
    "start_time": "2024-10-31T11:58:33.806Z"
   },
   {
    "duration": 362,
    "start_time": "2024-10-31T11:58:48.559Z"
   },
   {
    "duration": 436,
    "start_time": "2024-10-31T12:09:29.377Z"
   },
   {
    "duration": 1483,
    "start_time": "2024-10-31T12:09:34.042Z"
   },
   {
    "duration": 1173,
    "start_time": "2024-10-31T12:10:03.139Z"
   },
   {
    "duration": 3,
    "start_time": "2024-10-31T12:11:41.683Z"
   },
   {
    "duration": 4,
    "start_time": "2024-10-31T12:11:58.786Z"
   },
   {
    "duration": 7,
    "start_time": "2024-10-31T12:13:09.845Z"
   },
   {
    "duration": 15,
    "start_time": "2024-10-31T12:13:36.006Z"
   },
   {
    "duration": 8,
    "start_time": "2024-10-31T12:13:57.293Z"
   },
   {
    "duration": 2,
    "start_time": "2024-10-31T12:17:05.767Z"
   },
   {
    "duration": 3,
    "start_time": "2024-10-31T12:19:40.253Z"
   },
   {
    "duration": 4,
    "start_time": "2024-10-31T12:21:18.870Z"
   },
   {
    "duration": 5,
    "start_time": "2024-10-31T12:21:32.167Z"
   },
   {
    "duration": 3,
    "start_time": "2024-10-31T12:21:58.293Z"
   },
   {
    "duration": 1313,
    "start_time": "2024-10-31T12:22:01.006Z"
   },
   {
    "duration": 93,
    "start_time": "2024-10-31T12:22:02.322Z"
   },
   {
    "duration": 1344,
    "start_time": "2024-10-31T12:22:30.343Z"
   },
   {
    "duration": 633,
    "start_time": "2024-10-31T12:22:31.689Z"
   },
   {
    "duration": 609,
    "start_time": "2024-10-31T12:22:32.324Z"
   },
   {
    "duration": 222,
    "start_time": "2024-10-31T12:22:32.936Z"
   },
   {
    "duration": 4,
    "start_time": "2024-10-31T12:22:33.160Z"
   },
   {
    "duration": 19,
    "start_time": "2024-10-31T12:22:33.165Z"
   },
   {
    "duration": 22,
    "start_time": "2024-10-31T12:22:33.185Z"
   },
   {
    "duration": 39,
    "start_time": "2024-10-31T12:22:33.209Z"
   },
   {
    "duration": 36,
    "start_time": "2024-10-31T12:22:33.251Z"
   },
   {
    "duration": 12,
    "start_time": "2024-10-31T12:22:33.863Z"
   },
   {
    "duration": 13,
    "start_time": "2024-10-31T12:22:34.031Z"
   },
   {
    "duration": 296,
    "start_time": "2024-10-31T12:22:35.110Z"
   },
   {
    "duration": 301,
    "start_time": "2024-10-31T12:22:35.408Z"
   },
   {
    "duration": 260,
    "start_time": "2024-10-31T12:22:35.711Z"
   },
   {
    "duration": 396,
    "start_time": "2024-10-31T12:22:36.199Z"
   },
   {
    "duration": 519,
    "start_time": "2024-10-31T12:22:36.598Z"
   },
   {
    "duration": 19,
    "start_time": "2024-10-31T12:22:37.366Z"
   },
   {
    "duration": 209,
    "start_time": "2024-10-31T12:22:37.550Z"
   },
   {
    "duration": 16,
    "start_time": "2024-10-31T12:22:38.120Z"
   },
   {
    "duration": 12,
    "start_time": "2024-10-31T12:22:38.310Z"
   },
   {
    "duration": 2,
    "start_time": "2024-10-31T12:22:39.335Z"
   },
   {
    "duration": 2,
    "start_time": "2024-10-31T12:22:39.528Z"
   },
   {
    "duration": 3,
    "start_time": "2024-10-31T12:22:39.718Z"
   },
   {
    "duration": 4,
    "start_time": "2024-10-31T12:22:40.263Z"
   },
   {
    "duration": 3,
    "start_time": "2024-10-31T12:22:40.446Z"
   },
   {
    "duration": 6,
    "start_time": "2024-10-31T12:22:41.135Z"
   },
   {
    "duration": 7,
    "start_time": "2024-10-31T12:22:41.839Z"
   },
   {
    "duration": 3,
    "start_time": "2024-10-31T12:22:43.184Z"
   },
   {
    "duration": 1712,
    "start_time": "2024-10-31T12:22:47.700Z"
   },
   {
    "duration": 1702,
    "start_time": "2024-10-31T12:22:49.414Z"
   },
   {
    "duration": 5,
    "start_time": "2024-10-31T12:22:51.118Z"
   },
   {
    "duration": 4,
    "start_time": "2024-10-31T12:23:20.757Z"
   },
   {
    "duration": 1574,
    "start_time": "2024-10-31T12:23:51.241Z"
   },
   {
    "duration": 1294,
    "start_time": "2024-10-31T12:23:53.521Z"
   },
   {
    "duration": 3,
    "start_time": "2024-10-31T12:23:55.518Z"
   },
   {
    "duration": 3,
    "start_time": "2024-10-31T12:24:37.618Z"
   },
   {
    "duration": 122,
    "start_time": "2024-10-31T12:37:19.704Z"
   },
   {
    "duration": 51,
    "start_time": "2024-10-31T12:39:17.441Z"
   },
   {
    "duration": 1305,
    "start_time": "2024-10-31T12:39:22.208Z"
   },
   {
    "duration": 643,
    "start_time": "2024-10-31T12:39:23.515Z"
   },
   {
    "duration": 554,
    "start_time": "2024-10-31T12:39:24.160Z"
   },
   {
    "duration": 220,
    "start_time": "2024-10-31T12:39:24.715Z"
   },
   {
    "duration": 3,
    "start_time": "2024-10-31T12:39:24.937Z"
   },
   {
    "duration": 6,
    "start_time": "2024-10-31T12:39:24.941Z"
   },
   {
    "duration": 10,
    "start_time": "2024-10-31T12:39:24.948Z"
   },
   {
    "duration": 12,
    "start_time": "2024-10-31T12:39:24.960Z"
   },
   {
    "duration": 25,
    "start_time": "2024-10-31T12:39:26.889Z"
   },
   {
    "duration": 11,
    "start_time": "2024-10-31T12:39:27.417Z"
   },
   {
    "duration": 12,
    "start_time": "2024-10-31T12:39:27.987Z"
   },
   {
    "duration": 272,
    "start_time": "2024-10-31T12:39:29.152Z"
   },
   {
    "duration": 281,
    "start_time": "2024-10-31T12:39:29.426Z"
   },
   {
    "duration": 234,
    "start_time": "2024-10-31T12:39:29.711Z"
   },
   {
    "duration": 415,
    "start_time": "2024-10-31T12:39:30.272Z"
   },
   {
    "duration": 411,
    "start_time": "2024-10-31T12:39:30.689Z"
   },
   {
    "duration": 18,
    "start_time": "2024-10-31T12:39:31.428Z"
   },
   {
    "duration": 228,
    "start_time": "2024-10-31T12:39:31.626Z"
   },
   {
    "duration": 14,
    "start_time": "2024-10-31T12:39:32.257Z"
   },
   {
    "duration": 11,
    "start_time": "2024-10-31T12:39:32.456Z"
   },
   {
    "duration": 2,
    "start_time": "2024-10-31T12:39:33.231Z"
   },
   {
    "duration": 2,
    "start_time": "2024-10-31T12:39:33.423Z"
   },
   {
    "duration": 3,
    "start_time": "2024-10-31T12:39:33.656Z"
   },
   {
    "duration": 3,
    "start_time": "2024-10-31T12:39:34.161Z"
   },
   {
    "duration": 2,
    "start_time": "2024-10-31T12:39:34.593Z"
   },
   {
    "duration": 6,
    "start_time": "2024-10-31T12:39:35.983Z"
   },
   {
    "duration": 7,
    "start_time": "2024-10-31T12:39:36.664Z"
   },
   {
    "duration": 44788,
    "start_time": "2024-10-31T12:39:37.664Z"
   },
   {
    "duration": 77,
    "start_time": "2024-10-31T12:40:22.454Z"
   },
   {
    "duration": 0,
    "start_time": "2024-10-31T12:40:22.533Z"
   },
   {
    "duration": 0,
    "start_time": "2024-10-31T12:40:22.534Z"
   },
   {
    "duration": 0,
    "start_time": "2024-10-31T12:40:22.534Z"
   },
   {
    "duration": 0,
    "start_time": "2024-10-31T12:40:22.535Z"
   },
   {
    "duration": 44068,
    "start_time": "2024-10-31T12:44:00.861Z"
   },
   {
    "duration": 46683,
    "start_time": "2024-10-31T12:45:24.295Z"
   },
   {
    "duration": 2,
    "start_time": "2024-10-31T12:46:28.368Z"
   },
   {
    "duration": 1120,
    "start_time": "2024-10-31T12:46:28.800Z"
   },
   {
    "duration": 1305,
    "start_time": "2024-10-31T12:46:30.013Z"
   },
   {
    "duration": 3,
    "start_time": "2024-10-31T12:46:33.170Z"
   },
   {
    "duration": 43799,
    "start_time": "2024-10-31T12:48:30.138Z"
   },
   {
    "duration": 10,
    "start_time": "2024-10-31T12:50:01.133Z"
   },
   {
    "duration": 0,
    "start_time": "2024-10-31T12:50:01.144Z"
   },
   {
    "duration": 2,
    "start_time": "2024-10-31T12:50:40.581Z"
   },
   {
    "duration": 46490,
    "start_time": "2024-10-31T12:50:43.501Z"
   },
   {
    "duration": 3,
    "start_time": "2024-10-31T12:51:35.030Z"
   },
   {
    "duration": 71,
    "start_time": "2024-10-31T12:52:45.846Z"
   },
   {
    "duration": 3,
    "start_time": "2024-10-31T12:53:55.984Z"
   },
   {
    "duration": 46380,
    "start_time": "2024-10-31T12:55:06.647Z"
   },
   {
    "duration": 3,
    "start_time": "2024-10-31T12:55:53.029Z"
   },
   {
    "duration": 8,
    "start_time": "2024-10-31T12:55:53.033Z"
   },
   {
    "duration": 1177,
    "start_time": "2024-10-31T12:55:53.042Z"
   },
   {
    "duration": 1195,
    "start_time": "2024-10-31T12:55:54.220Z"
   },
   {
    "duration": 5,
    "start_time": "2024-10-31T12:55:55.416Z"
   },
   {
    "duration": 73,
    "start_time": "2024-10-31T13:06:38.359Z"
   },
   {
    "duration": 90,
    "start_time": "2024-10-31T13:06:56.230Z"
   },
   {
    "duration": 1283,
    "start_time": "2024-10-31T13:10:24.232Z"
   },
   {
    "duration": 636,
    "start_time": "2024-10-31T13:10:25.517Z"
   },
   {
    "duration": 619,
    "start_time": "2024-10-31T13:10:26.154Z"
   },
   {
    "duration": 274,
    "start_time": "2024-10-31T13:10:26.775Z"
   },
   {
    "duration": 4,
    "start_time": "2024-10-31T13:10:27.050Z"
   },
   {
    "duration": 10,
    "start_time": "2024-10-31T13:10:27.056Z"
   },
   {
    "duration": 8,
    "start_time": "2024-10-31T13:10:27.067Z"
   },
   {
    "duration": 24,
    "start_time": "2024-10-31T13:10:27.076Z"
   },
   {
    "duration": 31,
    "start_time": "2024-10-31T13:10:27.101Z"
   },
   {
    "duration": 12,
    "start_time": "2024-10-31T13:10:27.704Z"
   },
   {
    "duration": 13,
    "start_time": "2024-10-31T13:10:27.871Z"
   },
   {
    "duration": 268,
    "start_time": "2024-10-31T13:10:28.904Z"
   },
   {
    "duration": 275,
    "start_time": "2024-10-31T13:10:29.173Z"
   },
   {
    "duration": 238,
    "start_time": "2024-10-31T13:10:29.450Z"
   },
   {
    "duration": 397,
    "start_time": "2024-10-31T13:10:30.001Z"
   },
   {
    "duration": 386,
    "start_time": "2024-10-31T13:10:30.400Z"
   },
   {
    "duration": 17,
    "start_time": "2024-10-31T13:10:31.182Z"
   },
   {
    "duration": 215,
    "start_time": "2024-10-31T13:10:31.385Z"
   },
   {
    "duration": 14,
    "start_time": "2024-10-31T13:10:31.931Z"
   },
   {
    "duration": 11,
    "start_time": "2024-10-31T13:10:32.112Z"
   },
   {
    "duration": 3,
    "start_time": "2024-10-31T13:10:32.906Z"
   },
   {
    "duration": 4,
    "start_time": "2024-10-31T13:10:33.098Z"
   },
   {
    "duration": 3,
    "start_time": "2024-10-31T13:10:33.295Z"
   },
   {
    "duration": 6,
    "start_time": "2024-10-31T13:10:33.904Z"
   },
   {
    "duration": 7,
    "start_time": "2024-10-31T13:10:34.519Z"
   },
   {
    "duration": 44335,
    "start_time": "2024-10-31T13:10:35.158Z"
   },
   {
    "duration": 48189,
    "start_time": "2024-10-31T13:11:19.495Z"
   },
   {
    "duration": 3,
    "start_time": "2024-10-31T13:12:07.686Z"
   },
   {
    "duration": 1244,
    "start_time": "2024-10-31T13:21:29.466Z"
   },
   {
    "duration": 643,
    "start_time": "2024-10-31T13:21:30.711Z"
   },
   {
    "duration": 586,
    "start_time": "2024-10-31T13:21:31.355Z"
   },
   {
    "duration": 220,
    "start_time": "2024-10-31T13:21:31.943Z"
   },
   {
    "duration": 4,
    "start_time": "2024-10-31T13:21:32.165Z"
   },
   {
    "duration": 10,
    "start_time": "2024-10-31T13:21:32.170Z"
   },
   {
    "duration": 9,
    "start_time": "2024-10-31T13:21:32.181Z"
   },
   {
    "duration": 23,
    "start_time": "2024-10-31T13:21:32.191Z"
   },
   {
    "duration": 24,
    "start_time": "2024-10-31T13:21:33.208Z"
   },
   {
    "duration": 12,
    "start_time": "2024-10-31T13:21:33.395Z"
   },
   {
    "duration": 12,
    "start_time": "2024-10-31T13:21:33.600Z"
   },
   {
    "duration": 257,
    "start_time": "2024-10-31T13:21:34.994Z"
   },
   {
    "duration": 280,
    "start_time": "2024-10-31T13:21:35.253Z"
   },
   {
    "duration": 261,
    "start_time": "2024-10-31T13:21:35.535Z"
   },
   {
    "duration": 372,
    "start_time": "2024-10-31T13:21:36.123Z"
   },
   {
    "duration": 346,
    "start_time": "2024-10-31T13:21:36.548Z"
   },
   {
    "duration": 16,
    "start_time": "2024-10-31T13:21:37.996Z"
   },
   {
    "duration": 225,
    "start_time": "2024-10-31T13:21:38.187Z"
   },
   {
    "duration": 14,
    "start_time": "2024-10-31T13:21:38.804Z"
   },
   {
    "duration": 11,
    "start_time": "2024-10-31T13:21:39.380Z"
   },
   {
    "duration": 3,
    "start_time": "2024-10-31T13:21:41.018Z"
   },
   {
    "duration": 3,
    "start_time": "2024-10-31T13:21:41.437Z"
   },
   {
    "duration": 3,
    "start_time": "2024-10-31T13:21:42.172Z"
   },
   {
    "duration": 6,
    "start_time": "2024-10-31T13:21:47.645Z"
   },
   {
    "duration": 8,
    "start_time": "2024-10-31T13:21:53.860Z"
   },
   {
    "duration": 1304,
    "start_time": "2024-10-31T13:24:21.304Z"
   },
   {
    "duration": 676,
    "start_time": "2024-10-31T13:24:22.609Z"
   },
   {
    "duration": 578,
    "start_time": "2024-10-31T13:24:23.286Z"
   },
   {
    "duration": 238,
    "start_time": "2024-10-31T13:24:23.866Z"
   },
   {
    "duration": 7,
    "start_time": "2024-10-31T13:24:24.106Z"
   },
   {
    "duration": 5,
    "start_time": "2024-10-31T13:24:24.114Z"
   },
   {
    "duration": 8,
    "start_time": "2024-10-31T13:24:24.120Z"
   },
   {
    "duration": 11,
    "start_time": "2024-10-31T13:24:26.567Z"
   },
   {
    "duration": 25,
    "start_time": "2024-10-31T13:24:27.127Z"
   },
   {
    "duration": 13,
    "start_time": "2024-10-31T13:24:27.309Z"
   },
   {
    "duration": 12,
    "start_time": "2024-10-31T13:24:27.485Z"
   },
   {
    "duration": 248,
    "start_time": "2024-10-31T13:24:28.620Z"
   },
   {
    "duration": 286,
    "start_time": "2024-10-31T13:24:28.869Z"
   },
   {
    "duration": 249,
    "start_time": "2024-10-31T13:24:29.157Z"
   },
   {
    "duration": 381,
    "start_time": "2024-10-31T13:24:29.713Z"
   },
   {
    "duration": 410,
    "start_time": "2024-10-31T13:24:30.095Z"
   },
   {
    "duration": 17,
    "start_time": "2024-10-31T13:24:30.874Z"
   },
   {
    "duration": 230,
    "start_time": "2024-10-31T13:24:31.063Z"
   },
   {
    "duration": 15,
    "start_time": "2024-10-31T13:24:31.655Z"
   },
   {
    "duration": 11,
    "start_time": "2024-10-31T13:24:31.855Z"
   },
   {
    "duration": 3,
    "start_time": "2024-10-31T13:24:34.450Z"
   },
   {
    "duration": 3,
    "start_time": "2024-10-31T13:24:34.614Z"
   },
   {
    "duration": 2,
    "start_time": "2024-10-31T13:24:34.806Z"
   },
   {
    "duration": 5,
    "start_time": "2024-10-31T13:24:36.958Z"
   },
   {
    "duration": 6,
    "start_time": "2024-10-31T13:24:38.966Z"
   },
   {
    "duration": 44037,
    "start_time": "2024-10-31T13:24:42.022Z"
   },
   {
    "duration": 48078,
    "start_time": "2024-10-31T13:25:26.061Z"
   },
   {
    "duration": 3,
    "start_time": "2024-10-31T13:26:14.141Z"
   },
   {
    "duration": 38500,
    "start_time": "2024-10-31T13:26:38.805Z"
   },
   {
    "duration": 38078,
    "start_time": "2024-10-31T13:31:55.912Z"
   },
   {
    "duration": 3,
    "start_time": "2024-10-31T13:35:11.033Z"
   },
   {
    "duration": 8,
    "start_time": "2024-10-31T13:39:55.282Z"
   },
   {
    "duration": 115,
    "start_time": "2024-10-31T13:44:04.060Z"
   },
   {
    "duration": 12,
    "start_time": "2024-10-31T13:48:42.825Z"
   },
   {
    "duration": 4,
    "start_time": "2024-10-31T13:49:33.122Z"
   },
   {
    "duration": 7,
    "start_time": "2024-10-31T13:49:37.498Z"
   },
   {
    "duration": 7,
    "start_time": "2024-10-31T13:49:51.799Z"
   },
   {
    "duration": 7,
    "start_time": "2024-10-31T13:51:39.033Z"
   },
   {
    "duration": 8,
    "start_time": "2024-10-31T13:53:20.411Z"
   },
   {
    "duration": 8,
    "start_time": "2024-10-31T13:55:47.791Z"
   },
   {
    "duration": 1567,
    "start_time": "2024-10-31T18:04:15.098Z"
   },
   {
    "duration": 3569,
    "start_time": "2024-10-31T18:04:16.667Z"
   },
   {
    "duration": 756,
    "start_time": "2024-10-31T18:04:20.238Z"
   },
   {
    "duration": 242,
    "start_time": "2024-10-31T18:04:20.995Z"
   },
   {
    "duration": 4,
    "start_time": "2024-10-31T18:04:21.238Z"
   },
   {
    "duration": 6,
    "start_time": "2024-10-31T18:04:21.243Z"
   },
   {
    "duration": 6,
    "start_time": "2024-10-31T18:04:21.250Z"
   },
   {
    "duration": 35,
    "start_time": "2024-10-31T18:04:21.257Z"
   },
   {
    "duration": 29,
    "start_time": "2024-10-31T18:04:23.323Z"
   },
   {
    "duration": 15,
    "start_time": "2024-10-31T18:04:23.514Z"
   },
   {
    "duration": 15,
    "start_time": "2024-10-31T18:04:23.713Z"
   },
   {
    "duration": 318,
    "start_time": "2024-10-31T18:04:24.835Z"
   },
   {
    "duration": 374,
    "start_time": "2024-10-31T18:04:25.155Z"
   },
   {
    "duration": 293,
    "start_time": "2024-10-31T18:04:25.531Z"
   },
   {
    "duration": 439,
    "start_time": "2024-10-31T18:04:25.989Z"
   },
   {
    "duration": 463,
    "start_time": "2024-10-31T18:04:26.430Z"
   },
   {
    "duration": 33,
    "start_time": "2024-10-31T18:04:27.155Z"
   },
   {
    "duration": 274,
    "start_time": "2024-10-31T18:04:27.338Z"
   },
   {
    "duration": 15,
    "start_time": "2024-10-31T18:04:27.946Z"
   },
   {
    "duration": 13,
    "start_time": "2024-10-31T18:04:28.292Z"
   },
   {
    "duration": 3,
    "start_time": "2024-10-31T18:04:29.013Z"
   },
   {
    "duration": 5,
    "start_time": "2024-10-31T18:04:29.218Z"
   },
   {
    "duration": 3,
    "start_time": "2024-10-31T18:04:29.417Z"
   },
   {
    "duration": 6,
    "start_time": "2024-10-31T18:04:30.042Z"
   },
   {
    "duration": 8,
    "start_time": "2024-10-31T18:04:30.689Z"
   },
   {
    "duration": 43333,
    "start_time": "2024-10-31T18:04:31.354Z"
   },
   {
    "duration": 47309,
    "start_time": "2024-10-31T18:05:14.689Z"
   },
   {
    "duration": 4,
    "start_time": "2024-10-31T18:06:01.999Z"
   },
   {
    "duration": 36779,
    "start_time": "2024-10-31T18:06:02.004Z"
   },
   {
    "duration": 37645,
    "start_time": "2024-10-31T18:06:38.788Z"
   },
   {
    "duration": 4,
    "start_time": "2024-10-31T18:07:16.435Z"
   },
   {
    "duration": 61,
    "start_time": "2024-10-31T18:07:16.441Z"
   },
   {
    "duration": 2185,
    "start_time": "2024-10-31T18:07:16.504Z"
   },
   {
    "duration": 1494,
    "start_time": "2024-10-31T18:07:18.694Z"
   },
   {
    "duration": 3,
    "start_time": "2024-10-31T18:07:20.275Z"
   },
   {
    "duration": 18,
    "start_time": "2024-10-31T18:07:20.289Z"
   },
   {
    "duration": 4442,
    "start_time": "2024-10-31T18:08:39.852Z"
   },
   {
    "duration": 46,
    "start_time": "2024-10-31T18:23:12.652Z"
   },
   {
    "duration": 3,
    "start_time": "2024-10-31T18:23:24.250Z"
   },
   {
    "duration": 3,
    "start_time": "2024-10-31T18:25:18.028Z"
   },
   {
    "duration": 3928,
    "start_time": "2024-10-31T18:26:07.124Z"
   },
   {
    "duration": 3945,
    "start_time": "2024-10-31T18:27:05.350Z"
   },
   {
    "duration": 14,
    "start_time": "2024-10-31T18:31:47.969Z"
   },
   {
    "duration": 2,
    "start_time": "2024-10-31T18:35:15.222Z"
   },
   {
    "duration": 3925,
    "start_time": "2024-10-31T18:41:29.111Z"
   },
   {
    "duration": 8,
    "start_time": "2024-11-01T17:43:00.496Z"
   },
   {
    "duration": 3,
    "start_time": "2024-11-01T17:43:00.948Z"
   },
   {
    "duration": 3,
    "start_time": "2024-11-01T17:43:01.453Z"
   },
   {
    "duration": 42,
    "start_time": "2024-11-01T17:43:02.069Z"
   },
   {
    "duration": 1429,
    "start_time": "2024-11-01T17:43:09.525Z"
   },
   {
    "duration": 773,
    "start_time": "2024-11-01T17:43:10.956Z"
   },
   {
    "duration": 709,
    "start_time": "2024-11-01T17:43:11.730Z"
   },
   {
    "duration": 240,
    "start_time": "2024-11-01T17:43:12.441Z"
   },
   {
    "duration": 4,
    "start_time": "2024-11-01T17:43:12.683Z"
   },
   {
    "duration": 11,
    "start_time": "2024-11-01T17:43:12.700Z"
   },
   {
    "duration": 7,
    "start_time": "2024-11-01T17:43:12.713Z"
   },
   {
    "duration": 19,
    "start_time": "2024-11-01T17:43:12.721Z"
   },
   {
    "duration": 35,
    "start_time": "2024-11-01T17:43:12.742Z"
   },
   {
    "duration": 15,
    "start_time": "2024-11-01T17:43:13.237Z"
   },
   {
    "duration": 15,
    "start_time": "2024-11-01T17:43:13.405Z"
   },
   {
    "duration": 324,
    "start_time": "2024-11-01T17:43:15.701Z"
   },
   {
    "duration": 343,
    "start_time": "2024-11-01T17:43:16.027Z"
   },
   {
    "duration": 278,
    "start_time": "2024-11-01T17:43:16.372Z"
   },
   {
    "duration": 395,
    "start_time": "2024-11-01T17:43:16.750Z"
   },
   {
    "duration": 384,
    "start_time": "2024-11-01T17:43:17.245Z"
   },
   {
    "duration": 21,
    "start_time": "2024-11-01T17:43:17.989Z"
   },
   {
    "duration": 272,
    "start_time": "2024-11-01T17:43:18.173Z"
   },
   {
    "duration": 16,
    "start_time": "2024-11-01T17:43:18.725Z"
   },
   {
    "duration": 13,
    "start_time": "2024-11-01T17:43:18.965Z"
   },
   {
    "duration": 4,
    "start_time": "2024-11-01T17:43:20.109Z"
   },
   {
    "duration": 4,
    "start_time": "2024-11-01T17:43:20.749Z"
   },
   {
    "duration": 3,
    "start_time": "2024-11-01T17:43:21.774Z"
   },
   {
    "duration": 2,
    "start_time": "2024-11-01T17:43:22.246Z"
   },
   {
    "duration": 7,
    "start_time": "2024-11-01T17:43:50.966Z"
   },
   {
    "duration": 8,
    "start_time": "2024-11-01T17:44:18.794Z"
   },
   {
    "duration": 13694,
    "start_time": "2024-11-01T17:44:32.833Z"
   },
   {
    "duration": 13972,
    "start_time": "2024-11-01T17:44:46.808Z"
   },
   {
    "duration": 3,
    "start_time": "2024-11-01T17:45:00.783Z"
   },
   {
    "duration": 33687,
    "start_time": "2024-11-01T17:45:30.818Z"
   },
   {
    "duration": 34362,
    "start_time": "2024-11-01T17:46:04.506Z"
   },
   {
    "duration": 4,
    "start_time": "2024-11-01T17:46:38.869Z"
   },
   {
    "duration": 1592,
    "start_time": "2024-11-01T17:46:43.418Z"
   },
   {
    "duration": 1689,
    "start_time": "2024-11-01T17:47:06.517Z"
   },
   {
    "duration": 3,
    "start_time": "2024-11-01T17:47:22.539Z"
   },
   {
    "duration": 15,
    "start_time": "2024-11-01T17:47:35.295Z"
   },
   {
    "duration": 4,
    "start_time": "2024-11-01T17:49:46.548Z"
   },
   {
    "duration": 3796,
    "start_time": "2024-11-01T17:50:02.125Z"
   },
   {
    "duration": 3867,
    "start_time": "2024-11-01T17:50:12.726Z"
   },
   {
    "duration": 7,
    "start_time": "2024-11-01T17:51:10.538Z"
   },
   {
    "duration": 9,
    "start_time": "2024-11-01T17:51:10.547Z"
   },
   {
    "duration": 4,
    "start_time": "2024-11-01T17:52:32.104Z"
   },
   {
    "duration": 5,
    "start_time": "2024-11-01T17:52:32.531Z"
   },
   {
    "duration": 7,
    "start_time": "2024-11-01T17:52:36.576Z"
   },
   {
    "duration": 4,
    "start_time": "2024-11-01T17:52:45.091Z"
   },
   {
    "duration": 1394,
    "start_time": "2024-11-01T18:27:16.570Z"
   },
   {
    "duration": 841,
    "start_time": "2024-11-01T18:27:17.966Z"
   },
   {
    "duration": 698,
    "start_time": "2024-11-01T18:27:18.808Z"
   },
   {
    "duration": 234,
    "start_time": "2024-11-01T18:27:19.508Z"
   },
   {
    "duration": 4,
    "start_time": "2024-11-01T18:27:19.744Z"
   },
   {
    "duration": 12,
    "start_time": "2024-11-01T18:27:19.750Z"
   },
   {
    "duration": 23,
    "start_time": "2024-11-01T18:27:19.764Z"
   },
   {
    "duration": 42,
    "start_time": "2024-11-01T18:27:19.788Z"
   },
   {
    "duration": 29,
    "start_time": "2024-11-01T18:27:19.832Z"
   },
   {
    "duration": 13,
    "start_time": "2024-11-01T18:27:19.863Z"
   },
   {
    "duration": 14,
    "start_time": "2024-11-01T18:27:19.878Z"
   },
   {
    "duration": 310,
    "start_time": "2024-11-01T18:27:20.897Z"
   },
   {
    "duration": 359,
    "start_time": "2024-11-01T18:27:21.208Z"
   },
   {
    "duration": 275,
    "start_time": "2024-11-01T18:27:21.569Z"
   },
   {
    "duration": 453,
    "start_time": "2024-11-01T18:27:22.051Z"
   },
   {
    "duration": 410,
    "start_time": "2024-11-01T18:27:22.506Z"
   },
   {
    "duration": 22,
    "start_time": "2024-11-01T18:27:23.211Z"
   },
   {
    "duration": 248,
    "start_time": "2024-11-01T18:27:23.411Z"
   },
   {
    "duration": 17,
    "start_time": "2024-11-01T18:27:24.170Z"
   },
   {
    "duration": 15,
    "start_time": "2024-11-01T18:27:24.379Z"
   },
   {
    "duration": 3,
    "start_time": "2024-11-01T18:27:25.146Z"
   },
   {
    "duration": 4,
    "start_time": "2024-11-01T18:27:25.331Z"
   },
   {
    "duration": 3,
    "start_time": "2024-11-01T18:27:25.522Z"
   },
   {
    "duration": 3,
    "start_time": "2024-11-01T18:27:25.738Z"
   },
   {
    "duration": 6,
    "start_time": "2024-11-01T18:27:26.323Z"
   },
   {
    "duration": 8,
    "start_time": "2024-11-01T18:27:26.947Z"
   },
   {
    "duration": 13880,
    "start_time": "2024-11-01T18:27:27.538Z"
   },
   {
    "duration": 14019,
    "start_time": "2024-11-01T18:27:41.419Z"
   },
   {
    "duration": 4,
    "start_time": "2024-11-01T18:27:55.440Z"
   },
   {
    "duration": 33960,
    "start_time": "2024-11-01T18:27:55.447Z"
   },
   {
    "duration": 34550,
    "start_time": "2024-11-01T18:28:29.408Z"
   },
   {
    "duration": 3,
    "start_time": "2024-11-01T18:29:03.960Z"
   },
   {
    "duration": 1337,
    "start_time": "2024-11-01T18:29:03.964Z"
   },
   {
    "duration": 1695,
    "start_time": "2024-11-01T18:29:05.304Z"
   },
   {
    "duration": 3,
    "start_time": "2024-11-01T18:29:07.001Z"
   },
   {
    "duration": 21,
    "start_time": "2024-11-01T18:29:07.007Z"
   },
   {
    "duration": 35,
    "start_time": "2024-11-01T18:29:07.030Z"
   },
   {
    "duration": 7699,
    "start_time": "2024-11-01T18:29:07.067Z"
   },
   {
    "duration": 7,
    "start_time": "2024-11-01T18:29:14.768Z"
   },
   {
    "duration": 12,
    "start_time": "2024-11-01T18:29:14.776Z"
   },
   {
    "duration": 12,
    "start_time": "2024-11-01T18:29:14.790Z"
   },
   {
    "duration": 4,
    "start_time": "2024-11-01T18:29:14.804Z"
   },
   {
    "duration": 6,
    "start_time": "2024-11-01T18:29:14.810Z"
   },
   {
    "duration": 3,
    "start_time": "2024-11-01T18:29:14.817Z"
   },
   {
    "duration": 6,
    "start_time": "2024-11-01T18:41:19.898Z"
   },
   {
    "duration": 5,
    "start_time": "2024-11-01T18:41:29.126Z"
   },
   {
    "duration": 1424,
    "start_time": "2024-11-01T18:43:47.858Z"
   },
   {
    "duration": 758,
    "start_time": "2024-11-01T18:43:49.284Z"
   },
   {
    "duration": 714,
    "start_time": "2024-11-01T18:43:50.043Z"
   },
   {
    "duration": 224,
    "start_time": "2024-11-01T18:43:50.759Z"
   },
   {
    "duration": 4,
    "start_time": "2024-11-01T18:43:50.984Z"
   },
   {
    "duration": 16,
    "start_time": "2024-11-01T18:43:50.999Z"
   },
   {
    "duration": 6,
    "start_time": "2024-11-01T18:43:51.017Z"
   },
   {
    "duration": 14,
    "start_time": "2024-11-01T18:43:51.024Z"
   },
   {
    "duration": 29,
    "start_time": "2024-11-01T18:43:51.039Z"
   },
   {
    "duration": 33,
    "start_time": "2024-11-01T18:43:51.071Z"
   },
   {
    "duration": 14,
    "start_time": "2024-11-01T18:43:51.106Z"
   },
   {
    "duration": 323,
    "start_time": "2024-11-01T18:43:52.155Z"
   },
   {
    "duration": 334,
    "start_time": "2024-11-01T18:43:52.480Z"
   },
   {
    "duration": 266,
    "start_time": "2024-11-01T18:43:52.816Z"
   },
   {
    "duration": 389,
    "start_time": "2024-11-01T18:43:53.307Z"
   },
   {
    "duration": 400,
    "start_time": "2024-11-01T18:43:53.722Z"
   },
   {
    "duration": 22,
    "start_time": "2024-11-01T18:43:54.732Z"
   },
   {
    "duration": 264,
    "start_time": "2024-11-01T18:43:54.915Z"
   },
   {
    "duration": 16,
    "start_time": "2024-11-01T18:43:55.506Z"
   },
   {
    "duration": 12,
    "start_time": "2024-11-01T18:43:55.709Z"
   },
   {
    "duration": 4,
    "start_time": "2024-11-01T18:43:56.442Z"
   },
   {
    "duration": 4,
    "start_time": "2024-11-01T18:43:56.625Z"
   },
   {
    "duration": 3,
    "start_time": "2024-11-01T18:43:56.817Z"
   },
   {
    "duration": 3,
    "start_time": "2024-11-01T18:43:57.001Z"
   },
   {
    "duration": 5,
    "start_time": "2024-11-01T18:43:57.562Z"
   },
   {
    "duration": 8,
    "start_time": "2024-11-01T18:43:58.122Z"
   },
   {
    "duration": 13907,
    "start_time": "2024-11-01T18:43:58.652Z"
   },
   {
    "duration": 13983,
    "start_time": "2024-11-01T18:44:12.561Z"
   },
   {
    "duration": 3,
    "start_time": "2024-11-01T18:44:26.546Z"
   },
   {
    "duration": 33997,
    "start_time": "2024-11-01T18:44:26.551Z"
   },
   {
    "duration": 34499,
    "start_time": "2024-11-01T18:45:00.550Z"
   },
   {
    "duration": 3,
    "start_time": "2024-11-01T18:45:35.051Z"
   },
   {
    "duration": 1553,
    "start_time": "2024-11-01T18:45:35.055Z"
   },
   {
    "duration": 1691,
    "start_time": "2024-11-01T18:45:36.610Z"
   },
   {
    "duration": 96,
    "start_time": "2024-11-01T18:45:38.304Z"
   },
   {
    "duration": 15,
    "start_time": "2024-11-01T18:45:38.403Z"
   },
   {
    "duration": 3,
    "start_time": "2024-11-01T18:45:38.420Z"
   },
   {
    "duration": 7768,
    "start_time": "2024-11-01T18:45:38.424Z"
   },
   {
    "duration": 7,
    "start_time": "2024-11-01T18:45:46.194Z"
   },
   {
    "duration": 11,
    "start_time": "2024-11-01T18:45:46.203Z"
   },
   {
    "duration": 20,
    "start_time": "2024-11-01T18:45:46.216Z"
   },
   {
    "duration": 8,
    "start_time": "2024-11-01T18:45:46.238Z"
   },
   {
    "duration": 25,
    "start_time": "2024-11-01T18:45:46.248Z"
   },
   {
    "duration": 18,
    "start_time": "2024-11-01T18:45:46.275Z"
   },
   {
    "duration": 55,
    "start_time": "2024-11-02T05:57:30.013Z"
   },
   {
    "duration": 1786,
    "start_time": "2024-11-02T05:57:38.948Z"
   },
   {
    "duration": 3475,
    "start_time": "2024-11-02T05:57:40.736Z"
   },
   {
    "duration": 751,
    "start_time": "2024-11-02T05:57:44.213Z"
   },
   {
    "duration": 253,
    "start_time": "2024-11-02T05:57:44.965Z"
   },
   {
    "duration": 4,
    "start_time": "2024-11-02T05:57:45.220Z"
   },
   {
    "duration": 41,
    "start_time": "2024-11-02T05:57:45.225Z"
   },
   {
    "duration": 27,
    "start_time": "2024-11-02T05:57:45.268Z"
   },
   {
    "duration": 21,
    "start_time": "2024-11-02T05:57:45.296Z"
   },
   {
    "duration": 49,
    "start_time": "2024-11-02T05:57:45.319Z"
   },
   {
    "duration": 15,
    "start_time": "2024-11-02T05:57:45.370Z"
   },
   {
    "duration": 114,
    "start_time": "2024-11-02T05:57:45.387Z"
   },
   {
    "duration": 326,
    "start_time": "2024-11-02T05:57:45.714Z"
   },
   {
    "duration": 372,
    "start_time": "2024-11-02T05:57:46.678Z"
   },
   {
    "duration": 305,
    "start_time": "2024-11-02T05:57:47.052Z"
   },
   {
    "duration": 452,
    "start_time": "2024-11-02T05:57:47.903Z"
   },
   {
    "duration": 418,
    "start_time": "2024-11-02T05:57:48.357Z"
   },
   {
    "duration": 22,
    "start_time": "2024-11-02T05:57:49.400Z"
   },
   {
    "duration": 273,
    "start_time": "2024-11-02T05:57:49.623Z"
   },
   {
    "duration": 17,
    "start_time": "2024-11-02T05:57:53.504Z"
   },
   {
    "duration": 86,
    "start_time": "2024-11-02T05:57:55.640Z"
   },
   {
    "duration": 12,
    "start_time": "2024-11-02T05:58:19.161Z"
   },
   {
    "duration": 12,
    "start_time": "2024-11-02T05:58:38.133Z"
   },
   {
    "duration": 11,
    "start_time": "2024-11-02T05:58:47.793Z"
   },
   {
    "duration": 20,
    "start_time": "2024-11-02T06:00:57.756Z"
   },
   {
    "duration": 321,
    "start_time": "2024-11-02T06:01:01.892Z"
   },
   {
    "duration": 392,
    "start_time": "2024-11-02T06:01:06.460Z"
   },
   {
    "duration": 318,
    "start_time": "2024-11-02T06:01:08.427Z"
   },
   {
    "duration": 406,
    "start_time": "2024-11-02T06:01:14.569Z"
   },
   {
    "duration": 415,
    "start_time": "2024-11-02T06:01:19.773Z"
   },
   {
    "duration": 23,
    "start_time": "2024-11-02T06:01:22.035Z"
   },
   {
    "duration": 269,
    "start_time": "2024-11-02T06:01:22.716Z"
   },
   {
    "duration": 3,
    "start_time": "2024-11-02T06:01:29.683Z"
   },
   {
    "duration": 3,
    "start_time": "2024-11-02T06:01:31.084Z"
   },
   {
    "duration": 4,
    "start_time": "2024-11-02T06:02:47.242Z"
   },
   {
    "duration": 3,
    "start_time": "2024-11-02T06:02:47.734Z"
   },
   {
    "duration": 3,
    "start_time": "2024-11-02T06:02:48.181Z"
   },
   {
    "duration": 3,
    "start_time": "2024-11-02T06:02:48.620Z"
   },
   {
    "duration": 7,
    "start_time": "2024-11-02T06:03:13.268Z"
   },
   {
    "duration": 9,
    "start_time": "2024-11-02T06:03:21.934Z"
   },
   {
    "duration": 15514,
    "start_time": "2024-11-02T06:03:23.253Z"
   },
   {
    "duration": 15740,
    "start_time": "2024-11-02T06:03:38.769Z"
   },
   {
    "duration": 3,
    "start_time": "2024-11-02T06:03:54.511Z"
   },
   {
    "duration": 39222,
    "start_time": "2024-11-02T06:04:01.055Z"
   },
   {
    "duration": 40856,
    "start_time": "2024-11-02T06:04:40.280Z"
   },
   {
    "duration": 3,
    "start_time": "2024-11-02T06:05:21.138Z"
   },
   {
    "duration": 2527,
    "start_time": "2024-11-02T06:05:44.530Z"
   },
   {
    "duration": 3096,
    "start_time": "2024-11-02T06:05:47.068Z"
   },
   {
    "duration": 5,
    "start_time": "2024-11-02T06:05:52.555Z"
   },
   {
    "duration": 11,
    "start_time": "2024-11-02T06:06:19.688Z"
   },
   {
    "duration": 4,
    "start_time": "2024-11-02T06:06:45.710Z"
   },
   {
    "duration": 9063,
    "start_time": "2024-11-02T06:06:46.161Z"
   },
   {
    "duration": 6,
    "start_time": "2024-11-02T06:06:55.226Z"
   },
   {
    "duration": 22,
    "start_time": "2024-11-02T06:06:55.234Z"
   },
   {
    "duration": 6,
    "start_time": "2024-11-02T06:07:17.164Z"
   },
   {
    "duration": 4,
    "start_time": "2024-11-02T06:07:24.089Z"
   },
   {
    "duration": 7,
    "start_time": "2024-11-02T06:07:24.300Z"
   },
   {
    "duration": 4,
    "start_time": "2024-11-02T06:07:24.505Z"
   }
  ],
  "kernelspec": {
   "display_name": "Python 3 (ipykernel)",
   "language": "python",
   "name": "python3"
  },
  "language_info": {
   "codemirror_mode": {
    "name": "ipython",
    "version": 3
   },
   "file_extension": ".py",
   "mimetype": "text/x-python",
   "name": "python",
   "nbconvert_exporter": "python",
   "pygments_lexer": "ipython3",
   "version": "3.12.4"
  },
  "toc": {
   "base_numbering": 1,
   "nav_menu": {},
   "number_sections": false,
   "sideBar": true,
   "skip_h1_title": false,
   "title_cell": "Содержание",
   "title_sidebar": "Contents",
   "toc_cell": true,
   "toc_position": {
    "height": "calc(100% - 180px)",
    "left": "10px",
    "top": "150px",
    "width": "344px"
   },
   "toc_section_display": true,
   "toc_window_display": true
  }
 },
 "nbformat": 4,
 "nbformat_minor": 4
}
